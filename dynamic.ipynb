{
 "cells": [
  {
   "cell_type": "code",
   "id": "eefe79d5-9504-4707-a647-43955a181c1b",
   "metadata": {
    "ExecuteTime": {
     "end_time": "2025-06-06T18:56:22.562102Z",
     "start_time": "2025-06-06T18:56:22.559697Z"
    }
   },
   "source": [
    "import matplotlib.pyplot as plt \n",
    "import numpy as np\n",
    "from scipy.interpolate import make_interp_spline\n",
    "import main"
   ],
   "outputs": [],
   "execution_count": 20
  },
  {
   "cell_type": "code",
   "id": "3eed0d14-556e-4418-807d-04008cbae14c",
   "metadata": {
    "ExecuteTime": {
     "end_time": "2025-06-06T18:56:22.579241Z",
     "start_time": "2025-06-06T18:56:22.572913Z"
    }
   },
   "source": [
    "n1, n2, n3 = 0.9218, 0.9582, 0.9475\n",
    "MM_pnsh, MM_s = 76.16, 32.065\n",
    "\n",
    "average        = (n1 + n2 + n3) / 3\n",
    "mix_pnsh   = average * (MM_pnsh / MM_s)\n",
    "print(average)\n",
    "print(f'Концентрация тиола в октане: {mix_pnsh:.3f} % масс')"
   ],
   "outputs": [
    {
     "name": "stdout",
     "output_type": "stream",
     "text": [
      "0.9424999999999999\n",
      "Концентрация тиола в октане: 2.239 % масс\n"
     ]
    }
   ],
   "execution_count": 21
  },
  {
   "cell_type": "code",
   "id": "909f2502-10d7-49a4-996b-61903fe97097",
   "metadata": {
    "ExecuteTime": {
     "end_time": "2025-06-06T18:56:22.603850Z",
     "start_time": "2025-06-06T18:56:22.598848Z"
    }
   },
   "source": [
    "print('-----------#1я проба кинетика 15 минут-----------')\n",
    "m1_flask = 16.3713 # gm\n",
    "m1_cap = 1.5 # gm\n",
    "\n",
    "m1_aqueous_phase = 26.9285 - m1_flask\n",
    "print(f'Воды: {m1_aqueous_phase:.5g} грамм, +/- 10 мл')\n",
    "\n",
    "m1_liquid_phase = 35.3967 - m1_aqueous_phase - m1_flask - m1_cap\n",
    "print(f'Октана с пропантиолом: {m1_liquid_phase:.5g} грамм, +/- 10 мл')\n",
    "print(f'Из них:')\n",
    "m1_pnsh = mix_pnsh/100 * m1_liquid_phase\n",
    "print(f'{m1_pnsh:.5g} пропантиола, грамм')\n",
    "m1_oct = (1 - mix_pnsh/100) * m1_liquid_phase\n",
    "print(f'{m1_oct:.5g} октана, грамм')\n",
    "\n",
    "print('-----------#При равновесии баланс по октану-----------')\n",
    "frac_lp_1 = 0.1318125\n",
    "equ_m1_liquid_phase = m1_oct * (frac_lp_1/100)\n",
    "print(f'{equ_m1_liquid_phase:.5g} грамм пропантиола в октане')\n",
    "equ_m1_aqueous_phase = m1_pnsh - equ_m1_liquid_phase\n",
    "print(f'{equ_m1_aqueous_phase:.5g} грамм пропантиола в воде')\n",
    "frac1 = equ_m1_aqueous_phase / m1_aqueous_phase * 100\n",
    "print(f'{frac1:.5g} % масс пропантиола в воде (Титрование показало: 1.2789375)')\n",
    "frac_ap_1 = 1.2789375\n",
    "sum = equ_m1_liquid_phase + equ_m1_aqueous_phase\n",
    "print('Мат баланс:')\n",
    "print(f'до {m1_pnsh:.5g} после {sum:.5g} пропантиола, грамм')"
   ],
   "outputs": [
    {
     "name": "stdout",
     "output_type": "stream",
     "text": [
      "-----------#1я проба кинетика 15 минут-----------\n",
      "Воды: 10.557 грамм, +/- 10 мл\n",
      "Октана с пропантиолом: 6.9682 грамм, +/- 10 мл\n",
      "Из них:\n",
      "0.15599 пропантиола, грамм\n",
      "6.8122 октана, грамм\n",
      "-----------#При равновесии баланс по октану-----------\n",
      "0.0089793 грамм пропантиола в октане\n",
      "0.14701 грамм пропантиола в воде\n",
      "1.3925 % масс пропантиола в воде (Титрование показало: 1.2789375)\n",
      "Мат баланс:\n",
      "до 0.15599 после 0.15599 пропантиола, грамм\n"
     ]
    }
   ],
   "execution_count": 22
  },
  {
   "cell_type": "code",
   "id": "d0d0e452-4c94-43bc-97a8-22c116073ff4",
   "metadata": {
    "ExecuteTime": {
     "end_time": "2025-06-06T18:56:22.624396Z",
     "start_time": "2025-06-06T18:56:22.620396Z"
    }
   },
   "source": [
    "print('-----------#2я проба кинетика 30 минут-----------')\n",
    "m2_flask = 16.6922 # gm\n",
    "m2_cap = 1.5 # gm\n",
    "\n",
    "m2_aqueous_phase = 27.3326 - m2_flask\n",
    "print(f'Воды: {m2_aqueous_phase:.5g} грамм, +/- 10 мл')\n",
    "m2_liquid_phase = 35.9484 - m2_aqueous_phase - m2_flask - m2_cap\n",
    "print(f'Октана с пропантиолом: {m2_liquid_phase:.5g} грамм, +/- 10 мл')\n",
    "print(f'из них:')\n",
    "m2_pnsh = mix_pnsh/100 * m2_liquid_phase\n",
    "print(f'{m2_pnsh:.5g} пропантиола, грамм')\n",
    "m2_oct = (1 - mix_pnsh/100) * m2_liquid_phase\n",
    "print(f'{m2_oct:.5g} октана, грамм')\n",
    "\n",
    "print('-----------#При равновесии баланс по октану-----------')\n",
    "frac_lp_2 = 0.1007\n",
    "equ_m2_liquid_phase = m2_liquid_phase * (frac_lp_2 / 100)\n",
    "print(f'{equ_m2_liquid_phase:.5g} грамм пропантиола в октане')\n",
    "equ_m2_aqueous_phase = m2_pnsh - equ_m2_liquid_phase\n",
    "print(f'{equ_m2_aqueous_phase:.5g} грамм пропантиола в воде')\n",
    "frac2 = equ_m2_aqueous_phase / m2_aqueous_phase * 100\n",
    "print(f'{frac2:.5g} % масс пропантиола в воде (Титрование показало: 1.2789375)')\n",
    "frac_ap_2 = 1.2789375\n",
    "\n",
    "sum = equ_m2_liquid_phase + equ_m2_aqueous_phase\n",
    "print('Мат баланс:')\n",
    "print(f'до {m2_pnsh:.5g} после {sum:.5g} пропантиола, грамм')"
   ],
   "outputs": [
    {
     "name": "stdout",
     "output_type": "stream",
     "text": [
      "-----------#2я проба кинетика 30 минут-----------\n",
      "Воды: 10.64 грамм, +/- 10 мл\n",
      "Октана с пропантиолом: 7.1158 грамм, +/- 10 мл\n",
      "из них:\n",
      "0.15929 пропантиола, грамм\n",
      "6.9565 октана, грамм\n",
      "-----------#При равновесии баланс по октану-----------\n",
      "0.0071656 грамм пропантиола в октане\n",
      "0.15213 грамм пропантиола в воде\n",
      "1.4297 % масс пропантиола в воде (Титрование показало: 1.2789375)\n",
      "Мат баланс:\n",
      "до 0.15929 после 0.15929 пропантиола, грамм\n"
     ]
    }
   ],
   "execution_count": 23
  },
  {
   "cell_type": "code",
   "id": "04afecda-965c-4f69-9632-475caacfad97",
   "metadata": {
    "ExecuteTime": {
     "end_time": "2025-06-06T18:56:22.665568Z",
     "start_time": "2025-06-06T18:56:22.661234Z"
    }
   },
   "source": [
    "print('-----------#3я проба кинетика 60 минут-----------')\n",
    "m3_flask = 16.5520 # gm\n",
    "m3_cap = 1.4755 # gm\n",
    "\n",
    "m3_aqueous_phase = 27.0898 - m3_flask\n",
    "print(f'Воды: {m3_aqueous_phase:.5g} грамм, +/- 10 мл')\n",
    "m3_liquid_phase = 35.5975 - m3_aqueous_phase - m3_flask - m3_cap\n",
    "print(f'Октана с пропантиолом: {m3_liquid_phase:.5g} грамм, +/- 10 мл')\n",
    "print(f'из них:')\n",
    "m3_pnsh = mix_pnsh/100 * m3_liquid_phase\n",
    "print(f'{m3_pnsh:.5g} пропантиола, грамм')\n",
    "m3_oct = (1 - mix_pnsh/100) * m3_liquid_phase\n",
    "print(f'{m3_oct:.5g} октана, грамм')\n",
    "\n",
    "print('-----------#При равновесии баланс по октану-----------')\n",
    "frac_lp_3 = 0.1014125\n",
    "equ_m3_liquid_phase = m3_oct * (frac_lp_3/100)\n",
    "print(f'{equ_m3_liquid_phase:.5g} грамм пропантиола в октане')\n",
    "equ_m3_aqueous_phase = m3_pnsh - equ_m3_liquid_phase\n",
    "print(f'{equ_m3_aqueous_phase:.5g} грамм пропантиола в воде')\n",
    "frac3 = equ_m3_aqueous_phase / m3_aqueous_phase * 100\n",
    "print(f'{frac3:.5g} % масс пропантиола в воде (Титрование показало: 1.3264375)')\n",
    "frac_ap_3 = 1.3264375\n",
    "\n",
    "sum = equ_m3_liquid_phase + equ_m3_aqueous_phase\n",
    "print('Мат баланс:')\n",
    "print(f'до {m3_pnsh:.5g} после {sum:.5g} пропантиола, грамм')"
   ],
   "outputs": [
    {
     "name": "stdout",
     "output_type": "stream",
     "text": [
      "-----------#3я проба кинетика 60 минут-----------\n",
      "Воды: 10.538 грамм, +/- 10 мл\n",
      "Октана с пропантиолом: 7.0322 грамм, +/- 10 мл\n",
      "из них:\n",
      "0.15742 пропантиола, грамм\n",
      "6.8748 октана, грамм\n",
      "-----------#При равновесии баланс по октану-----------\n",
      "0.0069719 грамм пропантиола в октане\n",
      "0.15045 грамм пропантиола в воде\n",
      "1.4277 % масс пропантиола в воде (Титрование показало: 1.3264375)\n",
      "Мат баланс:\n",
      "до 0.15742 после 0.15742 пропантиола, грамм\n"
     ]
    }
   ],
   "execution_count": 24
  },
  {
   "cell_type": "code",
   "id": "1a6e98b9-0516-404e-b036-f25202b9f62d",
   "metadata": {
    "ExecuteTime": {
     "end_time": "2025-06-06T18:56:22.694382Z",
     "start_time": "2025-06-06T18:56:22.690384Z"
    }
   },
   "source": [
    "print('-----------#интенсивное перемешивание-----------')\n",
    "m4_flask = 16.3955 # gm\n",
    "m4_cap = 1.4926 # gm\n",
    "\n",
    "m4_aqueous_phase = 26.9896 - m4_flask\n",
    "print(f'Воды: {m4_aqueous_phase:.5g} грамм, +/- 10 мл')\n",
    "m4_liquid_phase = 35.5302 - m4_aqueous_phase - m4_flask - m4_cap\n",
    "print(f'Октана с пропантиолом: {m4_liquid_phase:.5g} грамм, +/- 10 мл')\n",
    "print(f'из них:')\n",
    "m4_pnsh = mix_pnsh/100 * m4_liquid_phase\n",
    "print(f'{m4_pnsh:.5g} пропантиола, грамм')\n",
    "m4_oct = (1 - mix_pnsh/100) * m4_liquid_phase\n",
    "print(f'{m4_oct:.5g} октана, грамм')\n",
    "\n",
    "print('-----------#При равновесии баланс по октану-----------')\n",
    "frac_lp_4 = 0.114425\n",
    "equ_m4_liquid_phase = m4_oct * (frac_lp_4/100)\n",
    "print(f'{equ_m4_liquid_phase:.5g} грамм пропантиола в октане')\n",
    "equ_m4_aqueous_phase = m4_pnsh - equ_m4_liquid_phase\n",
    "print(f'{equ_m4_aqueous_phase:.5g} грамм пропантиола в воде')\n",
    "frac4 = equ_m4_aqueous_phase / m4_aqueous_phase * 100\n",
    "print(f'{frac4:.5g} % масс пропантиола в воде (Без титрования)')\n",
    "frac_ap_4 = 1.3264375\n",
    "\n",
    "sum = equ_m4_liquid_phase + equ_m4_aqueous_phase\n",
    "print('Мат баланс:')\n",
    "print(f'до {m4_pnsh:.5g} после {sum:.5g} пропантиола, грамм')"
   ],
   "outputs": [
    {
     "name": "stdout",
     "output_type": "stream",
     "text": [
      "-----------#интенсивное перемешивание-----------\n",
      "Воды: 10.594 грамм, +/- 10 мл\n",
      "Октана с пропантиолом: 7.048 грамм, +/- 10 мл\n",
      "из них:\n",
      "0.15778 пропантиола, грамм\n",
      "6.8902 октана, грамм\n",
      "-----------#При равновесии баланс по октану-----------\n",
      "0.0078841 грамм пропантиола в октане\n",
      "0.14989 грамм пропантиола в воде\n",
      "1.4149 % масс пропантиола в воде (Без титрования)\n",
      "Мат баланс:\n",
      "до 0.15778 после 0.15778 пропантиола, грамм\n"
     ]
    }
   ],
   "execution_count": 25
  },
  {
   "cell_type": "code",
   "id": "1c3b78bc-e98b-455a-9f78-fcb68df28b5d",
   "metadata": {
    "ExecuteTime": {
     "end_time": "2025-06-06T18:56:22.829993Z",
     "start_time": "2025-06-06T18:56:22.717815Z"
    }
   },
   "source": [
    "def mm_to_inch(mm):\n",
    "    return mm / 25.4\n",
    "\n",
    "plt.rcParams.update({\n",
    "    'font.family': 'sans-serif',\n",
    "    'font.sans-serif': ['Arial', 'Helvetica'],\n",
    "    'font.size': 7,\n",
    "    'axes.linewidth': 0.5,\n",
    "    'xtick.direction': 'in',\n",
    "    'ytick.direction': 'in',\n",
    "    'xtick.major.size': 3,\n",
    "    'ytick.major.size': 3,\n",
    "    'figure.dpi': 300,\n",
    "    'axes.grid': False,\n",
    "    'lines.linewidth': 1.0,\n",
    "    'axes.prop_cycle': plt.cycler('color', ['#0072B2', '#D55E00', '#CC79A7', '#F0E442'])\n",
    "})\n",
    "\n",
    "t = np.array([0, 15, 30, 60, 120])\n",
    "x_hysys1 = np.array([1.405461, 1.405461, 1.405461, 1.405461, 1.405461])\n",
    "y_hysys1 = np.array([0.098364, 0.098364, 0.098364, 0.098364, 0.098364])\n",
    "\n",
    "x1_cor = np.array([0, frac1, frac2, frac3, frac4])\n",
    "x1 = np.array([0, frac_ap_1, frac_ap_2, frac_ap_3, frac_ap_4])\n",
    "y1 = np.array([mix_pnsh, frac_lp_1, frac_lp_2, frac_lp_3, frac_lp_4])\n",
    "\n",
    "fig_width_mm = 89\n",
    "fig_height_mm = 60\n",
    "fig, ax = plt.subplots(figsize=(mm_to_inch(fig_width_mm), mm_to_inch(fig_height_mm)))\n",
    "\n",
    "#ax.set_xlim(0.146, 0.153)\n",
    "#ax.set_ylim(0.0001, 0.10) \n",
    "\n",
    "ax.plot(t, y_hysys1, label='Линия равновесия hysys', color='Black', linestyle='--')\n",
    "ax.scatter(t, y1, label='PnSH (орг. фаза) exp', color='Blue', marker='v')\n",
    "\n",
    "ax.plot(t, x_hysys1, color='Black', linestyle='--')\n",
    "ax.scatter(t, x1, label='PnSH (вод. фаза) exp', color='Red', marker='o')\n",
    "ax.scatter(t, x1_cor, label='PnSH (баланс по огр. фазе)', color='Green', marker='o')\n",
    "\n",
    "ax.set_xlabel('Время, мин')\n",
    "ax.set_ylabel('Концентрация, %масс')\n",
    "leg = ax.legend(frameon=False, fontsize=6)\n",
    "\n",
    "plt.tight_layout()\n"
   ],
   "outputs": [
    {
     "data": {
      "text/plain": [
       "<Figure size 1051.18x708.661 with 1 Axes>"
      ],
      "image/png": "[encoded data removed]"
     },
     "metadata": {},
     "output_type": "display_data"
    }
   ],
   "execution_count": 26
  },
  {
   "cell_type": "code",
   "id": "d7723220-33c4-497f-9e7f-1ccb6bcb7c40",
   "metadata": {
    "ExecuteTime": {
     "end_time": "2025-06-06T18:56:22.843763Z",
     "start_time": "2025-06-06T18:56:22.840452Z"
    }
   },
   "source": [
    "print(f'Органическая фаза hysys:      {y_hysys1}')\n",
    "print(f'Органическая фаза эксперимент:{y1}')\n",
    "#error_liquid_phase = (y_hysys1 - y1) / y1 * 100\n",
    "#print(f'Относительная погрешность:    {error_liquid_phase}')\n",
    "\n",
    "print(f'Водная фаза hysys:      {x_hysys1}')\n",
    "print(f'Водная фаза эксперимент:{x1_cor}')\n",
    "#error_aqueous_phase = (x_hysys1 - x1) / x1 * 100\n",
    "#print(f'Относительная погрешность:    {error_aqueous_phase}')"
   ],
   "outputs": [
    {
     "name": "stdout",
     "output_type": "stream",
     "text": [
      "Органическая фаза hysys:      [0.098364 0.098364 0.098364 0.098364 0.098364]\n",
      "Органическая фаза эксперимент:[2.23860284 0.1318125  0.1007     0.1014125  0.114425  ]\n",
      "Водная фаза hysys:      [1.405461 1.405461 1.405461 1.405461 1.405461]\n",
      "Водная фаза эксперимент:[0.         1.39251865 1.42972905 1.42772823 1.41486856]\n"
     ]
    }
   ],
   "execution_count": 27
  }
 ],
 "metadata": {
  "kernelspec": {
   "display_name": "Python 3 (ipykernel)",
   "language": "python",
   "name": "python3"
  },
  "language_info": {
   "codemirror_mode": {
    "name": "ipython",
    "version": 3
   },
   "file_extension": ".py",
   "mimetype": "text/x-python",
   "name": "python",
   "nbconvert_exporter": "python",
   "pygments_lexer": "ipython3",
   "version": "3.12.5"
  }
 },
 "nbformat": 4,
 "nbformat_minor": 5
}
