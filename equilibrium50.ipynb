{
 "cells": [
  {
   "cell_type": "code",
   "id": "initial_id",
   "metadata": {
    "ExecuteTime": {
     "end_time": "2025-06-18T17:47:43.986835Z",
     "start_time": "2025-06-18T17:47:43.737397Z"
    }
   },
   "source": [
    "import matplotlib.pyplot as plt\n",
    "import numpy as np\n",
    "import main"
   ],
   "outputs": [],
   "execution_count": 1
  },
  {
   "cell_type": "code",
   "id": "288f540ce7749290",
   "metadata": {
    "ExecuteTime": {
     "end_time": "2025-06-18T17:47:44.107578Z",
     "start_time": "2025-06-18T17:47:44.103679Z"
    }
   },
   "source": [
    "n = np.array([0.9424, 0.9582, 0.9475])\n",
    "MW_pnsh, MW_s, MW_NaOH = 76.16, 32.065, 39.9971\n",
    "\n",
    "average = np.average(n)\n",
    "\n",
    "feed_pnsh_frac = average * (MW_pnsh / MW_s)\n",
    "print(f'Концентрация тиола в октане: {feed_pnsh_frac:.5f} % масс')\n",
    "\n",
    "C_pnsh = (feed_pnsh_frac/100) * 661.2 / MW_pnsh\n",
    "print(f'Концентрация пропантиола в воде: {C_pnsh:.5g} моль/л')"
   ],
   "outputs": [
    {
     "name": "stdout",
     "output_type": "stream",
     "text": [
      "Концентрация тиола в октане: 2.25491 % масс\n",
      "Концентрация пропантиола в воде: 0.19577 моль/л\n"
     ]
    }
   ],
   "execution_count": 2
  },
  {
   "cell_type": "code",
   "id": "ba304fa02312e238",
   "metadata": {
    "ExecuteTime": {
     "end_time": "2025-06-18T17:47:44.128853Z",
     "start_time": "2025-06-18T17:47:44.124345Z"
    }
   },
   "source": [
    "print(f'Чистая вода')\n",
    "print(f'50')\n",
    "exp_50 = main.exp_calc(16.1890, 1.4767, 26.3136, 34.9207, feed_pnsh_frac, 0.9393)\n",
    "\n",
    "print('-----------#При равновесии по hysys-----------')\n",
    "equilibrium_aqueous_phase_mass_hysys_50, frac_aqueous_phase_hysys_50 = 0.001452, 0.014337\n",
    "print(f'{equilibrium_aqueous_phase_mass_hysys_50:.5g} грамм, {frac_aqueous_phase_hysys_50:.5g} % масс пропантиола в воде')\n",
    "equilibrium_liquid_phase_mass_hysys_50, frac_liquid_phase_hysys_50 = 0.1593, 2.234374\n",
    "print(f'{equilibrium_liquid_phase_mass_hysys_50:.5g} грамм, {frac_liquid_phase_hysys_50:.5g} % масс пропантиола в октане')\n",
    "\n",
    "pnsh_frac_aqueous_phase_50 = exp_50[0] / 100\n",
    "rho_aqueous_phase_50 = 988.1\n",
    "C_pnsh_on_aqueous_phase_50 = pnsh_frac_aqueous_phase_50 * rho_aqueous_phase_50 / MW_pnsh\n",
    "print(f'Концентрация пропантиола в воде: {C_pnsh_on_aqueous_phase_50:.5g} моль/л')\n",
    "\n",
    "pnsh_frac_liquid_phase_50 = exp_50[1] / 100\n",
    "rho_liquid_phase_50 = 661.2\n",
    "C_pnsh_on_liquid_phase_50 = pnsh_frac_liquid_phase_50 * rho_liquid_phase_50 / MW_pnsh\n",
    "print(f'Концентрация пропантиола в октане: {C_pnsh_on_liquid_phase_50:.5g} моль/л')\n",
    "m0 = C_pnsh_on_liquid_phase_50 / C_pnsh_on_aqueous_phase_50\n",
    "print(f'Коэффициент распределения: {m0:.2g}')\n",
    "\n",
    "pnsh_frac_aqueous_phase_50_hysys = frac_aqueous_phase_hysys_50 / 100\n",
    "C_pnsh_on_aqueous_phase_50_hysys = pnsh_frac_aqueous_phase_50_hysys * rho_aqueous_phase_50 / MW_pnsh\n",
    "print(f'Концентрация пропантиола в воде: {C_pnsh_on_aqueous_phase_50_hysys:.5g} моль/л (hysys)')\n",
    "\n",
    "pnsh_frac_liquid_phase_50_hysys = frac_liquid_phase_hysys_50 / 100\n",
    "C_pnsh_on_liquid_phase_50_hysys = pnsh_frac_liquid_phase_50 * rho_liquid_phase_50 / MW_pnsh\n",
    "print(f'Концентрация пропантиола в октане: {C_pnsh_on_liquid_phase_50_hysys:.5g} моль/л (hysys)')\n",
    "m0_hysys = C_pnsh_on_liquid_phase_50_hysys / C_pnsh_on_aqueous_phase_50_hysys\n",
    "print(f'Коэффициент распределения: {m0_hysys:.2g} (hysys)')"
   ],
   "outputs": [
    {
     "name": "stdout",
     "output_type": "stream",
     "text": [
      "Чистая вода\n",
      "50\n",
      "-----------#Исходнй состав-----------\n",
      "-----------Водная фаза - 10.125, грамм:\n",
      "Вода: 10.125 грамм,  100 % мас.\n",
      "-----------Органическая фаза фаза - 7.1304 грамм:\n",
      "Октан 6.9696, грамм,  97.745 % мас.\n",
      "Пропантиол 0.16078, грамм,  2.2549 % мас.\n",
      "-----------#Равновесный состав-----------\n",
      "-----------Водная фаза - 10.126, грамм:\n",
      "Вода 10.125 грамм, 99.983 % мас.\n",
      "Пропантиол 0.0017049 грамм, 0.016839 % мас.\n",
      "-----------Органическая фаза фаза - 7.1287 грамм:\n",
      "Октан 6.9696 грамм, 97.768 % мас.\n",
      "Пропантиол 0.15908 грамм, 2.231 % мас.\n",
      "-----------#При равновесии по hysys-----------\n",
      "0.001452 грамм, 0.014337 % масс пропантиола в воде\n",
      "0.1593 грамм, 2.2344 % масс пропантиола в октане\n",
      "Концентрация пропантиола в воде: 0.0021847 моль/л\n",
      "Концентрация пропантиола в октане: 0.19369 моль/л\n",
      "Коэффициент распределения: 89\n",
      "Концентрация пропантиола в воде: 0.0018601 моль/л (hysys)\n",
      "Концентрация пропантиола в октане: 0.19369 моль/л (hysys)\n",
      "Коэффициент распределения: 1e+02 (hysys)\n"
     ]
    }
   ],
   "execution_count": 3
  },
  {
   "cell_type": "code",
   "id": "f58c1b0c743eb8b6",
   "metadata": {
    "ExecuteTime": {
     "end_time": "2025-06-18T17:47:44.142292Z",
     "start_time": "2025-06-18T17:47:44.137224Z"
    }
   },
   "source": [
    "print(f'1% NaOH')\n",
    "print(f'50')\n",
    "exp_1_50 = main.exp_calc(16.1503, 1.4876, 26.5099, 35.1169, feed_pnsh_frac, 0.5227)\n",
    "\n",
    "print('-----------#При равновесии по hysys-----------')\n",
    "equilibrium_aqueous_phase_mass_hysys_1_50, frac_aqueous_phase_hysys_1_50 = 0.0741, 0.710295\n",
    "print(f'{equilibrium_aqueous_phase_mass_hysys_1_50:.5g} грамм, {frac_aqueous_phase_hysys_1_50:.5g} % масс пропантиола в воде')\n",
    "\n",
    "equilibrium_liquid_phase_mass_hysys_1_50, frac_liquid_phase_hysys_1_50 = 0.0864, 1.226537\n",
    "print(f'{equilibrium_liquid_phase_mass_hysys_1_50:.5g} грамм, {frac_liquid_phase_hysys_1_50:.5g} % масс пропантиола в октане')\n",
    "\n",
    "NaOH_frac_aqueous_phase_1_50 = 1 / 100\n",
    "rho_NaOH_1_50 = 1000\n",
    "C_NaOH_on_aqueous_phase_1_50 = NaOH_frac_aqueous_phase_1_50 * rho_NaOH_1_50 / MW_NaOH\n",
    "print(f'Концентрация NaOH в воде: {C_NaOH_on_aqueous_phase_1_50:.5g} моль/л')\n",
    "\n",
    "pnsh_frac_aqueous_phase_1_50 = exp_1_50[0] / 100\n",
    "rho_aqueous_phase_1_50 = 995.9\n",
    "C_pnsh_on_aqueous_phase_1_50 = pnsh_frac_aqueous_phase_1_50 * rho_aqueous_phase_1_50 / MW_pnsh\n",
    "print(f'Концентрация пропантиола в воде: {C_pnsh_on_aqueous_phase_1_50:.5g} моль/л')\n",
    "\n",
    "pnsh_frac_liquid_phase_1_50 = exp_1_50[1] / 100\n",
    "rho_liquid_phase_1_50 = 659.6\n",
    "C_pnsh_on_liquid_phase_1_50 = pnsh_frac_liquid_phase_1_50 * rho_liquid_phase_1_50 / MW_pnsh\n",
    "print(f'Концентрация пропантиола в октане: {C_pnsh_on_liquid_phase_1_50:.5g} моль/л')\n",
    "\n",
    "m_1_50 = C_pnsh_on_liquid_phase_1_50 / C_pnsh_on_aqueous_phase_1_50\n",
    "print(f'Коэффициент распределения: {m_1_50:.2g}')\n",
    "\n",
    "pnsh_frac_aqueous_phase_1_50_hysys = frac_aqueous_phase_hysys_1_50 / 100\n",
    "C_pnsh_on_aqueous_phase_1_50_hysys = pnsh_frac_aqueous_phase_1_50_hysys * rho_aqueous_phase_1_50 / MW_pnsh\n",
    "print(f'Концентрация пропантиола в воде: {C_pnsh_on_aqueous_phase_1_50_hysys:.5g} моль/л (hysys)')\n",
    "\n",
    "pnsh_frac_liquid_phase_1_50_hysys = frac_liquid_phase_hysys_1_50 / 100\n",
    "C_pnsh_on_liquid_phase_1_50_hysys = pnsh_frac_liquid_phase_1_50_hysys * rho_liquid_phase_1_50 / MW_pnsh\n",
    "print(f'Концентрация пропантиола в октане: {C_pnsh_on_liquid_phase_1_50_hysys:.5g} моль/л (hysys)')\n",
    "\n",
    "m_1_50_hysys = C_pnsh_on_liquid_phase_1_50_hysys / C_pnsh_on_aqueous_phase_1_50_hysys\n",
    "print(f'Коэффициент распределения: {m_1_50_hysys:.2g} (hysys)')"
   ],
   "outputs": [
    {
     "name": "stdout",
     "output_type": "stream",
     "text": [
      "1% NaOH\n",
      "50\n",
      "-----------#Исходнй состав-----------\n",
      "-----------Водная фаза - 10.36, грамм:\n",
      "Вода: 10.36 грамм,  100 % мас.\n",
      "-----------Органическая фаза фаза - 7.1194 грамм:\n",
      "Октан 6.9589, грамм,  97.745 % мас.\n",
      "Пропантиол 0.16054, грамм,  2.2549 % мас.\n",
      "-----------#Равновесный состав-----------\n",
      "-----------Водная фаза - 10.432, грамм:\n",
      "Вода 10.36 грамм, 99.308 % мас.\n",
      "Пропантиол 0.072149 грамм, 0.69644 % мас.\n",
      "-----------Органическая фаза фаза - 7.0473 грамм:\n",
      "Октан 6.9589 грамм, 98.746 % мас.\n",
      "Пропантиол 0.088388 грамм, 1.2415 % мас.\n",
      "-----------#При равновесии по hysys-----------\n",
      "0.0741 грамм, 0.7103 % масс пропантиола в воде\n",
      "0.0864 грамм, 1.2265 % масс пропантиола в октане\n",
      "Концентрация NaOH в воде: 0.25002 моль/л\n",
      "Концентрация пропантиола в воде: 0.09107 моль/л\n",
      "Концентрация пропантиола в октане: 0.10752 моль/л\n",
      "Коэффициент распределения: 1.2\n",
      "Концентрация пропантиола в воде: 0.092881 моль/л (hysys)\n",
      "Концентрация пропантиола в октане: 0.10623 моль/л (hysys)\n",
      "Коэффициент распределения: 1.1 (hysys)\n"
     ]
    }
   ],
   "execution_count": 4
  },
  {
   "cell_type": "code",
   "id": "19561b6666a46f8c",
   "metadata": {
    "ExecuteTime": {
     "end_time": "2025-06-18T17:47:44.156827Z",
     "start_time": "2025-06-18T17:47:44.151464Z"
    }
   },
   "source": [
    "print(f'2,16 % NaOH')\n",
    "print(f'50')\n",
    "exp_2_50 = main.exp_calc(16.3958, 1.4707, 26.9083, 35.5012, feed_pnsh_frac, 0.3437)\n",
    "\n",
    "print('-----------#При равновесии по hysys-----------')\n",
    "equilibrium_aqueous_phase_mass_hysys_2_50, frac_aqueous_phase_hysys_2_50 = 0.1144, 1.07632\n",
    "print(f'{equilibrium_aqueous_phase_mass_hysys_2_50:.5g} грамм, {frac_aqueous_phase_hysys_2_50:.5g} % масс пропантиола в воде')\n",
    "\n",
    "equilibrium_liquid_phase_mass_hysys_2_50, frac_liquid_phase_hysys_2_50 = 0.0464, 0.661769\n",
    "print(f'{equilibrium_liquid_phase_mass_hysys_2_50:.5g} грамм, {frac_liquid_phase_hysys_2_50:.5g} % масс пропантиола в октане')\n",
    "\n",
    "NaOH_frac_aqueous_phase_2_50 = 2.16 / 100\n",
    "rho_NaOH_2_50 = 1014\n",
    "C_NaOH_on_aqueous_phase_2_50 = NaOH_frac_aqueous_phase_2_50 * rho_NaOH_2_50 / MW_NaOH\n",
    "print(f'Концентрация NaOH в воде: {C_NaOH_on_aqueous_phase_2_50:.5g} моль/л')\n",
    "\n",
    "pnsh_frac_aqueous_phase_2_50 = exp_2_50[0] / 100\n",
    "rho_aqueous_phase_2_50 = 1007\n",
    "C_pnsh_on_aqueous_phase_2_50 = pnsh_frac_aqueous_phase_2_50 * rho_aqueous_phase_2_50 / MW_pnsh\n",
    "print(f'Концентрация пропантиола в воде: {C_pnsh_on_aqueous_phase_2_50:.5g} моль/л')\n",
    "\n",
    "pnsh_frac_liquid_phase_2_50 = exp_2_50[1] / 100\n",
    "rho_liquid_phase_2_50 = 658.9\n",
    "C_pnsh_on_liquid_phase_2_50 = pnsh_frac_liquid_phase_2_50 * rho_liquid_phase_2_50 / MW_pnsh\n",
    "print(f'Концентрация пропантиола в октане: {C_pnsh_on_liquid_phase_2_50:.5g} моль/л')\n",
    "\n",
    "m_2_50 = C_pnsh_on_liquid_phase_2_50 / C_pnsh_on_aqueous_phase_2_50\n",
    "print(f'Коэффициент распределения: {m_2_50:.2g}')\n",
    "\n",
    "pnsh_frac_aqueous_phase_2_50_hysys = frac_aqueous_phase_hysys_2_50 / 100\n",
    "C_pnsh_on_aqueous_phase_2_50_hysys = pnsh_frac_aqueous_phase_2_50_hysys * rho_aqueous_phase_2_50 / MW_pnsh\n",
    "print(f'Концентрация пропантиола в воде: {C_pnsh_on_aqueous_phase_2_50_hysys:.5g} моль/л (hysys)')\n",
    "\n",
    "pnsh_frac_liquid_phase_2_50_hysys = frac_liquid_phase_hysys_2_50 / 100\n",
    "C_pnsh_on_liquid_phase_2_50_hysys = pnsh_frac_liquid_phase_2_50_hysys * rho_liquid_phase_2_50 / MW_pnsh\n",
    "print(f'Концентрация пропантиола в октане: {C_pnsh_on_liquid_phase_2_50_hysys:.5g} моль/л (hysys)')\n",
    "\n",
    "m_2_50_hysys = C_pnsh_on_liquid_phase_2_50_hysys / C_pnsh_on_aqueous_phase_2_50_hysys\n",
    "print(f'Коэффициент распределения: {m_2_50_hysys:.2g} (hysys)')"
   ],
   "outputs": [
    {
     "name": "stdout",
     "output_type": "stream",
     "text": [
      "2,16 % NaOH\n",
      "50\n",
      "-----------#Исходнй состав-----------\n",
      "-----------Водная фаза - 10.512, грамм:\n",
      "Вода: 10.512 грамм,  100 % мас.\n",
      "-----------Органическая фаза фаза - 7.1222 грамм:\n",
      "Октан 6.9616, грамм,  97.745 % мас.\n",
      "Пропантиол 0.1606, грамм,  2.2549 % мас.\n",
      "-----------#Равновесный состав-----------\n",
      "-----------Водная фаза - 10.615, грамм:\n",
      "Вода 10.512 грамм, 99.035 % мас.\n",
      "Пропантиол 0.10246 грамм, 0.97462 % мас.\n",
      "-----------Органическая фаза фаза - 7.0197 грамм:\n",
      "Октан 6.9616 грамм, 99.172 % мас.\n",
      "Пропантиол 0.058142 грамм, 0.81635 % мас.\n",
      "-----------#При равновесии по hysys-----------\n",
      "0.1144 грамм, 1.0763 % масс пропантиола в воде\n",
      "0.0464 грамм, 0.66177 % масс пропантиола в октане\n",
      "Концентрация NaOH в воде: 0.5476 моль/л\n",
      "Концентрация пропантиола в воде: 0.12887 моль/л\n",
      "Концентрация пропантиола в октане: 0.070627 моль/л\n",
      "Коэффициент распределения: 0.55\n",
      "Концентрация пропантиола в воде: 0.14231 моль/л (hysys)\n",
      "Концентрация пропантиола в октане: 0.057253 моль/л (hysys)\n",
      "Коэффициент распределения: 0.4 (hysys)\n"
     ]
    }
   ],
   "execution_count": 5
  },
  {
   "cell_type": "code",
   "id": "97534831aa59dbff",
   "metadata": {
    "ExecuteTime": {
     "end_time": "2025-06-18T17:47:44.170996Z",
     "start_time": "2025-06-18T17:47:44.166067Z"
    }
   },
   "source": [
    "print(f'3 % NaOH')\n",
    "print(f'50')\n",
    "exp_3_50 = main.exp_calc(16.7531, 1.5079, 27.2899, 35.9988, feed_pnsh_frac, 0.1977)\n",
    "\n",
    "print('-----------##Равновесный состав по hysys-----------')\n",
    "equilibrium_aqueous_phase_mass_hysys_3_50, frac_aqueous_phase_hysys_3_50 = 0.1303, 1.221444\n",
    "print(f'{equilibrium_aqueous_phase_mass_hysys_3_50:.5g} грамм, {frac_aqueous_phase_hysys_3_50:.5g} % масс пропантиола в воде')\n",
    "\n",
    "equilibrium_liquid_phase_mass_hysys_3_50, frac_liquid_phase_hysys_3_50 = 0.0321, 0.453926\n",
    "print(f'{equilibrium_liquid_phase_mass_hysys_3_50:.5g} грамм, {frac_liquid_phase_hysys_3_50:.5g} % масс пропантиола в октане')\n",
    "\n",
    "NaOH_frac_aqueous_phase_3_50 = 3 / 100\n",
    "rho_NaOH_3_50 = 1023\n",
    "C_NaOH_on_aqueous_phase_3_50 = NaOH_frac_aqueous_phase_3_50 * rho_NaOH_3_50 / MW_NaOH\n",
    "print(f'Концентрация NaOH в воде: {C_NaOH_on_aqueous_phase_3_50:.5g} моль/л')\n",
    "\n",
    "pnsh_frac_aqueous_phase_3_50 = exp_3_50[0] / 100\n",
    "rho_aqueous_phase_3_50 = 1016\n",
    "C_pnsh_on_aqueous_phase_3_50 = pnsh_frac_aqueous_phase_3_50 * rho_aqueous_phase_3_50 / MW_pnsh\n",
    "print(f'Концентрация пропантиола в воде: {C_pnsh_on_aqueous_phase_3_50:.5g} моль/л')\n",
    "\n",
    "pnsh_frac_liquid_phase_3_50 = exp_3_50[1] / 100\n",
    "rho_liquid_phase_3_50 = 658.8\n",
    "C_pnsh_on_liquid_phase_3_50 = pnsh_frac_liquid_phase_3_50 * rho_liquid_phase_3_50 / MW_pnsh\n",
    "print(f'Концентрация пропантиола в октане: {C_pnsh_on_liquid_phase_3_50:.5g} моль/л')\n",
    "\n",
    "m_3_50 = C_pnsh_on_liquid_phase_3_50 / C_pnsh_on_aqueous_phase_3_50\n",
    "print(f'Коэффициент распределения: {m_3_50:.2g}')\n",
    "\n",
    "pnsh_frac_aqueous_phase_3_50_hysys = frac_aqueous_phase_hysys_3_50 / 100\n",
    "C_pnsh_on_aqueous_phase_3_50_hysys = pnsh_frac_aqueous_phase_3_50_hysys * rho_aqueous_phase_3_50 / MW_pnsh\n",
    "print(f'Концентрация пропантиола в воде: {C_pnsh_on_aqueous_phase_3_50_hysys:.5g} моль/л (hysys)')\n",
    "\n",
    "pnsh_frac_liquid_phase_3_50_hysys = frac_liquid_phase_hysys_3_50 / 100\n",
    "C_pnsh_on_liquid_phase_3_50_hysys = pnsh_frac_liquid_phase_3_50_hysys * rho_liquid_phase_3_50 / MW_pnsh\n",
    "print(f'Концентрация пропантиола в октане: {C_pnsh_on_liquid_phase_3_50_hysys:.5g} моль/л (hysys)')\n",
    "\n",
    "m_3_50_hysys = C_pnsh_on_liquid_phase_3_50_hysys / C_pnsh_on_aqueous_phase_3_50_hysys\n",
    "print(f'Коэффициент распределения: {m_3_50_hysys:.2g} (hysys)')"
   ],
   "outputs": [
    {
     "name": "stdout",
     "output_type": "stream",
     "text": [
      "3 % NaOH\n",
      "50\n",
      "-----------#Исходнй состав-----------\n",
      "-----------Водная фаза - 10.537, грамм:\n",
      "Вода: 10.537 грамм,  100 % мас.\n",
      "-----------Органическая фаза фаза - 7.201 грамм:\n",
      "Октан 7.0386, грамм,  97.745 % мас.\n",
      "Пропантиол 0.16238, грамм,  2.2549 % мас.\n",
      "-----------#Равновесный состав-----------\n",
      "-----------Водная фаза - 10.665, грамм:\n",
      "Вода 10.537 грамм, 98.795 % мас.\n",
      "Пропантиол 0.12856 грамм, 1.2201 % мас.\n",
      "-----------Органическая фаза фаза - 7.0724 грамм:\n",
      "Октан 7.0386 грамм, 99.522 % мас.\n",
      "Пропантиол 0.033814 грамм, 0.46957 % мас.\n",
      "-----------##Равновесный состав по hysys-----------\n",
      "0.1303 грамм, 1.2214 % масс пропантиола в воде\n",
      "0.0321 грамм, 0.45393 % масс пропантиола в октане\n",
      "Концентрация NaOH в воде: 0.76731 моль/л\n",
      "Концентрация пропантиола в воде: 0.16277 моль/л\n",
      "Концентрация пропантиола в октане: 0.040619 моль/л\n",
      "Коэффициент распределения: 0.25\n",
      "Концентрация пропантиола в воде: 0.16294 моль/л (hysys)\n",
      "Концентрация пропантиола в октане: 0.039266 моль/л (hysys)\n",
      "Коэффициент распределения: 0.24 (hysys)\n"
     ]
    }
   ],
   "execution_count": 6
  },
  {
   "cell_type": "code",
   "id": "11750b2929144ede",
   "metadata": {
    "ExecuteTime": {
     "end_time": "2025-06-18T17:47:44.178140Z",
     "start_time": "2025-06-18T17:47:44.174001Z"
    }
   },
   "source": [
    "print(f'4,16 % NaOH')\n",
    "print(f'50')\n",
    "exp_4_50 = main.exp_calc(16.7580, 1.4750, 27.4011, 36.0000, feed_pnsh_frac, 0.1203)\n",
    "\n",
    "print('-----------##Равновесный состав по hysys-----------')\n",
    "equilibrium_aqueous_phase_mass_hysys_4_50, frac_aqueous_phase_hysys_4_50 = 0.1414, 1.311315\n",
    "print(f'{equilibrium_aqueous_phase_mass_hysys_4_50:.5g} грамм, {frac_aqueous_phase_hysys_4_50:.5g} % масс пропантиола в воде')\n",
    "\n",
    "equilibrium_liquid_phase_mass_hysys_4_50, frac_liquid_phase_hysys_4_50 = 0.0192, 0.275531\n",
    "print(f'{equilibrium_liquid_phase_mass_hysys_4_50:.5g} грамм, {frac_liquid_phase_hysys_4_50:.5g} % масс пропантиола в октане')\n",
    "\n",
    "NaOH_frac_aqueous_phase_4_50 = 4.16 / 100\n",
    "rho_NaOH_4_50 = 1036\n",
    "C_NaOH_on_aqueous_phase_4_50 = NaOH_frac_aqueous_phase_4_50 * rho_NaOH_4_50 / MW_NaOH\n",
    "print(f'Концентрация NaOH в воде: {C_NaOH_on_aqueous_phase_4_50:.5g} моль/л')\n",
    "\n",
    "pnsh_frac_aqueous_phase_4_50 = exp_4_50[0] / 100\n",
    "rho_aqueous_phase_4_50 = 1028\n",
    "C_pnsh_on_aqueous_phase_4_50 = pnsh_frac_aqueous_phase_4_50 * rho_aqueous_phase_4_50 / MW_pnsh\n",
    "print(f'Концентрация пропантиола в воде: {C_pnsh_on_aqueous_phase_4_50:.5g} моль/л')\n",
    "\n",
    "pnsh_frac_liquid_phase_4_50 = exp_4_50[1] / 100\n",
    "rho_liquid_phase_4_50 = 658.6\n",
    "C_pnsh_on_liquid_phase_4_50 = pnsh_frac_liquid_phase_4_50 * rho_liquid_phase_4_50 / MW_pnsh\n",
    "print(f'Концентрация пропантиола в октане: {C_pnsh_on_liquid_phase_4_50:.5g} моль/л')\n",
    "\n",
    "m_4_50 = C_pnsh_on_liquid_phase_4_50 / C_pnsh_on_aqueous_phase_4_50\n",
    "print(f'Коэффициент распределения: {m_4_50:.2g}')\n",
    "\n",
    "pnsh_frac_aqueous_phase_4_50_hysys = frac_aqueous_phase_hysys_4_50 / 100\n",
    "C_pnsh_on_aqueous_phase_4_50_hysys = pnsh_frac_aqueous_phase_4_50_hysys * rho_aqueous_phase_4_50 / MW_pnsh\n",
    "print(f'Концентрация пропантиола в воде: {C_pnsh_on_aqueous_phase_4_50_hysys:.5g} моль/л (hysys)')\n",
    "\n",
    "pnsh_frac_liquid_phase_4_50_hysys = frac_liquid_phase_hysys_4_50 / 100\n",
    "C_pnsh_on_liquid_phase_4_50_hysys = pnsh_frac_liquid_phase_4_50_hysys * rho_liquid_phase_4_50 / MW_pnsh\n",
    "print(f'Концентрация пропантиола в октане: {C_pnsh_on_liquid_phase_4_50_hysys:.5g} моль/л (hysys)')\n",
    "\n",
    "m_4_50_hysys = C_pnsh_on_liquid_phase_4_50_hysys / C_pnsh_on_aqueous_phase_4_50_hysys\n",
    "print(f'Коэффициент распределения: {m_4_50_hysys:.2g} (hysys)')"
   ],
   "outputs": [
    {
     "name": "stdout",
     "output_type": "stream",
     "text": [
      "4,16 % NaOH\n",
      "50\n",
      "-----------#Исходнй состав-----------\n",
      "-----------Водная фаза - 10.643, грамм:\n",
      "Вода: 10.643 грамм,  100 % мас.\n",
      "-----------Органическая фаза фаза - 7.1239 грамм:\n",
      "Октан 6.9633, грамм,  97.745 % мас.\n",
      "Пропантиол 0.16064, грамм,  2.2549 % мас.\n",
      "-----------#Равновесный состав-----------\n",
      "-----------Водная фаза - 10.783, грамм:\n",
      "Вода 10.643 грамм, 98.699 % мас.\n",
      "Пропантиол 0.14028 грамм, 1.3181 % мас.\n",
      "-----------Органическая фаза фаза - 6.9836 грамм:\n",
      "Октан 6.9633 грамм, 99.709 % мас.\n",
      "Пропантиол 0.020355 грамм, 0.28573 % мас.\n",
      "-----------##Равновесный состав по hysys-----------\n",
      "0.1414 грамм, 1.3113 % масс пропантиола в воде\n",
      "0.0192 грамм, 0.27553 % масс пропантиола в октане\n",
      "Концентрация NaOH в воде: 1.0775 моль/л\n",
      "Концентрация пропантиола в воде: 0.17791 моль/л\n",
      "Концентрация пропантиола в октане: 0.024709 моль/л\n",
      "Коэффициент распределения: 0.14\n",
      "Концентрация пропантиола в воде: 0.177 моль/л (hysys)\n",
      "Концентрация пропантиола в октане: 0.023827 моль/л (hysys)\n",
      "Коэффициент распределения: 0.13 (hysys)\n"
     ]
    }
   ],
   "execution_count": 7
  },
  {
   "cell_type": "code",
   "id": "65624ed5416d963",
   "metadata": {
    "ExecuteTime": {
     "end_time": "2025-06-18T17:47:44.192978Z",
     "start_time": "2025-06-18T17:47:44.188078Z"
    }
   },
   "source": [
    "print(f'6 % NaOH')\n",
    "print(f'50')\n",
    "exp_6_50 = main.exp_calc(16.7132, 1.4777, 27.5489, 36.1617, feed_pnsh_frac, 0.0786)\n",
    "\n",
    "print('-----------##Равновесный состав по hysys-----------')\n",
    "equilibrium_aqueous_phase_mass_hysys_6_50, frac_aqueous_phase_hysys_6_50 = 0.1512, 1.1376158\n",
    "print(f'{equilibrium_aqueous_phase_mass_hysys_6_50:.5g} грамм, {frac_aqueous_phase_hysys_6_50:.5g} % масс пропантиола в воде')\n",
    "\n",
    "equilibrium_liquid_phase_mass_hysys_6_50, frac_liquid_phase_hysys_6_50 = 0.0097, 0.139038\n",
    "print(f'{equilibrium_liquid_phase_mass_hysys_6_50:.5g} грамм, {frac_liquid_phase_hysys_6_50:.5g} % масс пропантиола в октане')\n",
    "\n",
    "NaOH_frac_aqueous_phase_6_50 = 6 / 100\n",
    "rho_NaOH_6_50 = 1057\n",
    "C_NaOH_on_aqueous_phase_6_50 = NaOH_frac_aqueous_phase_6_50 * rho_NaOH_6_50 / MW_NaOH\n",
    "print(f'Концентрация NaOH в воде: {C_NaOH_on_aqueous_phase_6_50:.5g} моль/л')\n",
    "\n",
    "pnsh_frac_aqueous_phase_6_50 = exp_6_50[0] / 100\n",
    "rho_aqueous_phase_6_50 = 1048\n",
    "C_pnsh_on_aqueous_phase_6_50 = pnsh_frac_aqueous_phase_6_50 * rho_aqueous_phase_6_50 / MW_pnsh\n",
    "print(f'Концентрация пропантиола в воде: {C_pnsh_on_aqueous_phase_6_50:.5g} моль/л')\n",
    "\n",
    "pnsh_frac_liquid_phase_6_50 = exp_6_50[1] / 100\n",
    "rho_liquid_phase_6_50 = 658.8\n",
    "C_pnsh_on_liquid_phase_6_50 = pnsh_frac_liquid_phase_6_50 * rho_liquid_phase_6_50 / MW_pnsh\n",
    "print(f'Концентрация пропантиола в октане: {C_pnsh_on_liquid_phase_6_50:.5g} моль/л')\n",
    "\n",
    "m_6_50 = C_pnsh_on_liquid_phase_6_50 / C_pnsh_on_aqueous_phase_6_50\n",
    "print(f'Коэффициент распределения: {m_6_50:.2g}')\n",
    "\n",
    "pnsh_frac_aqueous_phase_6_50_hysys = frac_aqueous_phase_hysys_6_50 / 100\n",
    "C_pnsh_on_aqueous_phase_6_50_hysys = pnsh_frac_aqueous_phase_6_50_hysys * rho_aqueous_phase_6_50 / MW_pnsh\n",
    "print(f'Концентрация пропантиола в воде: {C_pnsh_on_aqueous_phase_6_50_hysys:.5g} моль/л (hysys)')\n",
    "\n",
    "pnsh_frac_liquid_phase_6_50_hysys = frac_liquid_phase_hysys_6_50 / 100\n",
    "C_pnsh_on_liquid_phase_6_50_hysys = pnsh_frac_liquid_phase_6_50_hysys * rho_liquid_phase_6_50 / MW_pnsh\n",
    "print(f'Концентрация пропантиола в октане: {C_pnsh_on_liquid_phase_6_50_hysys:.5g} моль/л (hysys)')\n",
    "\n",
    "m_6_50_hysys = C_pnsh_on_liquid_phase_6_50_hysys / C_pnsh_on_aqueous_phase_6_50_hysys\n",
    "print(f'Коэффициент распределения: {m_6_50_hysys:.2g} (hysys)')"
   ],
   "outputs": [
    {
     "name": "stdout",
     "output_type": "stream",
     "text": [
      "6 % NaOH\n",
      "50\n",
      "-----------#Исходнй состав-----------\n",
      "-----------Водная фаза - 10.836, грамм:\n",
      "Вода: 10.836 грамм,  100 % мас.\n",
      "-----------Органическая фаза фаза - 7.1351 грамм:\n",
      "Октан 6.9742, грамм,  97.745 % мас.\n",
      "Пропантиол 0.16089, грамм,  2.2549 % мас.\n",
      "-----------#Равновесный состав-----------\n",
      "-----------Водная фаза - 10.983, грамм:\n",
      "Вода 10.836 грамм, 98.656 % мас.\n",
      "Пропантиол 0.14757 грамм, 1.3619 % мас.\n",
      "-----------Органическая фаза фаза - 6.9875 грамм:\n",
      "Октан 6.9742 грамм, 99.809 % мас.\n",
      "Пропантиол 0.01332 грамм, 0.18669 % мас.\n",
      "-----------##Равновесный состав по hysys-----------\n",
      "0.1512 грамм, 1.1376 % масс пропантиола в воде\n",
      "0.0097 грамм, 0.13904 % масс пропантиола в октане\n",
      "Концентрация NaOH в воде: 1.5856 моль/л\n",
      "Концентрация пропантиола в воде: 0.1874 моль/л\n",
      "Концентрация пропантиола в октане: 0.016149 моль/л\n",
      "Коэффициент распределения: 0.086\n",
      "Концентрация пропантиола в воде: 0.15654 моль/л (hysys)\n",
      "Концентрация пропантиола в октане: 0.012027 моль/л (hysys)\n",
      "Коэффициент распределения: 0.077 (hysys)\n"
     ]
    }
   ],
   "execution_count": 8
  },
  {
   "cell_type": "code",
   "id": "23c6ed76141b4489",
   "metadata": {
    "ExecuteTime": {
     "end_time": "2025-06-18T17:47:44.208650Z",
     "start_time": "2025-06-18T17:47:44.203489Z"
    }
   },
   "source": [
    "print(f'Концентрация NaOH 8.59 % масс')\n",
    "print(f'50')\n",
    "exp8_50 = main.exp_calc(16.6683, 1.4804, 27.6966, 36.3234, feed_pnsh_frac, 0.0353)\n",
    "\n",
    "print('-----------##Равновесный состав по hysys-----------')\n",
    "equilibrium_aqueous_phase_mass_hysys_8_50, frac_aqueous_phase_hysys_8_50 = 0.1568, 1.40235\n",
    "print(f'{equilibrium_aqueous_phase_mass_hysys_8_50:.5g} грамм, {frac_aqueous_phase_hysys_8_50:.5g} % масс пропантиола в воде')\n",
    "\n",
    "equilibrium_liquid_phase_mass_hysys_8_50, frac_liquid_phase_hysys_8_50 = 0.0043, 0.061738\n",
    "print(f'{equilibrium_liquid_phase_mass_hysys_8_50:.5g} грамм, {frac_liquid_phase_hysys_8_50:.5g} % масс пропантиола в октане')\n",
    "\n",
    "NaOH_frac_aqueous_phase_8_50 = 8.59 / 100\n",
    "rho_NaOH_8_50 = 1085\n",
    "C_NaOH_on_aqueous_phase_8_50 = NaOH_frac_aqueous_phase_8_50 * rho_NaOH_8_50 / MW_NaOH\n",
    "print(f'Концентрация NaOH в воде: {C_NaOH_on_aqueous_phase_8_50:.5g} моль/л')\n",
    "\n",
    "pnsh_frac_aqueous_phase_8_50 = exp8_50[0] / 100\n",
    "rho_aqueous_phase_8_50 = 1075\n",
    "C_pnsh_on_aqueous_phase_8_50 = pnsh_frac_aqueous_phase_8_50 * rho_aqueous_phase_8_50 / MW_pnsh\n",
    "print(f'Концентрация пропантиола в воде: {C_pnsh_on_aqueous_phase_8_50:.5g} моль/л')\n",
    "\n",
    "pnsh_frac_liquid_phase_8_50 = exp8_50[1] / 100\n",
    "rho_liquid_phase_8_50 = 659.1\n",
    "C_pnsh_on_liquid_phase_8_50 = pnsh_frac_liquid_phase_8_50 * rho_liquid_phase_8_50 / MW_pnsh\n",
    "print(f'Концентрация пропантиола в октане: {C_pnsh_on_liquid_phase_8_50:.5g} моль/л')\n",
    "\n",
    "m_8_50 = C_pnsh_on_liquid_phase_8_50 / C_pnsh_on_aqueous_phase_8_50\n",
    "print(f'Коэффициент распределения: {m_8_50:.2g}')\n",
    "\n",
    "pnsh_frac_aqueous_phase_8_50_hysys = frac_aqueous_phase_hysys_8_50 / 100\n",
    "C_pnsh_on_aqueous_phase_8_50_hysys = pnsh_frac_aqueous_phase_8_50_hysys * rho_aqueous_phase_8_50 / MW_pnsh\n",
    "print(f'Концентрация пропантиола в воде: {C_pnsh_on_aqueous_phase_8_50_hysys:.5g} моль/л (hysys)')\n",
    "\n",
    "pnsh_frac_liquid_phase_8_50_hysys = frac_liquid_phase_hysys_8_50 / 100\n",
    "C_pnsh_on_liquid_phase_8_50_hysys = pnsh_frac_liquid_phase_8_50_hysys * rho_liquid_phase_8_50 / MW_pnsh\n",
    "print(f'Концентрация пропантиола в октане: {C_pnsh_on_liquid_phase_8_50_hysys:.5g} моль/л (hysys)')\n",
    "\n",
    "m_8_50_hysys = C_pnsh_on_liquid_phase_8_50_hysys / C_pnsh_on_aqueous_phase_8_50_hysys\n",
    "print(f'Коэффициент распределения: {m_8_50_hysys:.2g} (hysys)')"
   ],
   "outputs": [
    {
     "name": "stdout",
     "output_type": "stream",
     "text": [
      "Концентрация NaOH 8.59 % масс\n",
      "50\n",
      "-----------#Исходнй состав-----------\n",
      "-----------Водная фаза - 11.028, грамм:\n",
      "Вода: 11.028 грамм,  100 % мас.\n",
      "-----------Органическая фаза фаза - 7.1464 грамм:\n",
      "Октан 6.9853, грамм,  97.745 % мас.\n",
      "Пропантиол 0.16115, грамм,  2.2549 % мас.\n",
      "-----------#Равновесный состав-----------\n",
      "-----------Водная фаза - 11.183, грамм:\n",
      "Вода 11.028 грамм, 98.613 % мас.\n",
      "Пропантиол 0.15515 грамм, 1.4069 % мас.\n",
      "-----------Органическая фаза фаза - 6.9912 грамм:\n",
      "Октан 6.9853 грамм, 99.914 % мас.\n",
      "Пропантиол 0.0059918 грамм, 0.083844 % мас.\n",
      "-----------##Равновесный состав по hysys-----------\n",
      "0.1568 грамм, 1.4023 % масс пропантиола в воде\n",
      "0.0043 грамм, 0.061738 % масс пропантиола в октане\n",
      "Концентрация NaOH в воде: 2.3302 моль/л\n",
      "Концентрация пропантиола в воде: 0.19858 моль/л\n",
      "Концентрация пропантиола в октане: 0.007256 моль/л\n",
      "Коэффициент распределения: 0.037\n",
      "Концентрация пропантиола в воде: 0.19794 моль/л (hysys)\n",
      "Концентрация пропантиола в октане: 0.0053429 моль/л (hysys)\n",
      "Коэффициент распределения: 0.027 (hysys)\n"
     ]
    }
   ],
   "execution_count": 9
  },
  {
   "cell_type": "code",
   "id": "40d97a1d117780cf",
   "metadata": {
    "ExecuteTime": {
     "end_time": "2025-06-18T17:47:44.223159Z",
     "start_time": "2025-06-18T17:47:44.217835Z"
    }
   },
   "source": [
    "print(f'Концентрация NaOH 10.18 % масс')\n",
    "print(f'50')\n",
    "exp10_50 = main.exp_calc(16.5147, 1.4915, 27.7315, 36.3928, feed_pnsh_frac, 0.0287)\n",
    "\n",
    "print('-----------##Равновесный состав по hysys-----------')\n",
    "equilibrium_aqueous_phase_mass_hysys_10_50, frac_aqueous_phase_hysys_10_50 = 0.1589, 1.396898\n",
    "print(f'{equilibrium_aqueous_phase_mass_hysys_10_50:.5g} грамм, {frac_aqueous_phase_hysys_10_50:.5g} % масс пропантиола в воде')\n",
    "\n",
    "equilibrium_liquid_phase_mass_hysys_10_50, frac_liquid_phase_hysys_10_50 = 0.0028, 0.039689\n",
    "print(f'{equilibrium_liquid_phase_mass_hysys_10_50:.5g} грамм, {frac_liquid_phase_hysys_10_50:.5g} % масс пропантиола в октане')\n",
    "\n",
    "NaOH_frac_aqueous_phase_10_50 = 10.18 / 100\n",
    "rho_NaOH_10_50 = 1102\n",
    "C_NaOH_on_aqueous_phase_10_50 = NaOH_frac_aqueous_phase_10_50 * rho_NaOH_10_50 / MW_NaOH\n",
    "print(f'Концентрация NaOH в воде: {C_NaOH_on_aqueous_phase_10_50:.5g} моль/л')\n",
    "\n",
    "pnsh_frac_aqueous_phase_10_50 = exp10_50[0] / 100\n",
    "rho_aqueous_phase_10_50 = 1092\n",
    "C_pnsh_on_aqueous_phase_10_50 = pnsh_frac_aqueous_phase_10_50 * rho_aqueous_phase_10_50 / MW_pnsh\n",
    "print(f'Концентрация пропантиола в воде: {C_pnsh_on_aqueous_phase_10_50:.5g} моль/л')\n",
    "\n",
    "pnsh_frac_liquid_phase_10_50 = exp10_50[1] / 100\n",
    "rho_liquid_phase_10_50 = 659.3\n",
    "C_pnsh_on_liquid_phase_10_50 = pnsh_frac_liquid_phase_10_50 * rho_liquid_phase_10_50 / MW_pnsh\n",
    "print(f'Концентрация пропантиола в октане: {C_pnsh_on_liquid_phase_10_50:.5g} моль/л')\n",
    "\n",
    "m_10_50 = C_pnsh_on_liquid_phase_10_50 / C_pnsh_on_aqueous_phase_10_50\n",
    "print(f'Коэффициент распределения: {m_10_50:.2g}')\n",
    "\n",
    "pnsh_frac_aqueous_phase_10_50_hysys = frac_aqueous_phase_hysys_10_50 / 100\n",
    "C_pnsh_on_aqueous_phase_10_50_hysys = pnsh_frac_aqueous_phase_10_50_hysys * rho_aqueous_phase_10_50 / MW_pnsh\n",
    "print(f'Концентрация пропантиола в воде: {C_pnsh_on_aqueous_phase_10_50_hysys:.5g} моль/л (hysys)')\n",
    "\n",
    "pnsh_frac_liquid_phase_10_50_hysys = frac_liquid_phase_hysys_10_50 / 100\n",
    "C_pnsh_on_liquid_phase_10_50_hysys = pnsh_frac_liquid_phase_10_50_hysys * rho_liquid_phase_10_50 / MW_pnsh\n",
    "print(f'Концентрация пропантиола в октане: {C_pnsh_on_liquid_phase_10_50_hysys:.5g} моль/л (hysys)')\n",
    "\n",
    "m_10_50_hysys = C_pnsh_on_liquid_phase_10_50_hysys / C_pnsh_on_aqueous_phase_10_50_hysys\n",
    "print(f'Коэффициент распределения: {m_10_50_hysys:.2g} (hysys)')"
   ],
   "outputs": [
    {
     "name": "stdout",
     "output_type": "stream",
     "text": [
      "Концентрация NaOH 10.18 % масс\n",
      "50\n",
      "-----------#Исходнй состав-----------\n",
      "-----------Водная фаза - 11.217, грамм:\n",
      "Вода: 11.217 грамм,  100 % мас.\n",
      "-----------Органическая фаза фаза - 7.1698 грамм:\n",
      "Октан 7.0081, грамм,  97.745 % мас.\n",
      "Пропантиол 0.16167, грамм,  2.2549 % мас.\n",
      "-----------#Равновесный состав-----------\n",
      "-----------Водная фаза - 11.374, грамм:\n",
      "Вода 11.217 грамм, 98.621 % мас.\n",
      "Пропантиол 0.15679 грамм, 1.3978 % мас.\n",
      "-----------Органическая фаза фаза - 7.013 грамм:\n",
      "Октан 7.0081 грамм, 99.93 % мас.\n",
      "Пропантиол 0.0048875 грамм, 0.068168 % мас.\n",
      "-----------##Равновесный состав по hysys-----------\n",
      "0.1589 грамм, 1.3969 % масс пропантиола в воде\n",
      "0.0028 грамм, 0.039689 % масс пропантиола в октане\n",
      "Концентрация NaOH в воде: 2.8048 моль/л\n",
      "Концентрация пропантиола в воде: 0.20042 моль/л\n",
      "Концентрация пропантиола в октане: 0.0059011 моль/л\n",
      "Коэффициент распределения: 0.029\n",
      "Концентрация пропантиола в воде: 0.20029 моль/л (hysys)\n",
      "Концентрация пропантиола в октане: 0.0034358 моль/л (hysys)\n",
      "Коэффициент распределения: 0.017 (hysys)\n"
     ]
    }
   ],
   "execution_count": 10
  },
  {
   "cell_type": "code",
   "id": "d380bd204de52015",
   "metadata": {
    "ExecuteTime": {
     "end_time": "2025-06-18T17:47:44.237482Z",
     "start_time": "2025-06-18T17:47:44.232197Z"
    }
   },
   "source": [
    "print(f'Концентрация NaOH 12.84 % масс')\n",
    "print(f'50')\n",
    "exp13_50 = main.exp_calc(16.3610, 1.5025, 27.7664, 36.4621, feed_pnsh_frac, 0.0321)\n",
    "\n",
    "print('-----------##Равновесный состав по hysys-----------')\n",
    "equilibrium_aqueous_phase_mass_hysys_13_50, frac_aqueous_phase_hysys_13_50 = 0.1607, 1.390008\n",
    "print(f'{equilibrium_aqueous_phase_mass_hysys_13_50:.5g} грамм, {frac_aqueous_phase_hysys_13_50:.5g} % масс пропантиола в воде')\n",
    "\n",
    "equilibrium_liquid_phase_mass_hysys_13_50, frac_liquid_phase_hysys_13_50 = 0.0015, 0.020656\n",
    "print(f'{equilibrium_liquid_phase_mass_hysys_13_50:.5g} грамм, {frac_liquid_phase_hysys_13_50:.5g} % масс пропантиола в октане')\n",
    "\n",
    "NaOH_frac_aqueous_phase_13_50 = 12.84 / 100\n",
    "rho_NaOH_13_50 = 1130\n",
    "C_NaOH_on_aqueous_phase_13_50 = NaOH_frac_aqueous_phase_13_50 * rho_NaOH_13_50 / MW_NaOH\n",
    "print(f'Концентрация NaOH в воде: {C_NaOH_on_aqueous_phase_13_50:.5g} моль/л')\n",
    "\n",
    "pnsh_frac_aqueous_phase_13_50 = exp13_50[0] / 100\n",
    "rho_aqueous_phase_13_50 = 1120\n",
    "C_pnsh_on_aqueous_phase_13_50 = pnsh_frac_aqueous_phase_13_50 * rho_aqueous_phase_13_50 / MW_pnsh\n",
    "print(f'Концентрация пропантиола в воде: {C_pnsh_on_aqueous_phase_13_50:.5g} моль/л')\n",
    "\n",
    "pnsh_frac_liquid_phase_13_50 = exp13_50[1] / 100\n",
    "rho_liquid_phase_13_50 = 659.6\n",
    "C_pnsh_on_liquid_phase_13_50 = pnsh_frac_liquid_phase_13_50 * rho_liquid_phase_13_50 / MW_pnsh\n",
    "print(f'Концентрация пропантиола в октане: {C_pnsh_on_liquid_phase_13_50:.5g} моль/л')\n",
    "\n",
    "m_13_50 = C_pnsh_on_liquid_phase_13_50 / C_pnsh_on_aqueous_phase_13_50\n",
    "print(f'Коэффициент распределения: {m_13_50:.2g}')\n",
    "\n",
    "pnsh_frac_aqueous_phase_13_50_hysys = frac_aqueous_phase_hysys_13_50 / 100\n",
    "C_pnsh_on_aqueous_phase_13_50_hysys = pnsh_frac_aqueous_phase_13_50_hysys * rho_aqueous_phase_13_50 / MW_pnsh\n",
    "print(f'Концентрация пропантиола в воде: {C_pnsh_on_aqueous_phase_13_50_hysys:.5g} моль/л (hysys)')\n",
    "\n",
    "pnsh_frac_liquid_phase_13_50_hysys = frac_liquid_phase_hysys_13_50 / 100\n",
    "C_pnsh_on_liquid_phase_13_50_hysys = pnsh_frac_liquid_phase_13_50_hysys * rho_liquid_phase_13_50 / MW_pnsh\n",
    "print(f'Концентрация пропантиола в октане: {C_pnsh_on_liquid_phase_13_50_hysys:.5g} моль/л (hysys)')\n",
    "\n",
    "m_13_50_hysys = C_pnsh_on_liquid_phase_13_50_hysys / C_pnsh_on_aqueous_phase_13_50_hysys\n",
    "print(f'Коэффициент распределения: {m_13_50_hysys:.2g} (hysys)')\n",
    "\n"
   ],
   "outputs": [
    {
     "name": "stdout",
     "output_type": "stream",
     "text": [
      "Концентрация NaOH 12.84 % масс\n",
      "50\n",
      "-----------#Исходнй состав-----------\n",
      "-----------Водная фаза - 11.405, грамм:\n",
      "Вода: 11.405 грамм,  100 % мас.\n",
      "-----------Органическая фаза фаза - 7.1932 грамм:\n",
      "Октан 7.031, грамм,  97.745 % мас.\n",
      "Пропантиол 0.1622, грамм,  2.2549 % мас.\n",
      "-----------#Равновесный состав-----------\n",
      "-----------Водная фаза - 11.562, грамм:\n",
      "Вода 11.405 грамм, 98.645 % мас.\n",
      "Пропантиол 0.15672 грамм, 1.3741 % мас.\n",
      "-----------Органическая фаза фаза - 7.0365 грамм:\n",
      "Октан 7.031 грамм, 99.922 % мас.\n",
      "Пропантиол 0.0054843 грамм, 0.076243 % мас.\n",
      "-----------##Равновесный состав по hysys-----------\n",
      "0.1607 грамм, 1.39 % масс пропантиола в воде\n",
      "0.0015 грамм, 0.020656 % масс пропантиола в октане\n",
      "Концентрация NaOH в воде: 3.6276 моль/л\n",
      "Концентрация пропантиола в воде: 0.20207 моль/л\n",
      "Концентрация пропантиола в октане: 0.0066032 моль/л\n",
      "Коэффициент распределения: 0.033\n",
      "Концентрация пропантиола в воде: 0.20441 моль/л (hysys)\n",
      "Концентрация пропантиола в октане: 0.001789 моль/л (hysys)\n",
      "Коэффициент распределения: 0.0088 (hysys)\n"
     ]
    }
   ],
   "execution_count": 11
  },
  {
   "cell_type": "code",
   "id": "38633726e2713a3b",
   "metadata": {
    "ExecuteTime": {
     "end_time": "2025-06-18T17:47:44.255994Z",
     "start_time": "2025-06-18T17:47:44.250495Z"
    }
   },
   "source": [
    "print(f'Концентрация NaOH 17.52 % масс')\n",
    "print(f'50')\n",
    "exp17_50 = main.exp_calc(16.4381, 1.4933, 28.2656, 36.7809, feed_pnsh_frac, 0.0211)\n",
    "\n",
    "print('-----------##Равновесный состав по hysys-----------')\n",
    "equilibrium_aqueous_phase_mass_hysys_17_50, frac_aqueous_phase_hysys_17_50 = 0.1578, 1.31688\n",
    "print(f'{equilibrium_aqueous_phase_mass_hysys_17_50:.5g} грамм, {frac_aqueous_phase_hysys_17_50:.5g} % масс пропантиола в воде')\n",
    "\n",
    "equilibrium_liquid_phase_mass_hysys_17_50, frac_liquid_phase_hysys_17_50 = 0.0005, 0.00747\n",
    "print(f'{equilibrium_liquid_phase_mass_hysys_17_50:.5g} грамм, {frac_liquid_phase_hysys_17_50:.5g} % масс пропантиола в октане')\n",
    "\n",
    "NaOH_frac_aqueous_phase_17_50 = 12.84 / 100\n",
    "rho_NaOH_17_50 = 1180\n",
    "C_NaOH_on_aqueous_phase_17_50 = NaOH_frac_aqueous_phase_17_50 * rho_NaOH_17_50 / MW_NaOH\n",
    "print(f'Концентрация NaOH в воде: {C_NaOH_on_aqueous_phase_17_50:.5g} моль/л')\n",
    "\n",
    "pnsh_frac_aqueous_phase_17_50 = exp17_50[0] / 100\n",
    "rho_aqueous_phase_17_50 = 1170\n",
    "C_pnsh_on_aqueous_phase_17_50 = pnsh_frac_aqueous_phase_17_50 * rho_aqueous_phase_17_50 / MW_pnsh\n",
    "print(f'Концентрация пропантиола в воде: {C_pnsh_on_aqueous_phase_17_50:.5g} моль/л')\n",
    "\n",
    "pnsh_frac_liquid_phase_17_50 = exp17_50[1] / 100\n",
    "rho_liquid_phase_17_50 = 659.9\n",
    "C_pnsh_on_liquid_phase_17_50 = pnsh_frac_liquid_phase_17_50 * rho_liquid_phase_17_50 / MW_pnsh\n",
    "print(f'Концентрация пропантиола в октане: {C_pnsh_on_liquid_phase_17_50:.5g} моль/л')\n",
    "\n",
    "m_17_50 = C_pnsh_on_liquid_phase_17_50 / C_pnsh_on_aqueous_phase_17_50\n",
    "print(f'Коэффициент распределения: {m_17_50:.2g}')\n",
    "\n",
    "pnsh_frac_aqueous_phase_17_50_hysys = frac_aqueous_phase_hysys_17_50 / 100\n",
    "C_pnsh_on_aqueous_phase_17_50_hysys = pnsh_frac_aqueous_phase_17_50_hysys * rho_aqueous_phase_17_50 / MW_pnsh\n",
    "print(f'Концентрация пропантиола в воде: {C_pnsh_on_aqueous_phase_17_50_hysys:.5g} моль/л (hysys)')\n",
    "\n",
    "pnsh_frac_liquid_phase_17_50_hysys = frac_liquid_phase_hysys_17_50 / 100\n",
    "C_pnsh_on_liquid_phase_17_50_hysys = pnsh_frac_liquid_phase_17_50_hysys * rho_liquid_phase_17_50 / MW_pnsh\n",
    "print(f'Концентрация пропантиола в октане: {C_pnsh_on_liquid_phase_17_50_hysys:.5g} моль/л (hysys)')\n",
    "\n",
    "m_17_50_hysys = C_pnsh_on_liquid_phase_17_50_hysys / C_pnsh_on_aqueous_phase_17_50_hysys\n",
    "print(f'Коэффициент распределения: {m_17_50_hysys:.2g} (hysys)')"
   ],
   "outputs": [
    {
     "name": "stdout",
     "output_type": "stream",
     "text": [
      "Концентрация NaOH 17.52 % масс\n",
      "50\n",
      "-----------#Исходнй состав-----------\n",
      "-----------Водная фаза - 11.828, грамм:\n",
      "Вода: 11.828 грамм,  100 % мас.\n",
      "-----------Органическая фаза фаза - 7.022 грамм:\n",
      "Октан 6.8637, грамм,  97.745 % мас.\n",
      "Пропантиол 0.15834, грамм,  2.2549 % мас.\n",
      "-----------#Равновесный состав-----------\n",
      "-----------Водная фаза - 11.982, грамм:\n",
      "Вода 11.828 грамм, 98.708 % мас.\n",
      "Пропантиол 0.15482 грамм, 1.309 % мас.\n",
      "-----------Органическая фаза фаза - 6.8672 грамм:\n",
      "Октан 6.8637 грамм, 99.949 % мас.\n",
      "Пропантиол 0.0035192 грамм, 0.050116 % мас.\n",
      "-----------##Равновесный состав по hysys-----------\n",
      "0.1578 грамм, 1.3169 % масс пропантиола в воде\n",
      "0.0005 грамм, 0.00747 % масс пропантиола в октане\n",
      "Концентрация NaOH в воде: 3.7881 моль/л\n",
      "Концентрация пропантиола в воде: 0.20109 моль/л\n",
      "Концентрация пропантиола в октане: 0.0043424 моль/л\n",
      "Коэффициент распределения: 0.022\n",
      "Концентрация пропантиола в воде: 0.2023 моль/л (hysys)\n",
      "Концентрация пропантиола в октане: 0.00064725 моль/л (hysys)\n",
      "Коэффициент распределения: 0.0032 (hysys)\n"
     ]
    }
   ],
   "execution_count": 12
  },
  {
   "cell_type": "code",
   "id": "92f63506-4573-4097-a0b5-6776f90d8116",
   "metadata": {
    "ExecuteTime": {
     "end_time": "2025-06-18T17:47:44.270671Z",
     "start_time": "2025-06-18T17:47:44.266438Z"
    }
   },
   "source": [
    "pKa = 10.4\n",
    "K_a = 10**-pKa\n",
    "print(K_a)\n",
    "K_w = main.k_w(50)\n",
    "print(K_w)\n",
    "Na_frac = np.linspace(0, 4, 1000)\n",
    "m_d = main.m_calc(Na_frac, C_pnsh_on_liquid_phase_50, K_a, K_w, m0)\n",
    "\n",
    "\n",
    "Exp_NaOH_frac = np.array([0, C_NaOH_on_aqueous_phase_1_50, C_NaOH_on_aqueous_phase_2_50, C_NaOH_on_aqueous_phase_3_50, C_NaOH_on_aqueous_phase_4_50, C_NaOH_on_aqueous_phase_6_50, C_NaOH_on_aqueous_phase_8_50, C_NaOH_on_aqueous_phase_10_50, C_NaOH_on_aqueous_phase_13_50, C_NaOH_on_aqueous_phase_17_50])\n",
    "\n",
    "Exp_m_d = np.array([m0, m_1_50, m_2_50, m_3_50, m_4_50, m_6_50, m_8_50, m_10_50, m_13_50, m_17_50])\n",
    "print(Exp_m_d)\n",
    "Exp_m_d_hysys = np.array([m0_hysys, m_1_50_hysys, m_2_50_hysys, m_3_50_hysys, m_4_50_hysys, m_6_50_hysys, m_8_50_hysys, m_10_50_hysys, m_13_50_hysys, m_17_50_hysys])"
   ],
   "outputs": [
    {
     "name": "stdout",
     "output_type": "stream",
     "text": [
      "3.9810717055349695e-11\n",
      "5.464217715692368e-14\n",
      "[8.86573121e+01 1.18066936e+00 5.48059538e-01 2.49549777e-01\n",
      " 1.38884926e-01 8.61727527e-02 3.65393596e-02 2.94443417e-02\n",
      " 3.26783734e-02 2.15940498e-02]\n"
     ]
    }
   ],
   "execution_count": 13
  },
  {
   "cell_type": "code",
   "id": "5e13bd77-2ab0-41b2-b1df-81f2d0c2ff1e",
   "metadata": {
    "ExecuteTime": {
     "end_time": "2025-06-18T17:47:44.301497Z",
     "start_time": "2025-06-18T17:47:44.283532Z"
    }
   },
   "source": [
    "base_params = dict(\n",
    "        C_o0_HA = C_pnsh,\n",
    "        m0      = m0,\n",
    "        Ka      = 10**-pKa,\n",
    "        Kw      = main.k_w(50),\n",
    "        Vo      = 0.010,   # 10 мл органика\n",
    "        Vw      = 0.010    # 10 мл вода\n",
    "    )\n",
    "\n",
    "C_NaOH0_array = np.linspace(0.0, 4, 100)\n",
    "\n",
    "pH_list = []\n",
    "D_list = []\n",
    "\n",
    "for C_NaOH0 in C_NaOH0_array:\n",
    "    params = {**base_params, \"C_NaOH0\": C_NaOH0}\n",
    "    result = main.solve_equilibrium(**params)\n",
    "    #print(f\"C_NaOH0 = {C_NaOH0:.2f} моль/л:\")\n",
    "    #for k, v in result.items():\n",
    "        #print(f\"  {k:12s}: {v:.5g}\")\n",
    "    #print()\n",
    "\n",
    "    pH_list.append(result[\"pH\"])\n",
    "    D_list.append(result[\"m_D\"])\n"
   ],
   "outputs": [],
   "execution_count": 14
  },
  {
   "cell_type": "code",
   "id": "5fa82ad2-8b95-4984-8606-44cce25a8fa8",
   "metadata": {
    "ExecuteTime": {
     "end_time": "2025-06-18T17:47:44.314313Z",
     "start_time": "2025-06-18T17:47:44.310843Z"
    }
   },
   "source": [
    "base_params = dict(\n",
    "        Co_eq_HA = C_pnsh_on_liquid_phase_50,\n",
    "        P = m0,\n",
    "        Ka = 10**-pKa,\n",
    "        Kw = main.k_w(50)\n",
    "    )\n",
    "\n",
    "pH1_list = []\n",
    "D1_list = []\n",
    "\n",
    "for C_NaOH0 in C_NaOH0_array:\n",
    "    params = {**base_params, \"C_NaOH0\": C_NaOH0}\n",
    "    result = main.equilibrium_from_Co_eq(**params)\n",
    "    #print(f\"C_NaOH0 = {C_NaOH0:.2f} моль/л:\")\n",
    "    #for k, v in result.items():\n",
    "        #print(f\"  {k:12s}: {v:.5g}\")\n",
    "    #print()\n",
    "\n",
    "    pH1_list.append(result[\"pH\"])\n",
    "    D1_list.append(result[\"m_D\"])\n"
   ],
   "outputs": [],
   "execution_count": 15
  },
  {
   "metadata": {
    "ExecuteTime": {
     "end_time": "2025-06-18T17:47:44.466890Z",
     "start_time": "2025-06-18T17:47:44.328845Z"
    }
   },
   "cell_type": "code",
   "source": [
    "def mm_to_inch(mm):\n",
    "    return mm / 25.4\n",
    "\n",
    "plt.rcParams.update({\n",
    "    'font.family': 'sans-serif',\n",
    "    'font.sans-serif': ['Arial', 'Helvetica'],\n",
    "    'font.size': 7,\n",
    "    'axes.linewidth': 0.5,\n",
    "    'xtick.direction': 'in',\n",
    "    'ytick.direction': 'in',\n",
    "    'xtick.major.size': 3,\n",
    "    'ytick.major.size': 3,\n",
    "    'figure.dpi': 300,\n",
    "    'axes.grid': False,\n",
    "    'lines.linewidth': 1.0,\n",
    "    'axes.prop_cycle': plt.cycler('color', ['#0072B2', '#D55E00', '#CC79A7', '#F0E442'])\n",
    "})\n",
    "\n",
    "fig_width_mm = 89\n",
    "fig_height_mm = 60\n",
    "fig, ax = plt.subplots(figsize=(mm_to_inch(fig_width_mm), mm_to_inch(fig_height_mm)))\n",
    "\n",
    "#ax.set_xlim(0.146, 0.153)\n",
    "ax.set_ylim(0, 1.2)\n",
    "\n",
    "ax.plot(C_NaOH0_array, D1_list, label='GPT', color='Green', linestyle='-')\n",
    "ax.plot(C_NaOH0_array, D_list, label='GPT', color='Red', linestyle='-')\n",
    "ax.plot(Na_frac, m_d, label='расчет', color='Black', linestyle='-')\n",
    "ax.plot(Exp_NaOH_frac, Exp_m_d_hysys, label='hysys', color='Black', linestyle='--')\n",
    "ax.scatter(Exp_NaOH_frac, Exp_m_d, label='n-PnSH 50 °С', color='Red', marker='o')\n",
    "\n",
    "ax.set_xlabel('NaOH, моль/л')\n",
    "ax.set_ylabel('m_d')\n",
    "leg = ax.legend(frameon=False, fontsize=6)\n",
    "\n",
    "plt.tight_layout()\n"
   ],
   "id": "286b27ddadfaef7",
   "outputs": [
    {
     "data": {
      "text/plain": [
       "<Figure size 1051.18x708.661 with 1 Axes>"
      ],
      "image/png": "[encoded data removed]"
     },
     "metadata": {},
     "output_type": "display_data"
    }
   ],
   "execution_count": 16
  }
 ],
 "metadata": {
  "kernelspec": {
   "display_name": "Python 3 (ipykernel)",
   "language": "python",
   "name": "python3"
  },
  "language_info": {
   "codemirror_mode": {
    "name": "ipython",
    "version": 3
   },
   "file_extension": ".py",
   "mimetype": "text/x-python",
   "name": "python",
   "nbconvert_exporter": "python",
   "pygments_lexer": "ipython3",
   "version": "3.12.5"
  }
 },
 "nbformat": 4,
 "nbformat_minor": 5
}
