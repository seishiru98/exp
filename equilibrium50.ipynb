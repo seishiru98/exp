{
 "cells": [
  {
   "cell_type": "code",
   "id": "initial_id",
   "metadata": {
    "collapsed": true,
    "ExecuteTime": {
     "end_time": "2025-06-10T18:27:58.334562Z",
     "start_time": "2025-06-10T18:27:57.942467Z"
    }
   },
   "source": [
    "import matplotlib.pyplot as plt\n",
    "import numpy as np\n",
    "from scipy.interpolate import make_interp_spline\n",
    "import main"
   ],
   "outputs": [],
   "execution_count": 1
  },
  {
   "metadata": {
    "ExecuteTime": {
     "end_time": "2025-06-10T18:28:06.719187Z",
     "start_time": "2025-06-10T18:28:06.715554Z"
    }
   },
   "cell_type": "code",
   "source": [
    "n = np.array([0.9424, 0.9582, 0.9475])\n",
    "MW_pnsh, MW_s, MW_NaOH = 76.16, 32.065, 39.9971\n",
    "\n",
    "average = np.average(n)\n",
    "\n",
    "feed_pnsh_frac = average * (MW_pnsh / MW_s)\n",
    "print(f'Концентрация тиола в октане: {feed_pnsh_frac:.5f} % масс')"
   ],
   "id": "288f540ce7749290",
   "outputs": [
    {
     "name": "stdout",
     "output_type": "stream",
     "text": [
      "Концентрация тиола в октане: 2.25491 % масс\n"
     ]
    }
   ],
   "execution_count": 2
  },
  {
   "metadata": {
    "ExecuteTime": {
     "end_time": "2025-06-10T18:58:13.714446Z",
     "start_time": "2025-06-10T18:58:13.709932Z"
    }
   },
   "cell_type": "code",
   "source": [
    "print(f'Чистая вода')\n",
    "print(f'50')\n",
    "exp_50 = main.exp_calc(16.1890, 1.4767, 26.3136, 34.9207, feed_pnsh_frac, 0.9393)\n",
    "\n",
    "print('-----------#При равновесии по hysys-----------')\n",
    "equilibrium_aqueous_phase_mass_hysys_50, frac_aqueous_phase_hysys_50 = 1.48799856406375e-003, 0.014748894\n",
    "print(f'{equilibrium_aqueous_phase_mass_hysys_50:.5g} грамм, {frac_aqueous_phase_hysys_50:.5g} % масс пропантиола в воде')\n",
    "equilibrium_liquid_phase_mass_hysys_50, frac_liquid_phase_hysys_50 = 0.160316114536461, 2.234065029\n",
    "print(f'{equilibrium_liquid_phase_mass_hysys_50:.5g} грамм, {frac_liquid_phase_hysys_50:.5g} % масс пропантиола в октане')\n",
    "\n",
    "pnsh_frac_aqueous_phase_50 = exp_50[0] / 100\n",
    "rho_aqueous_phase_50 = 992.2\n",
    "C_pnsh_on_aqueous_phase_50 = pnsh_frac_aqueous_phase_50 * rho_aqueous_phase_50 / MW_pnsh\n",
    "print(f'Концентрация пропантиола в воде: {C_pnsh_on_aqueous_phase_50:.5g} моль/л')\n",
    "\n",
    "pnsh_frac_liquid_phase_50 = exp_50[1] / 100\n",
    "rho_liquid_phase_50 = 667.5\n",
    "C_pnsh_on_liquid_phase_50 = pnsh_frac_liquid_phase_50 * rho_liquid_phase_50 / MW_pnsh\n",
    "print(f'Концентрация пропантиола в октане: {C_pnsh_on_liquid_phase_50:.5g} моль/л')\n",
    "m0 = C_pnsh_on_liquid_phase_50 / C_pnsh_on_aqueous_phase_50\n",
    "print(f'Коэффициент распределения: {m0:.2g}')\n",
    "\n",
    "pnsh_frac_aqueous_phase_50_hysys = frac_aqueous_phase_hysys_50 / 100\n",
    "C_pnsh_on_aqueous_phase_50_hysys = pnsh_frac_aqueous_phase_50_hysys * rho_aqueous_phase_50 / MW_pnsh\n",
    "print(f'Концентрация пропантиола в воде: {C_pnsh_on_aqueous_phase_50_hysys:.5g} моль/л (hysys)')\n",
    "\n",
    "pnsh_frac_liquid_phase_50_hysys = frac_liquid_phase_hysys_50 / 100\n",
    "C_pnsh_on_liquid_phase_50_hysys = pnsh_frac_liquid_phase_50 * rho_liquid_phase_50 / MW_pnsh\n",
    "print(f'Концентрация пропантиола в октане: {C_pnsh_on_liquid_phase_50_hysys:.5g} моль/л (hysys)')\n",
    "m0_hysys = C_pnsh_on_liquid_phase_50_hysys / C_pnsh_on_aqueous_phase_50_hysys\n",
    "print(f'Коэффициент распределения: {m0_hysys:.2g} (hysys)')"
   ],
   "id": "ba304fa02312e238",
   "outputs": [
    {
     "name": "stdout",
     "output_type": "stream",
     "text": [
      "Чистая вода\n",
      "50\n",
      "-----------#Исходнй состав-----------\n",
      "-----------Водная фаза - 10.125, грамм:\n",
      "Вода: 10.125 грамм,  100 % мас.\n",
      "-----------Органическая фаза фаза - 7.1304 грамм:\n",
      "Октан 6.9696, грамм,  97.745 % мас.\n",
      "Пропантиол 0.16078, грамм,  2.2549 % мас.\n",
      "-----------#Равновесный состав-----------\n",
      "-----------Водная фаза - 10.126, грамм:\n",
      "Вода 10.125 грамм, 99.983 % мас.\n",
      "Пропантиол 0.0017049 грамм, 0.016839 % мас.\n",
      "-----------Органическая фаза фаза - 7.1287 грамм:\n",
      "Октан 6.9696 грамм, 97.768 % мас.\n",
      "Пропантиол 0.15908 грамм, 2.231 % мас.\n",
      "-----------#При равновесии по hysys-----------\n",
      "0.001488 грамм, 0.014749 % масс пропантиола в воде\n",
      "0.16032 грамм, 2.2341 % масс пропантиола в октане\n",
      "Концентрация пропантиола в воде: 0.0021938 моль/л\n",
      "Концентрация пропантиола в октане: 0.19553 моль/л\n",
      "Коэффициент распределения: 89\n",
      "Концентрация пропантиола в воде: 0.0019215 моль/л (hysys)\n",
      "Концентрация пропантиола в октане: 0.19553 моль/л (hysys)\n",
      "Коэффициент распределения: 1e+02 (hysys)\n"
     ]
    }
   ],
   "execution_count": 5
  },
  {
   "metadata": {},
   "cell_type": "code",
   "outputs": [],
   "execution_count": null,
   "source": "",
   "id": "f58c1b0c743eb8b6"
  },
  {
   "metadata": {},
   "cell_type": "code",
   "outputs": [],
   "execution_count": null,
   "source": "",
   "id": "19561b6666a46f8c"
  },
  {
   "metadata": {},
   "cell_type": "code",
   "outputs": [],
   "execution_count": null,
   "source": "",
   "id": "97534831aa59dbff"
  },
  {
   "metadata": {},
   "cell_type": "code",
   "outputs": [],
   "execution_count": null,
   "source": "",
   "id": "11750b2929144ede"
  },
  {
   "metadata": {},
   "cell_type": "code",
   "outputs": [],
   "execution_count": null,
   "source": "",
   "id": "65624ed5416d963"
  },
  {
   "metadata": {},
   "cell_type": "code",
   "outputs": [],
   "execution_count": null,
   "source": [
    "print(f'Концентрация NaOH 8.59 % масс')\n",
    "print(f'50')\n",
    "exp8_50 = main.exp_calc(16.6683, 1.4804, 27.6966, 36.3234, feed_pnsh_frac, 0.0753)"
   ],
   "id": "23c6ed76141b4489"
  },
  {
   "metadata": {},
   "cell_type": "code",
   "outputs": [],
   "execution_count": null,
   "source": "",
   "id": "40d97a1d117780cf"
  },
  {
   "metadata": {},
   "cell_type": "code",
   "outputs": [],
   "execution_count": null,
   "source": [
    "print(f'Концентрация NaOH 12.84 % масс')\n",
    "print(f'50')\n",
    "exp13_50 = main.exp_calc(16.3610, 1.5025, 27.7664, 36.4621, feed_pnsh_frac, 0.0661)"
   ],
   "id": "d380bd204de52015"
  },
  {
   "metadata": {},
   "cell_type": "code",
   "outputs": [],
   "execution_count": null,
   "source": [
    "print(f'Концентрация NaOH 17.52 % масс')\n",
    "print(f'50')\n",
    "exp17_50 = main.exp_calc(16.4381, 1.4933, 28.2656, 36.7809, feed_pnsh_frac, 0.0616)"
   ],
   "id": "38633726e2713a3b"
  }
 ],
 "metadata": {
  "kernelspec": {
   "display_name": "Python 3",
   "language": "python",
   "name": "python3"
  },
  "language_info": {
   "codemirror_mode": {
    "name": "ipython",
    "version": 2
   },
   "file_extension": ".py",
   "mimetype": "text/x-python",
   "name": "python",
   "nbconvert_exporter": "python",
   "pygments_lexer": "ipython2",
   "version": "2.7.6"
  }
 },
 "nbformat": 4,
 "nbformat_minor": 5
}
