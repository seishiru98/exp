{
 "cells": [
  {
   "cell_type": "code",
   "id": "initial_id",
   "metadata": {
    "ExecuteTime": {
     "end_time": "2025-06-10T18:55:38.269250Z",
     "start_time": "2025-06-10T18:55:37.876843Z"
    }
   },
   "source": [
    "import matplotlib.pyplot as plt\n",
    "import numpy as np\n",
    "from scipy.interpolate import make_interp_spline\n",
    "import main"
   ],
   "outputs": [],
   "execution_count": 1
  },
  {
   "cell_type": "code",
   "id": "7aaaf2d739b4eb95",
   "metadata": {
    "ExecuteTime": {
     "end_time": "2025-06-10T18:55:38.401080Z",
     "start_time": "2025-06-10T18:55:38.398330Z"
    }
   },
   "source": [
    "n = np.array([0.9424, 0.9582, 0.9475])\n",
    "MW_pnsh, MW_s, MW_NaOH = 76.16, 32.065, 39.9971\n",
    "\n",
    "average = np.average(n)\n",
    "\n",
    "feed_pnsh_frac = average * (MW_pnsh / MW_s)\n",
    "print(f'Концентрация тиола в октане: {feed_pnsh_frac:.5f} % масс')\n"
   ],
   "outputs": [
    {
     "name": "stdout",
     "output_type": "stream",
     "text": [
      "Концентрация тиола в октане: 2.25491 % масс\n"
     ]
    }
   ],
   "execution_count": 2
  },
  {
   "cell_type": "code",
   "id": "7d2d14c7e975f1ed",
   "metadata": {
    "ExecuteTime": {
     "end_time": "2025-06-10T18:55:38.423096Z",
     "start_time": "2025-06-10T18:55:38.418024Z"
    }
   },
   "source": [
    "print(f'Чистая вода')\n",
    "print(f'40')\n",
    "exp_40 = main.exp_calc(16.1488, 1.4610, 26.3098, 34.9469, feed_pnsh_frac, 0.9338)\n",
    "\n",
    "print('-----------#При равновесии по hysys-----------')\n",
    "equilibrium_aqueous_phase_mass_hysys_40, frac_aqueous_phase_hysys_40 = 1.48799856406375e-003, 0.014748894\n",
    "print(f'{equilibrium_aqueous_phase_mass_hysys_40:.5g} грамм, {frac_aqueous_phase_hysys_40:.5g} % масс пропантиола в воде')\n",
    "equilibrium_liquid_phase_mass_hysys_40, frac_liquid_phase_hysys_40 = 0.160316114536461, 2.234065029\n",
    "print(f'{equilibrium_liquid_phase_mass_hysys_40:.5g} грамм, {frac_liquid_phase_hysys_40:.5g} % масс пропантиола в октане')\n",
    "\n",
    "pnsh_frac_aqueous_phase_40 = exp_40[0] / 100\n",
    "rho_aqueous_phase_40 = 992.2\n",
    "C_pnsh_on_aqueous_phase_40 = pnsh_frac_aqueous_phase_40 * rho_aqueous_phase_40 / MW_pnsh\n",
    "print(f'Концентрация пропантиола в воде: {C_pnsh_on_aqueous_phase_40:.5g} моль/л')\n",
    "\n",
    "pnsh_frac_liquid_phase_40 = exp_40[1] / 100\n",
    "rho_liquid_phase_40 = 667.5\n",
    "C_pnsh_on_liquid_phase_40 = pnsh_frac_liquid_phase_40 * rho_liquid_phase_40 / MW_pnsh\n",
    "print(f'Концентрация пропантиола в октане: {C_pnsh_on_liquid_phase_40:.5g} моль/л')\n",
    "m0 = C_pnsh_on_liquid_phase_40 / C_pnsh_on_aqueous_phase_40\n",
    "print(f'Коэффициент распределения: {m0:.2g}')\n",
    "\n",
    "pnsh_frac_aqueous_phase_40_hysys = frac_aqueous_phase_hysys_40 / 100\n",
    "C_pnsh_on_aqueous_phase_40_hysys = pnsh_frac_aqueous_phase_40_hysys * rho_aqueous_phase_40 / MW_pnsh\n",
    "print(f'Концентрация пропантиола в воде: {C_pnsh_on_aqueous_phase_40_hysys:.5g} моль/л (hysys)')\n",
    "\n",
    "pnsh_frac_liquid_phase_40_hysys = frac_liquid_phase_hysys_40 / 100\n",
    "C_pnsh_on_liquid_phase_40_hysys = pnsh_frac_liquid_phase_40 * rho_liquid_phase_40 / MW_pnsh\n",
    "print(f'Концентрация пропантиола в октане: {C_pnsh_on_liquid_phase_40_hysys:.5g} моль/л (hysys)')\n",
    "m0_hysys = C_pnsh_on_liquid_phase_40_hysys / C_pnsh_on_aqueous_phase_40_hysys\n",
    "print(f'Коэффициент распределения: {m0_hysys:.2g} (hysys)')"
   ],
   "outputs": [
    {
     "name": "stdout",
     "output_type": "stream",
     "text": [
      "Чистая вода\n",
      "40\n",
      "-----------#Исходнй состав-----------\n",
      "-----------Водная фаза - 10.161, грамм:\n",
      "Вода: 10.161 грамм,  100 % мас.\n",
      "-----------Органическая фаза фаза - 7.1761 грамм:\n",
      "Октан 7.0143, грамм,  97.745 % мас.\n",
      "Пропантиол 0.16181, грамм,  2.2549 % мас.\n",
      "-----------#Равновесный состав-----------\n",
      "-----------Водная фаза - 10.164, грамм:\n",
      "Вода 10.161 грамм, 99.974 % мас.\n",
      "Пропантиол 0.0026533 грамм, 0.026112 % мас.\n",
      "-----------Органическая фаза фаза - 7.1734 грамм:\n",
      "Октан 7.0143 грамм, 97.781 % мас.\n",
      "Пропантиол 0.15916 грамм, 2.2179 % мас.\n",
      "-----------#При равновесии по hysys-----------\n",
      "0.001488 грамм, 0.014749 % масс пропантиола в воде\n",
      "0.16032 грамм, 2.2341 % масс пропантиола в октане\n",
      "Концентрация пропантиола в воде: 0.0034019 моль/л\n",
      "Концентрация пропантиола в октане: 0.19439 моль/л\n",
      "Коэффициент распределения: 57\n",
      "Концентрация пропантиола в воде: 0.0019215 моль/л (hysys)\n",
      "Концентрация пропантиола в октане: 0.19439 моль/л (hysys)\n",
      "Коэффициент распределения: 1e+02 (hysys)\n"
     ]
    }
   ],
   "execution_count": 3
  },
  {
   "cell_type": "code",
   "id": "fd028e92789c3f10",
   "metadata": {
    "ExecuteTime": {
     "end_time": "2025-06-10T18:55:38.440796Z",
     "start_time": "2025-06-10T18:55:38.435429Z"
    }
   },
   "source": [
    "print(f'1% NaOH')\n",
    "print(f'40')\n",
    "exp_1_40 = main.exp_calc(16.6681, 1.4990, 26.8948, 35.5515, feed_pnsh_frac, 0.4397)\n",
    "\n",
    "print('-----------#При равновесии по hysys-----------')\n",
    "equilibrium_aqueous_phase_mass_hysys_1_40, frac_aqueous_phase_hysys_1_40 = 8.37321780454312e-002, 0.812190623\n",
    "print(f'{equilibrium_aqueous_phase_mass_hysys_1_40:.5g} грамм, {frac_aqueous_phase_hysys_1_40:.5g} % масс пропантиола в воде')\n",
    "equilibrium_liquid_phase_mass_hysys_1_40, frac_liquid_phase_hysys_1_40 = 7.76676850845860e-002, 1.097733703\n",
    "print(f'{equilibrium_liquid_phase_mass_hysys_1_40:.5g} грамм, {frac_liquid_phase_hysys_1_40:.5g} % масс пропантиола в октане')\n",
    "\n",
    "NaOH_frac_aqueous_phase_1_40 = 1 / 100\n",
    "rho_NaOH_1_40 = 1005\n",
    "C_NaOH_on_aqueous_phase_1_40 = NaOH_frac_aqueous_phase_1_40 * rho_NaOH_1_40 / MW_NaOH\n",
    "print(f'Концентрация NaOH в воде: {C_NaOH_on_aqueous_phase_1_40:.5g} моль/л')\n",
    "\n",
    "pnsh_frac_aqueous_phase_1_40 = exp_1_40[0] / 100\n",
    "rho_aqueous_phase_1_40 = 999.5\n",
    "C_pnsh_on_aqueous_phase_1_40 = pnsh_frac_aqueous_phase_1_40 * rho_aqueous_phase_1_40 / MW_pnsh\n",
    "print(f'Концентрация пропантиола в воде: {C_pnsh_on_aqueous_phase_1_40:.5g} моль/л')\n",
    "\n",
    "pnsh_frac_liquid_phase_1_40 = exp_1_40[1] / 100\n",
    "rho_liquid_phase_1_40 = 666.0\n",
    "C_pnsh_on_liquid_phase_1_40 = pnsh_frac_liquid_phase_1_40 * rho_liquid_phase_1_40 / MW_pnsh\n",
    "print(f'Концентрация пропантиола в октане: {C_pnsh_on_liquid_phase_1_40:.5g} моль/л')\n",
    "\n",
    "m_1_40 = C_pnsh_on_liquid_phase_1_40 / C_pnsh_on_aqueous_phase_1_40\n",
    "print(f'Коэффициент распределения: {m_1_40:.2g}')\n",
    "\n",
    "pnsh_frac_aqueous_phase_1_40_hysys = frac_aqueous_phase_hysys_1_40 / 100\n",
    "C_pnsh_on_aqueous_phase_1_40_hysys = pnsh_frac_aqueous_phase_1_40_hysys * rho_aqueous_phase_1_40 / MW_pnsh\n",
    "print(f'Концентрация пропантиола в воде: {C_pnsh_on_aqueous_phase_1_40_hysys:.5g} моль/л (hysys)')\n",
    "\n",
    "pnsh_frac_liquid_phase_1_40_hysys = frac_liquid_phase_hysys_1_40 / 100\n",
    "C_pnsh_on_liquid_phase_1_40_hysys = pnsh_frac_liquid_phase_1_40 * rho_liquid_phase_1_40 / MW_pnsh\n",
    "print(f'Концентрация пропантиола в октане: {C_pnsh_on_liquid_phase_1_40_hysys:.5g} моль/л (hysys)')\n",
    "\n",
    "m_1_40_hysys = C_pnsh_on_liquid_phase_1_40_hysys / C_pnsh_on_aqueous_phase_1_40_hysys\n",
    "print(f'Коэффициент распределения: {m_1_40_hysys:.2g} (hysys)')"
   ],
   "outputs": [
    {
     "name": "stdout",
     "output_type": "stream",
     "text": [
      "1% NaOH\n",
      "40\n",
      "-----------#Исходнй состав-----------\n",
      "-----------Водная фаза - 10.227, грамм:\n",
      "Вода: 10.227 грамм,  100 % мас.\n",
      "-----------Органическая фаза фаза - 7.1577 грамм:\n",
      "Октан 6.9963, грамм,  97.745 % мас.\n",
      "Пропантиол 0.1614, грамм,  2.2549 % мас.\n",
      "-----------#Равновесный состав-----------\n",
      "-----------Водная фаза - 10.313, грамм:\n",
      "Вода 10.227 грамм, 99.16 % мас.\n",
      "Пропантиол 0.086647 грамм, 0.84727 % мас.\n",
      "-----------Органическая фаза фаза - 7.0711 грамм:\n",
      "Октан 6.9963 грамм, 98.943 % мас.\n",
      "Пропантиол 0.074752 грамм, 1.0444 % мас.\n",
      "-----------#При равновесии по hysys-----------\n",
      "0.083732 грамм, 0.81219 % масс пропантиола в воде\n",
      "0.077668 грамм, 1.0977 % масс пропантиола в октане\n",
      "Концентрация NaOH в воде: 0.25127 моль/л\n",
      "Концентрация пропантиола в воде: 0.11119 моль/л\n",
      "Концентрация пропантиола в октане: 0.091327 моль/л\n",
      "Коэффициент распределения: 0.82\n",
      "Концентрация пропантиола в воде: 0.10659 моль/л (hysys)\n",
      "Концентрация пропантиола в октане: 0.091327 моль/л (hysys)\n",
      "Коэффициент распределения: 0.86 (hysys)\n"
     ]
    }
   ],
   "execution_count": 4
  },
  {
   "cell_type": "code",
   "id": "22abf90336e3b28d",
   "metadata": {
    "ExecuteTime": {
     "end_time": "2025-06-10T18:55:38.461898Z",
     "start_time": "2025-06-10T18:55:38.456850Z"
    }
   },
   "source": [
    "print(f'2,16 % NaOH')\n",
    "print(f'40')\n",
    "exp_2_40 = main.exp_calc(16.1503, 1.4607, 26.7455, 35.2766, feed_pnsh_frac, 0.2337)\n",
    "\n",
    "print('-----------#При равновесии по hysys-----------')\n",
    "equilibrium_aqueous_phase_mass_hysys_2_40, frac_aqueous_phase_hysys_2_40 = 0.119486157143271, 1.154989098\n",
    "print(f'{equilibrium_aqueous_phase_mass_hysys_2_40:.5g} грамм, {frac_aqueous_phase_hysys_2_40:.5g} % масс пропантиола в воде')\n",
    "equilibrium_liquid_phase_mass_hysys_2_40, frac_liquid_phase_hysys_2_40 = 4.19137059867460e-002, 0.595409077\n",
    "print(f'{equilibrium_liquid_phase_mass_hysys_2_40:.5g} грамм, {frac_liquid_phase_hysys_2_40:.5g} % масс пропантиола в октане')\n",
    "\n",
    "NaOH_frac_aqueous_phase_2_40 = 2.16 / 100\n",
    "rho_NaOH_2_40 = 1018\n",
    "C_NaOH_on_aqueous_phase_2_40 = NaOH_frac_aqueous_phase_2_40 * rho_NaOH_2_40 / MW_NaOH\n",
    "print(f'Концентрация NaOH в воде: {C_NaOH_on_aqueous_phase_2_40:.5g} моль/л')\n",
    "\n",
    "pnsh_frac_aqueous_phase_2_40 = exp_2_40[0] / 100\n",
    "rho_aqueous_phase_2_40 = 1009.09163988979\n",
    "C_pnsh_on_aqueous_phase_2_40 = pnsh_frac_aqueous_phase_2_40 * rho_aqueous_phase_2_40 / MW_pnsh\n",
    "print(f'Концентрация пропантиола в воде: {C_pnsh_on_aqueous_phase_2_40:.5g} моль/л')\n",
    "\n",
    "pnsh_frac_liquid_phase_2_40 = exp_2_40[1] / 100\n",
    "rho_liquid_phase_2_40 = 665.3\n",
    "C_pnsh_on_liquid_phase_2_40 = pnsh_frac_liquid_phase_2_40 * rho_liquid_phase_2_40 / MW_pnsh\n",
    "print(f'Концентрация пропантиола в октане: {C_pnsh_on_liquid_phase_2_40:.5g} моль/л')\n",
    "\n",
    "m_2_40 = C_pnsh_on_liquid_phase_2_40 / C_pnsh_on_aqueous_phase_2_40\n",
    "print(f'Коэффициент распределения: {m_2_40:.2g}')\n",
    "\n",
    "pnsh_frac_aqueous_phase_2_40_hysys = frac_aqueous_phase_hysys_2_40 / 100\n",
    "C_pnsh_on_aqueous_phase_2_40_hysys = pnsh_frac_aqueous_phase_2_40_hysys * rho_aqueous_phase_2_40 / MW_pnsh\n",
    "print(f'Концентрация пропантиола в воде: {C_pnsh_on_aqueous_phase_2_40_hysys:.5g} моль/л (hysys)')\n",
    "\n",
    "pnsh_frac_liquid_phase_2_40_hysys = frac_liquid_phase_hysys_2_40 / 100\n",
    "C_pnsh_on_liquid_phase_2_40_hysys = pnsh_frac_liquid_phase_2_40 * rho_liquid_phase_2_40 / MW_pnsh\n",
    "print(f'Концентрация пропантиола в октане: {C_pnsh_on_liquid_phase_2_40_hysys:.5g} моль/л (hysys)')\n",
    "\n",
    "m_2_40_hysys = C_pnsh_on_liquid_phase_2_40_hysys / C_pnsh_on_aqueous_phase_2_40_hysys\n",
    "print(f'Коэффициент распределения: {m_2_40_hysys:.2g} (hysys)')"
   ],
   "outputs": [
    {
     "name": "stdout",
     "output_type": "stream",
     "text": [
      "2,16 % NaOH\n",
      "40\n",
      "-----------#Исходнй состав-----------\n",
      "-----------Водная фаза - 10.595, грамм:\n",
      "Вода: 10.595 грамм,  100 % мас.\n",
      "-----------Органическая фаза фаза - 7.0704 грамм:\n",
      "Октан 6.911, грамм,  97.745 % мас.\n",
      "Пропантиол 0.15943, грамм,  2.2549 % мас.\n",
      "-----------#Равновесный состав-----------\n",
      "-----------Водная фаза - 10.715, грамм:\n",
      "Вода 10.595 грамм, 98.878 % мас.\n",
      "Пропантиол 0.12019 грамм, 1.1343 % мас.\n",
      "-----------Органическая фаза фаза - 6.9502 грамм:\n",
      "Октан 6.911 грамм, 99.435 % мас.\n",
      "Пропантиол 0.039246 грамм, 0.55508 % мас.\n",
      "-----------#При равновесии по hysys-----------\n",
      "0.11949 грамм, 1.155 % масс пропантиола в воде\n",
      "0.041914 грамм, 0.59541 % масс пропантиола в октане\n",
      "Концентрация NaOH в воде: 0.54976 моль/л\n",
      "Концентрация пропантиола в воде: 0.1503 моль/л\n",
      "Концентрация пропантиола в октане: 0.048489 моль/л\n",
      "Коэффициент распределения: 0.32\n",
      "Концентрация пропантиола в воде: 0.15303 моль/л (hysys)\n",
      "Концентрация пропантиола в октане: 0.048489 моль/л (hysys)\n",
      "Коэффициент распределения: 0.32 (hysys)\n"
     ]
    }
   ],
   "execution_count": 5
  },
  {
   "cell_type": "code",
   "id": "8659ed33-9732-4556-8502-4e42c99155aa",
   "metadata": {
    "ExecuteTime": {
     "end_time": "2025-06-10T18:55:38.487810Z",
     "start_time": "2025-06-10T18:55:38.482297Z"
    }
   },
   "source": [
    "print(f'3 % NaOH')\n",
    "print(f'40')\n",
    "exp_3_40 = main.exp_calc(16.6230, 1.4832, 27.0011, 35.7135, feed_pnsh_frac, 0.1432)\n",
    "\n",
    "print('-----------##Равновесный состав по hysys-----------')\n",
    "equilibrium_aqueous_phase_mass_hysys_3_40, frac_aqueous_phase_hysys_3_40 = 0.1409, 1.33\n",
    "print(f'{equilibrium_aqueous_phase_mass_hysys_3_40:.5g} грамм, {frac_aqueous_phase_hysys_3_40:.5g} % масс пропантиола в воде')\n",
    "equilibrium_liquid_phase_mass_hysys_3_40, frac_liquid_phase_hysys_3_40 = 0.0221, 0.31238\n",
    "print(f'{equilibrium_liquid_phase_mass_hysys_3_40:.5g} грамм, {frac_liquid_phase_hysys_3_40:.5g} % масс пропантиола в октане')\n",
    "\n",
    "NaOH_frac_aqueous_phase_3_40 = 3 / 100\n",
    "rho_NaOH_3_40 = 1028\n",
    "C_NaOH_on_aqueous_phase_3_40 = NaOH_frac_aqueous_phase_3_40 * rho_NaOH_3_40 / MW_NaOH\n",
    "print(f'Концентрация NaOH в воде: {C_NaOH_on_aqueous_phase_3_40:.5g} моль/л')\n",
    "\n",
    "pnsh_frac_aqueous_phase_3_40 = exp_3_40[0] / 100\n",
    "rho_aqueous_phase_3_40 = 1020\n",
    "C_pnsh_on_aqueous_phase_3_40 = pnsh_frac_aqueous_phase_3_40 * rho_aqueous_phase_3_40 / MW_pnsh\n",
    "print(f'Концентрация пропантиола в воде: {C_pnsh_on_aqueous_phase_3_40:.5g} моль/л')\n",
    "\n",
    "pnsh_frac_liquid_phase_3_40 = exp_3_40[1] / 100\n",
    "rho_liquid_phase_3_40 = 665.0\n",
    "C_pnsh_on_liquid_phase_3_40 = pnsh_frac_liquid_phase_3_40 * rho_liquid_phase_3_40 / MW_pnsh\n",
    "print(f'Концентрация пропантиола в октане: {C_pnsh_on_liquid_phase_3_40:.5g} моль/л')\n",
    "\n",
    "m_3_40 = C_pnsh_on_liquid_phase_3_40 / C_pnsh_on_aqueous_phase_3_40\n",
    "print(f'Коэффициент распределения: {m_3_40:.2g}')\n",
    "\n",
    "pnsh_frac_aqueous_phase_3_40_hysys = frac_aqueous_phase_hysys_3_40 / 100\n",
    "C_pnsh_on_aqueous_phase_3_40_hysys = pnsh_frac_aqueous_phase_3_40_hysys * rho_aqueous_phase_3_40 / MW_pnsh\n",
    "print(f'Концентрация пропантиола в воде: {C_pnsh_on_aqueous_phase_3_40_hysys:.5g} моль/л (hysys)')\n",
    "\n",
    "pnsh_frac_liquid_phase_3_40_hysys = frac_liquid_phase_hysys_3_40 / 100\n",
    "C_pnsh_on_liquid_phase_3_40_hysys = pnsh_frac_liquid_phase_3_40 * rho_liquid_phase_3_40 / MW_pnsh\n",
    "print(f'Концентрация пропантиола в октане: {C_pnsh_on_liquid_phase_3_40_hysys:.5g} моль/л (hysys)')\n",
    "\n",
    "m_3_40_hysys = C_pnsh_on_liquid_phase_3_40_hysys / C_pnsh_on_aqueous_phase_3_40_hysys\n",
    "print(f'Коэффициент распределения: {m_3_40_hysys:.2g} (hysys)')"
   ],
   "outputs": [
    {
     "name": "stdout",
     "output_type": "stream",
     "text": [
      "3 % NaOH\n",
      "40\n",
      "-----------#Исходнй состав-----------\n",
      "-----------Водная фаза - 10.378, грамм:\n",
      "Вода: 10.378 грамм,  100 % мас.\n",
      "-----------Органическая фаза фаза - 7.2292 грамм:\n",
      "Октан 7.0662, грамм,  97.745 % мас.\n",
      "Пропантиол 0.16301, грамм,  2.2549 % мас.\n",
      "-----------#Равновесный состав-----------\n",
      "-----------Водная фаза - 10.517, грамм:\n",
      "Вода 10.378 грамм, 98.684 % мас.\n",
      "Пропантиол 0.13842 грамм, 1.3338 % мас.\n",
      "-----------Органическая фаза фаза - 7.0908 грамм:\n",
      "Октан 7.0662 грамм, 99.653 % мас.\n",
      "Пропантиол 0.024588 грамм, 0.34013 % мас.\n",
      "-----------##Равновесный состав по hysys-----------\n",
      "0.1409 грамм, 1.33 % масс пропантиола в воде\n",
      "0.0221 грамм, 0.31238 % масс пропантиола в октане\n",
      "Концентрация NaOH в воде: 0.77106 моль/л\n",
      "Концентрация пропантиола в воде: 0.17863 моль/л\n",
      "Концентрация пропантиола в октане: 0.029698 моль/л\n",
      "Коэффициент распределения: 0.17\n",
      "Концентрация пропантиола в воде: 0.17813 моль/л (hysys)\n",
      "Концентрация пропантиола в октане: 0.029698 моль/л (hysys)\n",
      "Коэффициент распределения: 0.17 (hysys)\n"
     ]
    }
   ],
   "execution_count": 6
  },
  {
   "cell_type": "code",
   "id": "7f469f6f-cf14-4442-bf84-3c32cd23420e",
   "metadata": {
    "ExecuteTime": {
     "end_time": "2025-06-10T18:55:38.508940Z",
     "start_time": "2025-06-10T18:55:38.503429Z"
    }
   },
   "source": [
    "print(f'4,16 % NaOH')\n",
    "print(f'40')\n",
    "exp_4_40 = main.exp_calc(16.1451, 1.4543, 26.7849, 35.3921, feed_pnsh_frac, 0.0815)\n",
    "\n",
    "print('-----------##Равновесный состав по hysys-----------')\n",
    "equilibrium_aqueous_phase_mass_hysys_4_40, frac_aqueous_phase_hysys_4_40 = 0.1472, 1.364335\n",
    "print(f'{equilibrium_aqueous_phase_mass_hysys_4_40:.5g} грамм, {frac_aqueous_phase_hysys_4_40:.5g} % масс пропантиола в воде')\n",
    "\n",
    "equilibrium_liquid_phase_mass_hysys_4_40, frac_liquid_phase_hysys_4_40 = 0.0141, 0.201727\n",
    "print(f'{equilibrium_liquid_phase_mass_hysys_4_40:.5g} грамм, {frac_liquid_phase_hysys_4_40:.5g} % масс пропантиола в октане')\n",
    "\n",
    "NaOH_frac_aqueous_phase_4_40 = 4.16 / 100\n",
    "rho_NaOH_4_40 = 1041\n",
    "C_NaOH_on_aqueous_phase_4_40 = NaOH_frac_aqueous_phase_4_40 * rho_NaOH_4_40 / MW_NaOH\n",
    "print(f'Концентрация NaOH в воде: {C_NaOH_on_aqueous_phase_4_40:.5g} моль/л')\n",
    "\n",
    "pnsh_frac_aqueous_phase_4_40 = exp_4_40[0] / 100\n",
    "rho_aqueous_phase_4_40 = 1032\n",
    "C_pnsh_on_aqueous_phase_4_40 = pnsh_frac_aqueous_phase_4_40 * rho_aqueous_phase_4_40 / MW_pnsh\n",
    "print(f'Концентрация пропантиола в воде: {C_pnsh_on_aqueous_phase_4_40:.5g} моль/л')\n",
    "\n",
    "pnsh_frac_liquid_phase_4_40 = exp_4_40[1] / 100\n",
    "rho_liquid_phase_4_40 = 665.0\n",
    "C_pnsh_on_liquid_phase_4_40 = pnsh_frac_liquid_phase_4_40 * rho_liquid_phase_4_40 / MW_pnsh\n",
    "print(f'Концентрация пропантиола в октане: {C_pnsh_on_liquid_phase_4_40:.5g} моль/л')\n",
    "\n",
    "m_4_40 = C_pnsh_on_liquid_phase_4_40 / C_pnsh_on_aqueous_phase_4_40\n",
    "print(f'Коэффициент распределения: {m_4_40:.2g}')\n",
    "\n",
    "pnsh_frac_aqueous_phase_4_40_hysys = frac_aqueous_phase_hysys_4_40 / 100\n",
    "C_pnsh_on_aqueous_phase_4_40_hysys = pnsh_frac_aqueous_phase_4_40_hysys * rho_aqueous_phase_4_40 / MW_pnsh\n",
    "print(f'Концентрация пропантиола в воде: {C_pnsh_on_aqueous_phase_4_40_hysys:.5g} моль/л (hysys)')\n",
    "\n",
    "pnsh_frac_liquid_phase_4_40_hysys = frac_liquid_phase_hysys_4_40 / 100\n",
    "C_pnsh_on_liquid_phase_4_40_hysys = pnsh_frac_liquid_phase_4_40 * rho_liquid_phase_4_40 / MW_pnsh\n",
    "print(f'Концентрация пропантиола в октане: {C_pnsh_on_liquid_phase_4_40_hysys:.5g} моль/л (hysys)')\n",
    "\n",
    "m_4_40_hysys = C_pnsh_on_liquid_phase_4_40_hysys / C_pnsh_on_aqueous_phase_4_40_hysys\n",
    "print(f'Коэффициент распределения: {m_4_40_hysys:.2g} (hysys)')"
   ],
   "outputs": [
    {
     "name": "stdout",
     "output_type": "stream",
     "text": [
      "4,16 % NaOH\n",
      "40\n",
      "-----------#Исходнй состав-----------\n",
      "-----------Водная фаза - 10.64, грамм:\n",
      "Вода: 10.64 грамм,  100 % мас.\n",
      "-----------Органическая фаза фаза - 7.1529 грамм:\n",
      "Октан 6.9916, грамм,  97.745 % мас.\n",
      "Пропантиол 0.16129, грамм,  2.2549 % мас.\n",
      "-----------#Равновесный состав-----------\n",
      "-----------Водная фаза - 10.787, грамм:\n",
      "Вода 10.64 грамм, 98.633 % мас.\n",
      "Пропантиол 0.14745 грамм, 1.3858 % мас.\n",
      "-----------Органическая фаза фаза - 7.0055 грамм:\n",
      "Октан 6.9916 грамм, 99.802 % мас.\n",
      "Пропантиол 0.013846 грамм, 0.19358 % мас.\n",
      "-----------##Равновесный состав по hysys-----------\n",
      "0.1472 грамм, 1.3643 % масс пропантиола в воде\n",
      "0.0141 грамм, 0.20173 % масс пропантиола в октане\n",
      "Концентрация NaOH в воде: 1.0827 моль/л\n",
      "Концентрация пропантиола в воде: 0.18778 моль/л\n",
      "Концентрация пропантиола в октане: 0.016902 моль/л\n",
      "Коэффициент распределения: 0.09\n",
      "Концентрация пропантиола в воде: 0.18487 моль/л (hysys)\n",
      "Концентрация пропантиола в октане: 0.016902 моль/л (hysys)\n",
      "Коэффициент распределения: 0.091 (hysys)\n"
     ]
    }
   ],
   "execution_count": 7
  },
  {
   "cell_type": "code",
   "id": "6acc07be-3133-4d5c-9fc1-0db509c687e9",
   "metadata": {
    "ExecuteTime": {
     "end_time": "2025-06-10T18:55:38.525963Z",
     "start_time": "2025-06-10T18:55:38.520963Z"
    }
   },
   "source": [
    "print(f'6 % NaOH')\n",
    "print(f'40')\n",
    "exp_6_40 = main.exp_calc(16.1881, 1.4741, 27.0038, 35.6546, feed_pnsh_frac, 0.0653)\n",
    "\n",
    "print('-----------##Равновесный состав по hysys-----------')\n",
    "equilibrium_aqueous_phase_mass_hysys_6_40, frac_aqueous_phase_hysys_6_40 = 0.1549, 1.412168\n",
    "print(f'{equilibrium_aqueous_phase_mass_hysys_6_40:.5g} грамм, {frac_aqueous_phase_hysys_6_40:.5g} % масс пропантиола в воде')\n",
    "\n",
    "equilibrium_liquid_phase_mass_hysys_6_40, frac_liquid_phase_hysys_6_40 = 0.0069, 0.098483\n",
    "print(f'{equilibrium_liquid_phase_mass_hysys_6_40:.5g} грамм, {frac_liquid_phase_hysys_6_40:.5g} % масс пропантиола в октане')\n",
    "\n",
    "NaOH_frac_aqueous_phase_6_40 = 6 / 100\n",
    "rho_NaOH_6_40 = 1061\n",
    "C_NaOH_on_aqueous_phase_6_40 = NaOH_frac_aqueous_phase_6_40 * rho_NaOH_6_40 / MW_NaOH\n",
    "print(f'Концентрация NaOH в воде: {C_NaOH_on_aqueous_phase_6_40:.5g} моль/л')\n",
    "\n",
    "pnsh_frac_aqueous_phase_6_40 = exp_6_40[0] / 100\n",
    "rho_aqueous_phase_6_40 = 1052\n",
    "C_pnsh_on_aqueous_phase_6_40 = pnsh_frac_aqueous_phase_6_40 * rho_aqueous_phase_6_40 / MW_pnsh\n",
    "print(f'Концентрация пропантиола в воде: {C_pnsh_on_aqueous_phase_6_40:.5g} моль/л')\n",
    "\n",
    "pnsh_frac_liquid_phase_6_40 = exp_6_40[1] / 100\n",
    "rho_liquid_phase_6_40 = 665.2\n",
    "C_pnsh_on_liquid_phase_6_40 = pnsh_frac_liquid_phase_6_40 * rho_liquid_phase_6_40 / MW_pnsh\n",
    "print(f'Концентрация пропантиола в октане: {C_pnsh_on_liquid_phase_6_40:.5g} моль/л')\n",
    "\n",
    "m_6_40 = C_pnsh_on_liquid_phase_6_40 / C_pnsh_on_aqueous_phase_6_40\n",
    "print(f'Коэффициент распределения: {m_6_40:.2g}')\n",
    "\n",
    "pnsh_frac_aqueous_phase_6_40_hysys = frac_aqueous_phase_hysys_6_40 / 100\n",
    "C_pnsh_on_aqueous_phase_6_40_hysys = pnsh_frac_aqueous_phase_6_40_hysys * rho_aqueous_phase_6_40 / MW_pnsh\n",
    "print(f'Концентрация пропантиола в воде: {C_pnsh_on_aqueous_phase_6_40_hysys:.5g} моль/л (hysys)')\n",
    "\n",
    "pnsh_frac_liquid_phase_6_40_hysys = frac_liquid_phase_hysys_6_40 / 100\n",
    "C_pnsh_on_liquid_phase_6_40_hysys = pnsh_frac_liquid_phase_6_40 * rho_liquid_phase_6_40 / MW_pnsh\n",
    "print(f'Концентрация пропантиола в октане: {C_pnsh_on_liquid_phase_6_40_hysys:.5g} моль/л (hysys)')\n",
    "\n",
    "m_6_40_hysys = C_pnsh_on_liquid_phase_6_40_hysys / C_pnsh_on_aqueous_phase_6_40_hysys\n",
    "print(f'Коэффициент распределения: {m_6_40_hysys:.2g} (hysys)')"
   ],
   "outputs": [
    {
     "name": "stdout",
     "output_type": "stream",
     "text": [
      "6 % NaOH\n",
      "40\n",
      "-----------#Исходнй состав-----------\n",
      "-----------Водная фаза - 10.816, грамм:\n",
      "Вода: 10.816 грамм,  100 % мас.\n",
      "-----------Органическая фаза фаза - 7.1767 грамм:\n",
      "Октан 7.0149, грамм,  97.745 % мас.\n",
      "Пропантиол 0.16183, грамм,  2.2549 % мас.\n",
      "-----------#Равновесный состав-----------\n",
      "-----------Водная фаза - 10.966, грамм:\n",
      "Вода 10.816 грамм, 98.626 % мас.\n",
      "Пропантиол 0.1507 грамм, 1.3933 % мас.\n",
      "-----------Органическая фаза фаза - 7.026 грамм:\n",
      "Октан 7.0149 грамм, 99.842 % мас.\n",
      "Пропантиол 0.011131 грамм, 0.1551 % мас.\n",
      "-----------##Равновесный состав по hysys-----------\n",
      "0.1549 грамм, 1.4122 % масс пропантиола в воде\n",
      "0.0069 грамм, 0.098483 % масс пропантиола в октане\n",
      "Концентрация NaOH в воде: 1.5916 моль/л\n",
      "Концентрация пропантиола в воде: 0.19246 моль/л\n",
      "Концентрация пропантиола в октане: 0.013547 моль/л\n",
      "Коэффициент распределения: 0.07\n",
      "Концентрация пропантиола в воде: 0.19506 моль/л (hysys)\n",
      "Концентрация пропантиола в октане: 0.013547 моль/л (hysys)\n",
      "Коэффициент распределения: 0.069 (hysys)\n"
     ]
    }
   ],
   "execution_count": 8
  },
  {
   "cell_type": "code",
   "id": "3160a37c908bf43f",
   "metadata": {
    "ExecuteTime": {
     "end_time": "2025-06-10T18:55:38.542384Z",
     "start_time": "2025-06-10T18:55:38.537990Z"
    }
   },
   "source": [
    "print(f'Концентрация NaOH 8.59 % масс')\n",
    "print(f'40')\n",
    "exp8_40 = main.exp_calc(16.2310, 1.4939, 27.2727, 35.9170, feed_pnsh_frac, 0.0597)\n",
    "\n",
    "print('-----------##Равновесный состав по hysys-----------')\n",
    "equilibrium_aqueous_phase_mass_hysys_8_40, frac_aqueous_phase_hysys_8_40 = 0.1583, 1.41353\n",
    "print(f'{equilibrium_aqueous_phase_mass_hysys_8_40:.5g} грамм, {frac_aqueous_phase_hysys_8_40:.5g} % масс пропантиола в воде')\n",
    "\n",
    "equilibrium_liquid_phase_mass_hysys_8_40, frac_liquid_phase_hysys_8_40 = 0.002929, 0.04189\n",
    "print(f'{equilibrium_liquid_phase_mass_hysys_8_40:.5g} грамм, {frac_liquid_phase_hysys_8_40:.5g} % масс пропантиола в октане')\n",
    "\n",
    "NaOH_frac_aqueous_phase_8_40 = 8.59 / 100\n",
    "rho_NaOH_8_40 = 1090\n",
    "C_NaOH_on_aqueous_phase_8_40 = NaOH_frac_aqueous_phase_8_40 * rho_NaOH_8_40 / MW_NaOH\n",
    "print(f'Концентрация NaOH в воде: {C_NaOH_on_aqueous_phase_8_40:.5g} моль/л')\n",
    "\n",
    "pnsh_frac_aqueous_phase_8_40 = exp8_40[0] / 100\n",
    "rho_aqueous_phase_8_40 = 1080\n",
    "C_pnsh_on_aqueous_phase_8_40 = pnsh_frac_aqueous_phase_8_40 * rho_aqueous_phase_8_40 / MW_pnsh\n",
    "print(f'Концентрация пропантиола в воде: {C_pnsh_on_aqueous_phase_8_40:.5g} моль/л')\n",
    "\n",
    "pnsh_frac_liquid_phase_8_40 = exp8_40[1] / 100\n",
    "rho_liquid_phase_8_40 = 665.6\n",
    "C_pnsh_on_liquid_phase_8_40 = pnsh_frac_liquid_phase_8_40 * rho_liquid_phase_8_40 / MW_pnsh\n",
    "print(f'Концентрация пропантиола в октане: {C_pnsh_on_liquid_phase_8_40:.5g} моль/л')\n",
    "\n",
    "m_8_40 = C_pnsh_on_liquid_phase_8_40 / C_pnsh_on_aqueous_phase_8_40\n",
    "print(f'Коэффициент распределения: {m_8_40:.2g}')\n",
    "\n",
    "pnsh_frac_aqueous_phase_8_40_hysys = frac_aqueous_phase_hysys_8_40 / 100\n",
    "C_pnsh_on_aqueous_phase_8_40_hysys = pnsh_frac_aqueous_phase_8_40_hysys * rho_aqueous_phase_8_40 / MW_pnsh\n",
    "print(f'Концентрация пропантиола в воде: {C_pnsh_on_aqueous_phase_8_40_hysys:.5g} моль/л (hysys)')\n",
    "\n",
    "pnsh_frac_liquid_phase_8_40_hysys = frac_liquid_phase_hysys_8_40 / 100\n",
    "C_pnsh_on_liquid_phase_8_40_hysys = pnsh_frac_liquid_phase_8_40 * rho_liquid_phase_8_40 / MW_pnsh\n",
    "print(f'Концентрация пропантиола в октане: {C_pnsh_on_liquid_phase_8_40_hysys:.5g} моль/л (hysys)')\n",
    "\n",
    "m_8_40_hysys = C_pnsh_on_liquid_phase_8_40_hysys / C_pnsh_on_aqueous_phase_8_40_hysys\n",
    "print(f'Коэффициент распределения: {m_8_40_hysys:.2g} (hysys)')"
   ],
   "outputs": [
    {
     "name": "stdout",
     "output_type": "stream",
     "text": [
      "Концентрация NaOH 8.59 % масс\n",
      "40\n",
      "-----------#Исходнй состав-----------\n",
      "-----------Водная фаза - 11.042, грамм:\n",
      "Вода: 11.042 грамм,  100 % мас.\n",
      "-----------Органическая фаза фаза - 7.1504 грамм:\n",
      "Октан 6.9892, грамм,  97.745 % мас.\n",
      "Пропантиол 0.16124, грамм,  2.2549 % мас.\n",
      "-----------#Равновесный состав-----------\n",
      "-----------Водная фаза - 11.193, грамм:\n",
      "Вода 11.042 грамм, 98.65 % мас.\n",
      "Пропантиол 0.1511 грамм, 1.3684 % мас.\n",
      "-----------Органическая фаза фаза - 6.9993 грамм:\n",
      "Октан 6.9892 грамм, 99.855 % мас.\n",
      "Пропантиол 0.010139 грамм, 0.1418 % мас.\n",
      "-----------##Равновесный состав по hysys-----------\n",
      "0.1583 грамм, 1.4135 % масс пропантиола в воде\n",
      "0.002929 грамм, 0.04189 % масс пропантиола в октане\n",
      "Концентрация NaOH в воде: 2.3409 моль/л\n",
      "Концентрация пропантиола в воде: 0.19405 моль/л\n",
      "Концентрация пропантиола в октане: 0.012392 моль/л\n",
      "Коэффициент распределения: 0.064\n",
      "Концентрация пропантиола в воде: 0.20045 моль/л (hysys)\n",
      "Концентрация пропантиола в октане: 0.012392 моль/л (hysys)\n",
      "Коэффициент распределения: 0.062 (hysys)\n"
     ]
    }
   ],
   "execution_count": 9
  },
  {
   "cell_type": "code",
   "id": "a559aebb-9139-4054-b358-0d633a4e8598",
   "metadata": {
    "ExecuteTime": {
     "end_time": "2025-06-10T18:55:38.559930Z",
     "start_time": "2025-06-10T18:55:38.555422Z"
    }
   },
   "source": [
    "print(f'Концентрация NaOH 10.18 % масс')\n",
    "print(f'40')\n",
    "exp10_40 = main.exp_calc(16.4635, 1.4885, 27.7406, 36.3746, feed_pnsh_frac, 0.0527)\n",
    "\n",
    "print('-----------##Равновесный состав по hysys-----------')\n",
    "equilibrium_aqueous_phase_mass_hysys_10_40, frac_aqueous_phase_hysys_10_40 = 0.1480, 1.392985\n",
    "print(f'{equilibrium_aqueous_phase_mass_hysys_10_40:.5g} грамм, {frac_aqueous_phase_hysys_10_40:.5g} % масс пропантиола в воде')\n",
    "\n",
    "equilibrium_liquid_phase_mass_hysys_10_40, frac_liquid_phase_hysys_10_40 = 0.001831, 0.026209\n",
    "print(f'{equilibrium_liquid_phase_mass_hysys_10_40:.5g} грамм, {frac_liquid_phase_hysys_10_40:.5g} % масс пропантиола в октане')\n",
    "\n",
    "NaOH_frac_aqueous_phase_10_40 = 10.18 / 100\n",
    "rho_NaOH_10_40 = 1107\n",
    "C_NaOH_on_aqueous_phase_10_40 = NaOH_frac_aqueous_phase_10_40 * rho_NaOH_10_40 / MW_NaOH\n",
    "print(f'Концентрация NaOH в воде: {C_NaOH_on_aqueous_phase_10_40:.5g} моль/л')\n",
    "\n",
    "pnsh_frac_aqueous_phase_10_40 = exp10_40[0] / 100\n",
    "rho_aqueous_phase_10_40 = 1097\n",
    "C_pnsh_on_aqueous_phase_10_40 = pnsh_frac_aqueous_phase_10_40 * rho_aqueous_phase_10_40 / MW_pnsh\n",
    "print(f'Концентрация пропантиола в воде: {C_pnsh_on_aqueous_phase_10_40:.5g} моль/л')\n",
    "\n",
    "pnsh_frac_liquid_phase_10_40 = exp10_40[1] / 100\n",
    "rho_liquid_phase_10_40 = 665.8\n",
    "C_pnsh_on_liquid_phase_10_40 = pnsh_frac_liquid_phase_10_40 * rho_liquid_phase_10_40 / MW_pnsh\n",
    "print(f'Концентрация пропантиола в октане: {C_pnsh_on_liquid_phase_10_40:.5g} моль/л')\n",
    "\n",
    "m_10_40 = C_pnsh_on_liquid_phase_10_40 / C_pnsh_on_aqueous_phase_10_40\n",
    "print(f'Коэффициент распределения: {m_10_40:.2g}')\n",
    "\n",
    "pnsh_frac_aqueous_phase_10_40_hysys = frac_aqueous_phase_hysys_10_40 / 100\n",
    "C_pnsh_on_aqueous_phase_10_40_hysys = pnsh_frac_aqueous_phase_10_40_hysys * rho_aqueous_phase_10_40 / MW_pnsh\n",
    "print(f'Концентрация пропантиола в воде: {C_pnsh_on_aqueous_phase_10_40_hysys:.5g} моль/л (hysys)')\n",
    "\n",
    "pnsh_frac_liquid_phase_10_40_hysys = frac_liquid_phase_hysys_10_40 / 100\n",
    "C_pnsh_on_liquid_phase_10_40_hysys = pnsh_frac_liquid_phase_10_40 * rho_liquid_phase_10_40 / MW_pnsh\n",
    "print(f'Концентрация пропантиола в октане: {C_pnsh_on_liquid_phase_10_40_hysys:.5g} моль/л (hysys)')\n",
    "\n",
    "m_10_40_hysys = C_pnsh_on_liquid_phase_10_40_hysys / C_pnsh_on_aqueous_phase_10_40_hysys\n",
    "print(f'Коэффициент распределения: {m_10_40_hysys:.2g} (hysys)')"
   ],
   "outputs": [
    {
     "name": "stdout",
     "output_type": "stream",
     "text": [
      "Концентрация NaOH 10.18 % масс\n",
      "40\n",
      "-----------#Исходнй состав-----------\n",
      "-----------Водная фаза - 11.277, грамм:\n",
      "Вода: 11.277 грамм,  100 % мас.\n",
      "-----------Органическая фаза фаза - 7.1455 грамм:\n",
      "Октан 6.9844, грамм,  97.745 % мас.\n",
      "Пропантиол 0.16112, грамм,  2.2549 % мас.\n",
      "-----------#Равновесный состав-----------\n",
      "-----------Водная фаза - 11.429, грамм:\n",
      "Вода 11.277 грамм, 98.669 % мас.\n",
      "Пропантиол 0.15218 грамм, 1.3495 % мас.\n",
      "-----------Органическая фаза фаза - 6.9933 грамм:\n",
      "Октан 6.9844 грамм, 99.872 % мас.\n",
      "Пропантиол 0.0089441 грамм, 0.12517 % мас.\n",
      "-----------##Равновесный состав по hysys-----------\n",
      "0.148 грамм, 1.393 % масс пропантиола в воде\n",
      "0.001831 грамм, 0.026209 % масс пропантиола в октане\n",
      "Концентрация NaOH в воде: 2.8175 моль/л\n",
      "Концентрация пропантиола в воде: 0.19438 моль/л\n",
      "Концентрация пропантиола в октане: 0.010943 моль/л\n",
      "Коэффициент распределения: 0.056\n",
      "Концентрация пропантиола в воде: 0.20064 моль/л (hysys)\n",
      "Концентрация пропантиола в октане: 0.010943 моль/л (hysys)\n",
      "Коэффициент распределения: 0.055 (hysys)\n"
     ]
    }
   ],
   "execution_count": 10
  },
  {
   "cell_type": "code",
   "id": "24bcd295bd418960",
   "metadata": {
    "ExecuteTime": {
     "end_time": "2025-06-10T18:55:38.577543Z",
     "start_time": "2025-06-10T18:55:38.571946Z"
    }
   },
   "source": [
    "print(f'Концентрация NaOH 12.84 % масс')\n",
    "print(f'40')\n",
    "exp13_40 = main.exp_calc(16.6960, 1.4831, 28.2084, 36.8322, feed_pnsh_frac, 0.0521)\n",
    "\n",
    "print('-----------##Равновесный состав по hysys-----------')\n",
    "equilibrium_aqueous_phase_mass_hysys_13_40, frac_aqueous_phase_hysys_13_40 = 0.160091, 1.371655\n",
    "print(f'{equilibrium_aqueous_phase_mass_hysys_13_40:.5g} грамм, {frac_aqueous_phase_hysys_13_40:.5g} % масс пропантиола в воде')\n",
    "\n",
    "equilibrium_liquid_phase_mass_hysys_13_40, frac_liquid_phase_hysys_13_40 = 0.000926, 0.013259\n",
    "print(f'{equilibrium_liquid_phase_mass_hysys_13_40:.5g} грамм, {frac_liquid_phase_hysys_13_40:.5g} % масс пропантиола в октане')\n",
    "\n",
    "NaOH_frac_aqueous_phase_13_40 = 12.84 / 100\n",
    "rho_NaOH_13_40 = 1135\n",
    "C_NaOH_on_aqueous_phase_13_40 = NaOH_frac_aqueous_phase_13_40 * rho_NaOH_13_40 / MW_NaOH\n",
    "print(f'Концентрация NaOH в воде: {C_NaOH_on_aqueous_phase_13_40:.5g} моль/л')\n",
    "\n",
    "pnsh_frac_aqueous_phase_13_40 = exp13_40[0] / 100\n",
    "rho_aqueous_phase_13_40 = 1125\n",
    "C_pnsh_on_aqueous_phase_13_40 = pnsh_frac_aqueous_phase_13_40 * rho_aqueous_phase_13_40 / MW_pnsh\n",
    "print(f'Концентрация пропантиола в воде: {C_pnsh_on_aqueous_phase_13_40:.5g} моль/л')\n",
    "\n",
    "pnsh_frac_liquid_phase_13_40 = exp13_40[1] / 100\n",
    "rho_liquid_phase_13_40 = 666.1\n",
    "C_pnsh_on_liquid_phase_13_40 = pnsh_frac_liquid_phase_13_40 * rho_liquid_phase_13_40 / MW_pnsh\n",
    "print(f'Концентрация пропантиола в октане: {C_pnsh_on_liquid_phase_13_40:.5g} моль/л')\n",
    "\n",
    "m_13_40 = C_pnsh_on_liquid_phase_13_40 / C_pnsh_on_aqueous_phase_13_40\n",
    "print(f'Коэффициент распределения: {m_13_40:.2g}')\n",
    "\n",
    "pnsh_frac_aqueous_phase_13_40_hysys = frac_aqueous_phase_hysys_13_40 / 100\n",
    "C_pnsh_on_aqueous_phase_13_40_hysys = pnsh_frac_aqueous_phase_13_40_hysys * rho_aqueous_phase_13_40 / MW_pnsh\n",
    "print(f'Концентрация пропантиола в воде: {C_pnsh_on_aqueous_phase_13_40_hysys:.5g} моль/л (hysys)')\n",
    "\n",
    "pnsh_frac_liquid_phase_13_40_hysys = frac_liquid_phase_hysys_13_40 / 100\n",
    "C_pnsh_on_liquid_phase_13_40_hysys = pnsh_frac_liquid_phase_13_40 * rho_liquid_phase_13_40 / MW_pnsh\n",
    "print(f'Концентрация пропантиола в октане: {C_pnsh_on_liquid_phase_13_40_hysys:.5g} моль/л (hysys)')\n",
    "\n",
    "m_13_40_hysys = C_pnsh_on_liquid_phase_13_40_hysys / C_pnsh_on_aqueous_phase_13_40_hysys\n",
    "print(f'Коэффициент распределения: {m_13_40_hysys:.2g} (hysys)')"
   ],
   "outputs": [
    {
     "name": "stdout",
     "output_type": "stream",
     "text": [
      "Концентрация NaOH 12.84 % масс\n",
      "40\n",
      "-----------#Исходнй состав-----------\n",
      "-----------Водная фаза - 11.512, грамм:\n",
      "Вода: 11.512 грамм,  100 % мас.\n",
      "-----------Органическая фаза фаза - 7.1407 грамм:\n",
      "Октан 6.9797, грамм,  97.745 % мас.\n",
      "Пропантиол 0.16102, грамм,  2.2549 % мас.\n",
      "-----------#Равновесный состав-----------\n",
      "-----------Водная фаза - 11.665, грамм:\n",
      "Вода 11.512 грамм, 98.695 % мас.\n",
      "Пропантиол 0.15218 грамм, 1.3219 % мас.\n",
      "-----------Органическая фаза фаза - 6.9885 грамм:\n",
      "Октан 6.9797 грамм, 99.874 % мас.\n",
      "Пропантиол 0.0088364 грамм, 0.12375 % мас.\n",
      "-----------##Равновесный состав по hysys-----------\n",
      "0.16009 грамм, 1.3717 % масс пропантиола в воде\n",
      "0.000926 грамм, 0.013259 % масс пропантиола в октане\n",
      "Концентрация NaOH в воде: 3.6436 моль/л\n",
      "Концентрация пропантиола в воде: 0.19526 моль/л\n",
      "Концентрация пропантиола в октане: 0.010823 моль/л\n",
      "Коэффициент распределения: 0.055\n",
      "Концентрация пропантиола в воде: 0.20261 моль/л (hysys)\n",
      "Концентрация пропантиола в октане: 0.010823 моль/л (hysys)\n",
      "Коэффициент распределения: 0.053 (hysys)\n"
     ]
    }
   ],
   "execution_count": 11
  },
  {
   "cell_type": "code",
   "id": "d365a611-6ef9-4f5c-a066-52b04cd06953",
   "metadata": {
    "ExecuteTime": {
     "end_time": "2025-06-10T18:55:38.595238Z",
     "start_time": "2025-06-10T18:55:38.590057Z"
    }
   },
   "source": [
    "print(f'Концентрация NaOH 17.52 % масс')\n",
    "print(f'40')\n",
    "exp17_40 = main.exp_calc(16.1918, 1.4924, 28.0517, 36.6812, feed_pnsh_frac, 0.0494)\n",
    "\n",
    "print('-----------##Равновесный состав по hysys-----------')\n",
    "equilibrium_aqueous_phase_mass_hysys_17_40, frac_aqueous_phase_hysys_17_40 = 0.160599, 1.336082\n",
    "print(f'{equilibrium_aqueous_phase_mass_hysys_17_40:.5g} грамм, {frac_aqueous_phase_hysys_17_40:.5g} % масс пропантиола в воде')\n",
    "\n",
    "equilibrium_liquid_phase_mass_hysys_17_40, frac_liquid_phase_hysys_17_40 = 0.000337, 0.0004824\n",
    "print(f'{equilibrium_liquid_phase_mass_hysys_17_40:.5g} грамм, {frac_liquid_phase_hysys_17_40:.5g} % масс пропантиола в октане')\n",
    "\n",
    "NaOH_frac_aqueous_phase_17_40 = 12.84 / 100\n",
    "rho_NaOH_17_40 = 1185\n",
    "C_NaOH_on_aqueous_phase_17_40 = NaOH_frac_aqueous_phase_17_40 * rho_NaOH_17_40 / MW_NaOH\n",
    "print(f'Концентрация NaOH в воде: {C_NaOH_on_aqueous_phase_17_40:.5g} моль/л')\n",
    "\n",
    "pnsh_frac_aqueous_phase_17_40 = exp17_40[0] / 100\n",
    "rho_aqueous_phase_17_40 = 1174\n",
    "C_pnsh_on_aqueous_phase_17_40 = pnsh_frac_aqueous_phase_17_40 * rho_aqueous_phase_17_40 / MW_pnsh\n",
    "print(f'Концентрация пропантиола в воде: {C_pnsh_on_aqueous_phase_17_40:.5g} моль/л')\n",
    "\n",
    "pnsh_frac_liquid_phase_17_40 = exp17_40[1] / 100\n",
    "rho_liquid_phase_17_40 = 666.4\n",
    "C_pnsh_on_liquid_phase_17_40 = pnsh_frac_liquid_phase_17_40 * rho_liquid_phase_17_40 / MW_pnsh\n",
    "print(f'Концентрация пропантиола в октане: {C_pnsh_on_liquid_phase_17_40:.5g} моль/л')\n",
    "\n",
    "m_17_40 = C_pnsh_on_liquid_phase_17_40 / C_pnsh_on_aqueous_phase_17_40\n",
    "print(f'Коэффициент распределения: {m_17_40:.2g}')\n",
    "\n",
    "pnsh_frac_aqueous_phase_17_40_hysys = frac_aqueous_phase_hysys_17_40 / 100\n",
    "C_pnsh_on_aqueous_phase_17_40_hysys = pnsh_frac_aqueous_phase_17_40_hysys * rho_aqueous_phase_17_40 / MW_pnsh\n",
    "print(f'Концентрация пропантиола в воде: {C_pnsh_on_aqueous_phase_17_40_hysys:.5g} моль/л (hysys)')\n",
    "\n",
    "pnsh_frac_liquid_phase_17_40_hysys = frac_liquid_phase_hysys_17_40 / 100\n",
    "C_pnsh_on_liquid_phase_17_40_hysys = pnsh_frac_liquid_phase_17_40 * rho_liquid_phase_17_40 / MW_pnsh\n",
    "print(f'Концентрация пропантиола в октане: {C_pnsh_on_liquid_phase_17_40_hysys:.5g} моль/л (hysys)')\n",
    "\n",
    "m_17_40_hysys = C_pnsh_on_liquid_phase_17_40_hysys / C_pnsh_on_aqueous_phase_17_40_hysys\n",
    "print(f'Коэффициент распределения: {m_17_40_hysys:.2g} (hysys)')"
   ],
   "outputs": [
    {
     "name": "stdout",
     "output_type": "stream",
     "text": [
      "Концентрация NaOH 17.52 % масс\n",
      "40\n",
      "-----------#Исходнй состав-----------\n",
      "-----------Водная фаза - 11.86, грамм:\n",
      "Вода: 11.86 грамм,  100 % мас.\n",
      "-----------Органическая фаза фаза - 7.1371 грамм:\n",
      "Октан 6.9762, грамм,  97.745 % мас.\n",
      "Пропантиол 0.16094, грамм,  2.2549 % мас.\n",
      "-----------#Равновесный состав-----------\n",
      "-----------Водная фаза - 12.012, грамм:\n",
      "Вода 11.86 грамм, 98.73 % мас.\n",
      "Пропантиол 0.15256 грамм, 1.2864 % мас.\n",
      "-----------Органическая фаза фаза - 6.9845 грамм:\n",
      "Октан 6.9762 грамм, 99.88 % мас.\n",
      "Пропантиол 0.0083742 грамм, 0.11733 % мас.\n",
      "-----------##Равновесный состав по hysys-----------\n",
      "0.1606 грамм, 1.3361 % масс пропантиола в воде\n",
      "0.000337 грамм, 0.0004824 % масс пропантиола в октане\n",
      "Концентрация NaOH в воде: 3.8041 моль/л\n",
      "Концентрация пропантиола в воде: 0.19829 моль/л\n",
      "Концентрация пропантиола в октане: 0.010267 моль/л\n",
      "Коэффициент распределения: 0.052\n",
      "Концентрация пропантиола в воде: 0.20596 моль/л (hysys)\n",
      "Концентрация пропантиола в октане: 0.010267 моль/л (hysys)\n",
      "Коэффициент распределения: 0.05 (hysys)\n"
     ]
    }
   ],
   "execution_count": 12
  },
  {
   "cell_type": "code",
   "id": "c0ba4ea9-081d-4cb4-a3d3-9ba8702940f3",
   "metadata": {
    "ExecuteTime": {
     "end_time": "2025-06-10T18:55:38.618272Z",
     "start_time": "2025-06-10T18:55:38.614270Z"
    }
   },
   "source": [
    "K_a = 10**-10.57\n",
    "print(K_a)\n",
    "K_w = main.k_w(40)\n",
    "print(K_w)\n",
    "Na_frac = np.linspace(0, 4, 1000)\n",
    "m_d = main.m_calc(Na_frac, pnsh_frac_liquid_phase_40, K_a, K_w, m0)\n",
    "\n",
    "\n",
    "\n",
    "Exp_NaOH_frac = np.array([0, C_NaOH_on_aqueous_phase_1_40, C_NaOH_on_aqueous_phase_2_40, C_NaOH_on_aqueous_phase_3_40, C_NaOH_on_aqueous_phase_4_40, C_NaOH_on_aqueous_phase_6_40, C_NaOH_on_aqueous_phase_8_40, C_NaOH_on_aqueous_phase_10_40, C_NaOH_on_aqueous_phase_13_40, C_NaOH_on_aqueous_phase_17_40])\n",
    "\n",
    "Exp_m_d = np.array([m0, m_1_40, m_2_40, m_3_40, m_4_40, m_6_40, m_8_40, m_10_40, m_13_40, m_17_40])\n",
    "Exp_m_d_hysys = np.array([m0_hysys, m_1_40_hysys, m_2_40_hysys, m_3_40_hysys, m_4_40_hysys, m_6_40_hysys, m_8_40_hysys, m_10_40_hysys, m_13_40_hysys, m_17_40_hysys])"
   ],
   "outputs": [
    {
     "name": "stdout",
     "output_type": "stream",
     "text": [
      "2.6915348039269138e-11\n",
      "2.928998112672823e-14\n"
     ]
    }
   ],
   "execution_count": 13
  },
  {
   "cell_type": "code",
   "id": "ad3bc2c5-5b9b-4be9-ae68-c544ba78e4b7",
   "metadata": {
    "ExecuteTime": {
     "end_time": "2025-06-10T18:55:38.738333Z",
     "start_time": "2025-06-10T18:55:38.633713Z"
    }
   },
   "source": [
    "def mm_to_inch(mm):\n",
    "    return mm / 25.4\n",
    "\n",
    "plt.rcParams.update({\n",
    "    'font.family': 'sans-serif',\n",
    "    'font.sans-serif': ['Arial', 'Helvetica'],\n",
    "    'font.size': 7,\n",
    "    'axes.linewidth': 0.5,\n",
    "    'xtick.direction': 'in',\n",
    "    'ytick.direction': 'in',\n",
    "    'xtick.major.size': 3,\n",
    "    'ytick.major.size': 3,\n",
    "    'figure.dpi': 300,\n",
    "    'axes.grid': False,\n",
    "    'lines.linewidth': 1.0,\n",
    "    'axes.prop_cycle': plt.cycler('color', ['#0072B2', '#D55E00', '#CC79A7', '#F0E442'])\n",
    "})\n",
    "\n",
    "fig_width_mm = 89\n",
    "fig_height_mm = 60\n",
    "fig, ax = plt.subplots(figsize=(mm_to_inch(fig_width_mm), mm_to_inch(fig_height_mm)))\n",
    "\n",
    "#ax.set_xlim(0.146, 0.153)\n",
    "ax.set_ylim(0, 1.0)\n",
    "\n",
    "ax.plot(Na_frac, m_d, label='расчет', color='Black', linestyle='-')\n",
    "ax.plot(Exp_NaOH_frac, Exp_m_d_hysys, label='hysys', color='Black', linestyle='--')\n",
    "ax.scatter(Exp_NaOH_frac, Exp_m_d, label='n-PnSH 40 °С', color='Red', marker='o')\n",
    "\n",
    "ax.set_xlabel('NaOH, моль/л')\n",
    "ax.set_ylabel('m_d')\n",
    "leg = ax.legend(frameon=False, fontsize=6)\n",
    "\n",
    "plt.tight_layout()\n"
   ],
   "outputs": [
    {
     "data": {
      "text/plain": [
       "<Figure size 1051.18x708.661 with 1 Axes>"
      ],
      "image/png": "[encoded data removed]"
     },
     "metadata": {},
     "output_type": "display_data"
    }
   ],
   "execution_count": 14
  },
  {
   "metadata": {
    "ExecuteTime": {
     "end_time": "2025-06-10T18:55:38.750128Z",
     "start_time": "2025-06-10T18:55:38.748694Z"
    }
   },
   "cell_type": "code",
   "source": "",
   "id": "3b885b89accef7d4",
   "outputs": [],
   "execution_count": null
  }
 ],
 "metadata": {
  "kernelspec": {
   "display_name": "Python 3 (ipykernel)",
   "language": "python",
   "name": "python3"
  },
  "language_info": {
   "codemirror_mode": {
    "name": "ipython",
    "version": 3
   },
   "file_extension": ".py",
   "mimetype": "text/x-python",
   "name": "python",
   "nbconvert_exporter": "python",
   "pygments_lexer": "ipython3",
   "version": "3.12.5"
  }
 },
 "nbformat": 4,
 "nbformat_minor": 5
}
