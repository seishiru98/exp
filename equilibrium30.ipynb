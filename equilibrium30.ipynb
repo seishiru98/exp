{
 "cells": [
  {
   "cell_type": "code",
   "id": "initial_id",
   "metadata": {
    "collapsed": true,
    "jupyter": {
     "outputs_hidden": true
    },
    "ExecuteTime": {
     "end_time": "2025-06-10T18:58:40.581460Z",
     "start_time": "2025-06-10T18:58:40.579022Z"
    }
   },
   "source": [
    "import matplotlib.pyplot as plt\n",
    "import numpy as np\n",
    "from scipy.interpolate import make_interp_spline\n",
    "import main"
   ],
   "outputs": [],
   "execution_count": 16
  },
  {
   "cell_type": "code",
   "id": "141403e822ff7642",
   "metadata": {
    "ExecuteTime": {
     "end_time": "2025-06-10T18:58:40.598104Z",
     "start_time": "2025-06-10T18:58:40.593137Z"
    }
   },
   "source": [
    "n = np.array([0.9424, 0.9582, 0.9475])\n",
    "MW_pnsh, MW_s, MW_NaOH = 76.16, 32.065, 39.9971\n",
    "\n",
    "average = np.average(n)\n",
    "\n",
    "feed_pnsh_frac = average * (MW_pnsh / MW_s)\n",
    "print(f'Концентрация тиола в октане: {feed_pnsh_frac:.5f} % масс')"
   ],
   "outputs": [
    {
     "name": "stdout",
     "output_type": "stream",
     "text": [
      "Концентрация тиола в октане: 2.25491 % масс\n"
     ]
    }
   ],
   "execution_count": 17
  },
  {
   "cell_type": "code",
   "id": "f5da1b61c69128dc",
   "metadata": {
    "ExecuteTime": {
     "end_time": "2025-06-10T18:58:40.642881Z",
     "start_time": "2025-06-10T18:58:40.637991Z"
    }
   },
   "source": [
    "print(f'Чистая вода')\n",
    "print(f'30')\n",
    "exp_30 = main.exp_calc(16.3725, 1.5094, 26.4868, 35.0876, feed_pnsh_frac, 0.9293)\n",
    "\n",
    "print('-----------#При равновесии по hysys-----------')\n",
    "equilibrium_aqueous_phase_mass_hysys_30, frac_aqueous_phase_hysys_30 = 1.54390512215937e-003, 0.015264029\n",
    "print(f'{equilibrium_aqueous_phase_mass_hysys_30:.5g} грамм, {frac_aqueous_phase_hysys_30:.5g} % масс пропантиола в воде')\n",
    "equilibrium_liquid_phase_mass_hysys_30, frac_liquid_phase_hysys_30 = 0.158360951102634, 2.23335\n",
    "print(f'{equilibrium_liquid_phase_mass_hysys_30:.5g} грамм, {frac_liquid_phase_hysys_30:.5g} % масс пропантиола в октане')\n",
    "\n",
    "pnsh_frac_aqueous_phase_30 = exp_30[0] / 100\n",
    "rho_aqueous_phase_30 = 995.680748197656\n",
    "C_pnsh_on_aqueous_phase_30 = pnsh_frac_aqueous_phase_30 * rho_aqueous_phase_30 / MW_pnsh\n",
    "print(f'Концентрация пропантиола в воде: {C_pnsh_on_aqueous_phase_30:.5g} моль/л')\n",
    "\n",
    "pnsh_frac_liquid_phase_30 = exp_30[1] / 100\n",
    "rho_liquid_phase_30 = 673.818715501813\n",
    "C_pnsh_on_liquid_phase_30 = pnsh_frac_liquid_phase_30 * rho_liquid_phase_30 / MW_pnsh\n",
    "print(f'Концентрация пропантиола в октане: {C_pnsh_on_liquid_phase_30:.5g} моль/л')\n",
    "m0 = C_pnsh_on_liquid_phase_30 / C_pnsh_on_aqueous_phase_30\n",
    "print(f'Коэффициент распределения: {m0:.2g}')\n",
    "\n",
    "pnsh_frac_aqueous_phase_30_hysys = frac_aqueous_phase_hysys_30 / 100\n",
    "C_pnsh_on_aqueous_phase_30_hysys = pnsh_frac_aqueous_phase_30_hysys * rho_aqueous_phase_30 / MW_pnsh\n",
    "print(f'Концентрация пропантиола в воде: {C_pnsh_on_aqueous_phase_30_hysys:.5g} моль/л (hysys)')\n",
    "\n",
    "pnsh_frac_liquid_phase_30_hysys = frac_liquid_phase_hysys_30 / 100\n",
    "C_pnsh_on_liquid_phase_30_hysys = pnsh_frac_liquid_phase_30 * rho_liquid_phase_30 / MW_pnsh\n",
    "print(f'Концентрация пропантиола в октане: {C_pnsh_on_liquid_phase_30_hysys:.5g} моль/л (hysys)')\n",
    "m0_hysys = C_pnsh_on_liquid_phase_30_hysys / C_pnsh_on_aqueous_phase_30_hysys\n",
    "print(f'Коэффициент распределения: {m0_hysys:.2g} (hysys)')"
   ],
   "outputs": [
    {
     "name": "stdout",
     "output_type": "stream",
     "text": [
      "Чистая вода\n",
      "30\n",
      "-----------#Исходнй состав-----------\n",
      "-----------Водная фаза - 10.114, грамм:\n",
      "Вода: 10.114 грамм,  100 % мас.\n",
      "-----------Органическая фаза фаза - 7.0914 грамм:\n",
      "Октан 6.9315, грамм,  97.745 % мас.\n",
      "Пропантиол 0.1599, грамм,  2.2549 % мас.\n",
      "-----------#Равновесный состав-----------\n",
      "-----------Водная фаза - 10.118, грамм:\n",
      "Вода 10.114 грамм, 99.967 % мас.\n",
      "Пропантиол 0.0033799 грамм, 0.033417 % мас.\n",
      "-----------Органическая фаза фаза - 7.088 грамм:\n",
      "Октан 6.9315 грамм, 97.792 % мас.\n",
      "Пропантиол 0.15652 грамм, 2.2073 % мас.\n",
      "-----------#При равновесии по hysys-----------\n",
      "0.0015439 грамм, 0.015264 % масс пропантиола в воде\n",
      "0.15836 грамм, 2.2334 % масс пропантиола в октане\n",
      "Концентрация пропантиола в воде: 0.0043688 моль/л\n",
      "Концентрация пропантиола в октане: 0.19528 моль/л\n",
      "Коэффициент распределения: 45\n",
      "Концентрация пропантиола в воде: 0.0019955 моль/л (hysys)\n",
      "Концентрация пропантиола в октане: 0.19528 моль/л (hysys)\n",
      "Коэффициент распределения: 98 (hysys)\n"
     ]
    }
   ],
   "execution_count": 18
  },
  {
   "cell_type": "code",
   "id": "d1138023ce2434d1",
   "metadata": {
    "ExecuteTime": {
     "end_time": "2025-06-10T18:58:40.679380Z",
     "start_time": "2025-06-10T18:58:40.674088Z"
    }
   },
   "source": [
    "print(f'1% NaOH')\n",
    "print(f'30')\n",
    "exp_1_30 = main.exp_calc(16.6681, 1.4990, 26.8948, 35.5515, feed_pnsh_frac, 0.4397)\n",
    "\n",
    "print('-----------#При равновесии по hysys-----------')\n",
    "equilibrium_aqueous_phase_mass_hysys_1_30, frac_aqueous_phase_hysys_1_30 = 8.37321780454312e-002, 0.812190623\n",
    "print(f'{equilibrium_aqueous_phase_mass_hysys_1_30:.5g} грамм, {frac_aqueous_phase_hysys_1_30:.5g} % масс пропантиола в воде')\n",
    "equilibrium_liquid_phase_mass_hysys_1_30, frac_liquid_phase_hysys_1_30 = 7.76676850845860e-002, 1.097733703\n",
    "print(f'{equilibrium_liquid_phase_mass_hysys_1_30:.5g} грамм, {frac_liquid_phase_hysys_1_30:.5g} % масс пропантиола в октане')\n",
    "\n",
    "NaOH_frac_aqueous_phase_1_30 = 1 / 100\n",
    "rho_NaOH_1_30 = 1005\n",
    "C_NaOH_on_aqueous_phase_1_30 = NaOH_frac_aqueous_phase_1_30 * rho_NaOH_1_30 / MW_NaOH\n",
    "print(f'Концентрация NaOH в воде: {C_NaOH_on_aqueous_phase_1_30:.5g} моль/л')\n",
    "\n",
    "pnsh_frac_aqueous_phase_1_30 = exp_1_30[0] / 100\n",
    "rho_aqueous_phase_1_30 = 999.5\n",
    "C_pnsh_on_aqueous_phase_1_30 = pnsh_frac_aqueous_phase_1_30 * rho_aqueous_phase_1_30 / MW_pnsh\n",
    "print(f'Концентрация пропантиола в воде: {C_pnsh_on_aqueous_phase_1_30:.5g} моль/л')\n",
    "\n",
    "pnsh_frac_liquid_phase_1_30 = exp_1_30[1] / 100\n",
    "rho_liquid_phase_1_30 = 666.0\n",
    "C_pnsh_on_liquid_phase_1_30 = pnsh_frac_liquid_phase_1_30 * rho_liquid_phase_1_30 / MW_pnsh\n",
    "print(f'Концентрация пропантиола в октане: {C_pnsh_on_liquid_phase_1_30:.5g} моль/л')\n",
    "\n",
    "m_1_30 = C_pnsh_on_liquid_phase_1_30 / C_pnsh_on_aqueous_phase_1_30\n",
    "print(f'Коэффициент распределения: {m_1_30:.2g}')\n",
    "\n",
    "pnsh_frac_aqueous_phase_1_30_hysys = frac_aqueous_phase_hysys_1_30 / 100\n",
    "C_pnsh_on_aqueous_phase_1_30_hysys = pnsh_frac_aqueous_phase_1_30_hysys * rho_aqueous_phase_1_30 / MW_pnsh\n",
    "print(f'Концентрация пропантиола в воде: {C_pnsh_on_aqueous_phase_1_30_hysys:.5g} моль/л (hysys)')\n",
    "\n",
    "pnsh_frac_liquid_phase_1_30_hysys = frac_liquid_phase_hysys_1_30 / 100\n",
    "C_pnsh_on_liquid_phase_1_30_hysys = pnsh_frac_liquid_phase_1_30 * rho_liquid_phase_1_30 / MW_pnsh\n",
    "print(f'Концентрация пропантиола в октане: {C_pnsh_on_liquid_phase_1_30_hysys:.5g} моль/л (hysys)')\n",
    "\n",
    "m_1_30_hysys = C_pnsh_on_liquid_phase_1_30_hysys / C_pnsh_on_aqueous_phase_1_30_hysys\n",
    "print(f'Коэффициент распределения: {m_1_30_hysys:.2g} (hysys)')"
   ],
   "outputs": [
    {
     "name": "stdout",
     "output_type": "stream",
     "text": [
      "1% NaOH\n",
      "30\n",
      "-----------#Исходнй состав-----------\n",
      "-----------Водная фаза - 10.227, грамм:\n",
      "Вода: 10.227 грамм,  100 % мас.\n",
      "-----------Органическая фаза фаза - 7.1577 грамм:\n",
      "Октан 6.9963, грамм,  97.745 % мас.\n",
      "Пропантиол 0.1614, грамм,  2.2549 % мас.\n",
      "-----------#Равновесный состав-----------\n",
      "-----------Водная фаза - 10.313, грамм:\n",
      "Вода 10.227 грамм, 99.16 % мас.\n",
      "Пропантиол 0.086647 грамм, 0.84727 % мас.\n",
      "-----------Органическая фаза фаза - 7.0711 грамм:\n",
      "Октан 6.9963 грамм, 98.943 % мас.\n",
      "Пропантиол 0.074752 грамм, 1.0444 % мас.\n",
      "-----------#При равновесии по hysys-----------\n",
      "0.083732 грамм, 0.81219 % масс пропантиола в воде\n",
      "0.077668 грамм, 1.0977 % масс пропантиола в октане\n",
      "Концентрация NaOH в воде: 0.25127 моль/л\n",
      "Концентрация пропантиола в воде: 0.11119 моль/л\n",
      "Концентрация пропантиола в октане: 0.091327 моль/л\n",
      "Коэффициент распределения: 0.82\n",
      "Концентрация пропантиола в воде: 0.10659 моль/л (hysys)\n",
      "Концентрация пропантиола в октане: 0.091327 моль/л (hysys)\n",
      "Коэффициент распределения: 0.86 (hysys)\n"
     ]
    }
   ],
   "execution_count": 19
  },
  {
   "cell_type": "code",
   "id": "52203291d1c0943",
   "metadata": {
    "ExecuteTime": {
     "end_time": "2025-06-10T18:58:40.738112Z",
     "start_time": "2025-06-10T18:58:40.733235Z"
    }
   },
   "source": [
    "print(f'2,16 % NaOH')\n",
    "print(f'30')\n",
    "exp_2_30 = main.exp_calc(16.1503, 1.4607, 26.7455, 35.2766, feed_pnsh_frac, 0.2337)\n",
    "\n",
    "print('-----------#При равновесии по hysys-----------')\n",
    "equilibrium_aqueous_phase_mass_hysys_2_30, frac_aqueous_phase_hysys_2_30 = 0.119486157143271, 1.154989098\n",
    "print(f'{equilibrium_aqueous_phase_mass_hysys_2_30:.5g} грамм, {frac_aqueous_phase_hysys_2_30:.5g} % масс пропантиола в воде')\n",
    "equilibrium_liquid_phase_mass_hysys_2_30, frac_liquid_phase_hysys_2_30 = 4.19137059867460e-002, 0.595409077\n",
    "print(f'{equilibrium_liquid_phase_mass_hysys_2_30:.5g} грамм, {frac_liquid_phase_hysys_2_30:.5g} % масс пропантиола в октане')\n",
    "\n",
    "NaOH_frac_aqueous_phase_2_30 = 2.16 / 100\n",
    "rho_NaOH_2_30 = 1018\n",
    "C_NaOH_on_aqueous_phase_2_30 = NaOH_frac_aqueous_phase_2_30 * rho_NaOH_2_30 / MW_NaOH\n",
    "print(f'Концентрация NaOH в воде: {C_NaOH_on_aqueous_phase_2_30:.5g} моль/л')\n",
    "\n",
    "pnsh_frac_aqueous_phase_2_30 = exp_2_30[0] / 100\n",
    "rho_aqueous_phase_2_30 = 1009.09163988979\n",
    "C_pnsh_on_aqueous_phase_2_30 = pnsh_frac_aqueous_phase_2_30 * rho_aqueous_phase_2_30 / MW_pnsh\n",
    "print(f'Концентрация пропантиола в воде: {C_pnsh_on_aqueous_phase_2_30:.5g} моль/л')\n",
    "\n",
    "pnsh_frac_liquid_phase_2_30 = exp_2_30[1] / 100\n",
    "rho_liquid_phase_2_30 = 665.3\n",
    "C_pnsh_on_liquid_phase_2_30 = pnsh_frac_liquid_phase_2_30 * rho_liquid_phase_2_30 / MW_pnsh\n",
    "print(f'Концентрация пропантиола в октане: {C_pnsh_on_liquid_phase_2_30:.5g} моль/л')\n",
    "\n",
    "m_2_30 = C_pnsh_on_liquid_phase_2_30 / C_pnsh_on_aqueous_phase_2_30\n",
    "print(f'Коэффициент распределения: {m_2_30:.2g}')\n",
    "\n",
    "pnsh_frac_aqueous_phase_2_30_hysys = frac_aqueous_phase_hysys_2_30 / 100\n",
    "C_pnsh_on_aqueous_phase_2_30_hysys = pnsh_frac_aqueous_phase_2_30_hysys * rho_aqueous_phase_2_30 / MW_pnsh\n",
    "print(f'Концентрация пропантиола в воде: {C_pnsh_on_aqueous_phase_2_30_hysys:.5g} моль/л (hysys)')\n",
    "\n",
    "pnsh_frac_liquid_phase_2_30_hysys = frac_liquid_phase_hysys_2_30 / 100\n",
    "C_pnsh_on_liquid_phase_2_30_hysys = pnsh_frac_liquid_phase_2_30 * rho_liquid_phase_2_30 / MW_pnsh\n",
    "print(f'Концентрация пропантиола в октане: {C_pnsh_on_liquid_phase_2_30_hysys:.5g} моль/л (hysys)')\n",
    "\n",
    "m_2_30_hysys = C_pnsh_on_liquid_phase_2_30_hysys / C_pnsh_on_aqueous_phase_2_30_hysys\n",
    "print(f'Коэффициент распределения: {m_2_30_hysys:.2g} (hysys)')"
   ],
   "outputs": [
    {
     "name": "stdout",
     "output_type": "stream",
     "text": [
      "2,16 % NaOH\n",
      "30\n",
      "-----------#Исходнй состав-----------\n",
      "-----------Водная фаза - 10.595, грамм:\n",
      "Вода: 10.595 грамм,  100 % мас.\n",
      "-----------Органическая фаза фаза - 7.0704 грамм:\n",
      "Октан 6.911, грамм,  97.745 % мас.\n",
      "Пропантиол 0.15943, грамм,  2.2549 % мас.\n",
      "-----------#Равновесный состав-----------\n",
      "-----------Водная фаза - 10.715, грамм:\n",
      "Вода 10.595 грамм, 98.878 % мас.\n",
      "Пропантиол 0.12019 грамм, 1.1343 % мас.\n",
      "-----------Органическая фаза фаза - 6.9502 грамм:\n",
      "Октан 6.911 грамм, 99.435 % мас.\n",
      "Пропантиол 0.039246 грамм, 0.55508 % мас.\n",
      "-----------#При равновесии по hysys-----------\n",
      "0.11949 грамм, 1.155 % масс пропантиола в воде\n",
      "0.041914 грамм, 0.59541 % масс пропантиола в октане\n",
      "Концентрация NaOH в воде: 0.54976 моль/л\n",
      "Концентрация пропантиола в воде: 0.1503 моль/л\n",
      "Концентрация пропантиола в октане: 0.048489 моль/л\n",
      "Коэффициент распределения: 0.32\n",
      "Концентрация пропантиола в воде: 0.15303 моль/л (hysys)\n",
      "Концентрация пропантиола в октане: 0.048489 моль/л (hysys)\n",
      "Коэффициент распределения: 0.32 (hysys)\n"
     ]
    }
   ],
   "execution_count": 20
  },
  {
   "metadata": {
    "ExecuteTime": {
     "end_time": "2025-06-10T18:58:40.780483Z",
     "start_time": "2025-06-10T18:58:40.776048Z"
    }
   },
   "cell_type": "code",
   "source": [
    "print(f'3 % NaOH')\n",
    "print(f'30')\n",
    "exp_3_30 = main.exp_calc(16.6230, 1.4832, 27.0011, 35.7135, feed_pnsh_frac, 0.1432)\n",
    "\n",
    "print('-----------##Равновесный состав по hysys-----------')\n",
    "equilibrium_aqueous_phase_mass_hysys_3_30, frac_aqueous_phase_hysys_3_30 = 0.1409, 1.33\n",
    "print(f'{equilibrium_aqueous_phase_mass_hysys_3_30:.5g} грамм, {frac_aqueous_phase_hysys_3_30:.5g} % масс пропантиола в воде')\n",
    "equilibrium_liquid_phase_mass_hysys_3_30, frac_liquid_phase_hysys_3_30 = 0.0221, 0.31238\n",
    "print(f'{equilibrium_liquid_phase_mass_hysys_3_30:.5g} грамм, {frac_liquid_phase_hysys_3_30:.5g} % масс пропантиола в октане')\n",
    "\n",
    "NaOH_frac_aqueous_phase_3_30 = 3 / 100\n",
    "rho_NaOH_3_30 = 1028\n",
    "C_NaOH_on_aqueous_phase_3_30 = NaOH_frac_aqueous_phase_3_30 * rho_NaOH_3_30 / MW_NaOH\n",
    "print(f'Концентрация NaOH в воде: {C_NaOH_on_aqueous_phase_3_30:.5g} моль/л')\n",
    "\n",
    "pnsh_frac_aqueous_phase_3_30 = exp_3_30[0] / 100\n",
    "rho_aqueous_phase_3_30 = 1020\n",
    "C_pnsh_on_aqueous_phase_3_30 = pnsh_frac_aqueous_phase_3_30 * rho_aqueous_phase_3_30 / MW_pnsh\n",
    "print(f'Концентрация пропантиола в воде: {C_pnsh_on_aqueous_phase_3_30:.5g} моль/л')\n",
    "\n",
    "pnsh_frac_liquid_phase_3_30 = exp_3_30[1] / 100\n",
    "rho_liquid_phase_3_30 = 665.0\n",
    "C_pnsh_on_liquid_phase_3_30 = pnsh_frac_liquid_phase_3_30 * rho_liquid_phase_3_30 / MW_pnsh\n",
    "print(f'Концентрация пропантиола в октане: {C_pnsh_on_liquid_phase_3_30:.5g} моль/л')\n",
    "\n",
    "m_3_30 = C_pnsh_on_liquid_phase_3_30 / C_pnsh_on_aqueous_phase_3_30\n",
    "print(f'Коэффициент распределения: {m_3_30:.2g}')\n",
    "\n",
    "pnsh_frac_aqueous_phase_3_30_hysys = frac_aqueous_phase_hysys_3_30 / 100\n",
    "C_pnsh_on_aqueous_phase_3_30_hysys = pnsh_frac_aqueous_phase_3_30_hysys * rho_aqueous_phase_3_30 / MW_pnsh\n",
    "print(f'Концентрация пропантиола в воде: {C_pnsh_on_aqueous_phase_3_30_hysys:.5g} моль/л (hysys)')\n",
    "\n",
    "pnsh_frac_liquid_phase_3_30_hysys = frac_liquid_phase_hysys_3_30 / 100\n",
    "C_pnsh_on_liquid_phase_3_30_hysys = pnsh_frac_liquid_phase_3_30 * rho_liquid_phase_3_30 / MW_pnsh\n",
    "print(f'Концентрация пропантиола в октане: {C_pnsh_on_liquid_phase_3_30_hysys:.5g} моль/л (hysys)')\n",
    "\n",
    "m_3_30_hysys = C_pnsh_on_liquid_phase_3_30_hysys / C_pnsh_on_aqueous_phase_3_30_hysys\n",
    "print(f'Коэффициент распределения: {m_3_30_hysys:.2g} (hysys)')"
   ],
   "id": "9a69a361517c5e9d",
   "outputs": [
    {
     "name": "stdout",
     "output_type": "stream",
     "text": [
      "3 % NaOH\n",
      "30\n",
      "-----------#Исходнй состав-----------\n",
      "-----------Водная фаза - 10.378, грамм:\n",
      "Вода: 10.378 грамм,  100 % мас.\n",
      "-----------Органическая фаза фаза - 7.2292 грамм:\n",
      "Октан 7.0662, грамм,  97.745 % мас.\n",
      "Пропантиол 0.16301, грамм,  2.2549 % мас.\n",
      "-----------#Равновесный состав-----------\n",
      "-----------Водная фаза - 10.517, грамм:\n",
      "Вода 10.378 грамм, 98.684 % мас.\n",
      "Пропантиол 0.13842 грамм, 1.3338 % мас.\n",
      "-----------Органическая фаза фаза - 7.0908 грамм:\n",
      "Октан 7.0662 грамм, 99.653 % мас.\n",
      "Пропантиол 0.024588 грамм, 0.34013 % мас.\n",
      "-----------##Равновесный состав по hysys-----------\n",
      "0.1409 грамм, 1.33 % масс пропантиола в воде\n",
      "0.0221 грамм, 0.31238 % масс пропантиола в октане\n",
      "Концентрация NaOH в воде: 0.77106 моль/л\n",
      "Концентрация пропантиола в воде: 0.17863 моль/л\n",
      "Концентрация пропантиола в октане: 0.029698 моль/л\n",
      "Коэффициент распределения: 0.17\n",
      "Концентрация пропантиола в воде: 0.17813 моль/л (hysys)\n",
      "Концентрация пропантиола в октане: 0.029698 моль/л (hysys)\n",
      "Коэффициент распределения: 0.17 (hysys)\n"
     ]
    }
   ],
   "execution_count": 21
  },
  {
   "metadata": {
    "ExecuteTime": {
     "end_time": "2025-06-10T18:58:40.816871Z",
     "start_time": "2025-06-10T18:58:40.811871Z"
    }
   },
   "cell_type": "code",
   "source": [
    "print(f'4,16 % NaOH')\n",
    "print(f'30')\n",
    "exp_4_30 = main.exp_calc(16.1451, 1.4543, 26.7849, 35.3921, feed_pnsh_frac, 0.0815)\n",
    "\n",
    "print('-----------##Равновесный состав по hysys-----------')\n",
    "equilibrium_aqueous_phase_mass_hysys_4_30, frac_aqueous_phase_hysys_4_30 = 0.1472, 1.364335\n",
    "print(f'{equilibrium_aqueous_phase_mass_hysys_4_30:.5g} грамм, {frac_aqueous_phase_hysys_4_30:.5g} % масс пропантиола в воде')\n",
    "\n",
    "equilibrium_liquid_phase_mass_hysys_4_30, frac_liquid_phase_hysys_4_30 = 0.0141, 0.201727\n",
    "print(f'{equilibrium_liquid_phase_mass_hysys_4_30:.5g} грамм, {frac_liquid_phase_hysys_4_30:.5g} % масс пропантиола в октане')\n",
    "\n",
    "NaOH_frac_aqueous_phase_4_30 = 4.16 / 100\n",
    "rho_NaOH_4_30 = 1041\n",
    "C_NaOH_on_aqueous_phase_4_30 = NaOH_frac_aqueous_phase_4_30 * rho_NaOH_4_30 / MW_NaOH\n",
    "print(f'Концентрация NaOH в воде: {C_NaOH_on_aqueous_phase_4_30:.5g} моль/л')\n",
    "\n",
    "pnsh_frac_aqueous_phase_4_30 = exp_4_30[0] / 100\n",
    "rho_aqueous_phase_4_30 = 1032\n",
    "C_pnsh_on_aqueous_phase_4_30 = pnsh_frac_aqueous_phase_4_30 * rho_aqueous_phase_4_30 / MW_pnsh\n",
    "print(f'Концентрация пропантиола в воде: {C_pnsh_on_aqueous_phase_4_30:.5g} моль/л')\n",
    "\n",
    "pnsh_frac_liquid_phase_4_30 = exp_4_30[1] / 100\n",
    "rho_liquid_phase_4_30 = 665.0\n",
    "C_pnsh_on_liquid_phase_4_30 = pnsh_frac_liquid_phase_4_30 * rho_liquid_phase_4_30 / MW_pnsh\n",
    "print(f'Концентрация пропантиола в октане: {C_pnsh_on_liquid_phase_4_30:.5g} моль/л')\n",
    "\n",
    "m_4_30 = C_pnsh_on_liquid_phase_4_30 / C_pnsh_on_aqueous_phase_4_30\n",
    "print(f'Коэффициент распределения: {m_4_30:.2g}')\n",
    "\n",
    "pnsh_frac_aqueous_phase_4_30_hysys = frac_aqueous_phase_hysys_4_30 / 100\n",
    "C_pnsh_on_aqueous_phase_4_30_hysys = pnsh_frac_aqueous_phase_4_30_hysys * rho_aqueous_phase_4_30 / MW_pnsh\n",
    "print(f'Концентрация пропантиола в воде: {C_pnsh_on_aqueous_phase_4_30_hysys:.5g} моль/л (hysys)')\n",
    "\n",
    "pnsh_frac_liquid_phase_4_30_hysys = frac_liquid_phase_hysys_4_30 / 100\n",
    "C_pnsh_on_liquid_phase_4_30_hysys = pnsh_frac_liquid_phase_4_30 * rho_liquid_phase_4_30 / MW_pnsh\n",
    "print(f'Концентрация пропантиола в октане: {C_pnsh_on_liquid_phase_4_30_hysys:.5g} моль/л (hysys)')\n",
    "\n",
    "m_4_30_hysys = C_pnsh_on_liquid_phase_4_30_hysys / C_pnsh_on_aqueous_phase_4_30_hysys\n",
    "print(f'Коэффициент распределения: {m_4_30_hysys:.2g} (hysys)')"
   ],
   "id": "462237e353ae0dc8",
   "outputs": [
    {
     "name": "stdout",
     "output_type": "stream",
     "text": [
      "4,16 % NaOH\n",
      "30\n",
      "-----------#Исходнй состав-----------\n",
      "-----------Водная фаза - 10.64, грамм:\n",
      "Вода: 10.64 грамм,  100 % мас.\n",
      "-----------Органическая фаза фаза - 7.1529 грамм:\n",
      "Октан 6.9916, грамм,  97.745 % мас.\n",
      "Пропантиол 0.16129, грамм,  2.2549 % мас.\n",
      "-----------#Равновесный состав-----------\n",
      "-----------Водная фаза - 10.787, грамм:\n",
      "Вода 10.64 грамм, 98.633 % мас.\n",
      "Пропантиол 0.14745 грамм, 1.3858 % мас.\n",
      "-----------Органическая фаза фаза - 7.0055 грамм:\n",
      "Октан 6.9916 грамм, 99.802 % мас.\n",
      "Пропантиол 0.013846 грамм, 0.19358 % мас.\n",
      "-----------##Равновесный состав по hysys-----------\n",
      "0.1472 грамм, 1.3643 % масс пропантиола в воде\n",
      "0.0141 грамм, 0.20173 % масс пропантиола в октане\n",
      "Концентрация NaOH в воде: 1.0827 моль/л\n",
      "Концентрация пропантиола в воде: 0.18778 моль/л\n",
      "Концентрация пропантиола в октане: 0.016902 моль/л\n",
      "Коэффициент распределения: 0.09\n",
      "Концентрация пропантиола в воде: 0.18487 моль/л (hysys)\n",
      "Концентрация пропантиола в октане: 0.016902 моль/л (hysys)\n",
      "Коэффициент распределения: 0.091 (hysys)\n"
     ]
    }
   ],
   "execution_count": 22
  },
  {
   "metadata": {
    "ExecuteTime": {
     "end_time": "2025-06-10T18:58:40.859802Z",
     "start_time": "2025-06-10T18:58:40.854053Z"
    }
   },
   "cell_type": "code",
   "source": [
    "print(f'6 % NaOH')\n",
    "print(f'40')\n",
    "exp_6_30 = main.exp_calc(16.1881, 1.4741, 27.0038, 35.6546, feed_pnsh_frac, 0.0653)\n",
    "\n",
    "print('-----------##Равновесный состав по hysys-----------')\n",
    "equilibrium_aqueous_phase_mass_hysys_6_30, frac_aqueous_phase_hysys_6_30 = 0.1549, 1.412168\n",
    "print(f'{equilibrium_aqueous_phase_mass_hysys_6_30:.5g} грамм, {frac_aqueous_phase_hysys_6_30:.5g} % масс пропантиола в воде')\n",
    "\n",
    "equilibrium_liquid_phase_mass_hysys_6_30, frac_liquid_phase_hysys_6_30 = 0.0069, 0.098483\n",
    "print(f'{equilibrium_liquid_phase_mass_hysys_6_30:.5g} грамм, {frac_liquid_phase_hysys_6_30:.5g} % масс пропантиола в октане')\n",
    "\n",
    "NaOH_frac_aqueous_phase_6_30 = 6 / 100\n",
    "rho_NaOH_6_30 = 1061\n",
    "C_NaOH_on_aqueous_phase_6_30 = NaOH_frac_aqueous_phase_6_30 * rho_NaOH_6_30 / MW_NaOH\n",
    "print(f'Концентрация NaOH в воде: {C_NaOH_on_aqueous_phase_6_30:.5g} моль/л')\n",
    "\n",
    "pnsh_frac_aqueous_phase_6_30 = exp_6_30[0] / 100\n",
    "rho_aqueous_phase_6_30 = 1052\n",
    "C_pnsh_on_aqueous_phase_6_30 = pnsh_frac_aqueous_phase_6_30 * rho_aqueous_phase_6_30 / MW_pnsh\n",
    "print(f'Концентрация пропантиола в воде: {C_pnsh_on_aqueous_phase_6_30:.5g} моль/л')\n",
    "\n",
    "pnsh_frac_liquid_phase_6_30 = exp_6_30[1] / 100\n",
    "rho_liquid_phase_6_30 = 665.2\n",
    "C_pnsh_on_liquid_phase_6_30 = pnsh_frac_liquid_phase_6_30 * rho_liquid_phase_6_30 / MW_pnsh\n",
    "print(f'Концентрация пропантиола в октане: {C_pnsh_on_liquid_phase_6_30:.5g} моль/л')\n",
    "\n",
    "m_6_30 = C_pnsh_on_liquid_phase_6_30 / C_pnsh_on_aqueous_phase_6_30\n",
    "print(f'Коэффициент распределения: {m_6_30:.2g}')\n",
    "\n",
    "pnsh_frac_aqueous_phase_6_30_hysys = frac_aqueous_phase_hysys_6_30 / 100\n",
    "C_pnsh_on_aqueous_phase_6_30_hysys = pnsh_frac_aqueous_phase_6_30_hysys * rho_aqueous_phase_6_30 / MW_pnsh\n",
    "print(f'Концентрация пропантиола в воде: {C_pnsh_on_aqueous_phase_6_30_hysys:.5g} моль/л (hysys)')\n",
    "\n",
    "pnsh_frac_liquid_phase_6_30_hysys = frac_liquid_phase_hysys_6_30 / 100\n",
    "C_pnsh_on_liquid_phase_6_30_hysys = pnsh_frac_liquid_phase_6_30 * rho_liquid_phase_6_30 / MW_pnsh\n",
    "print(f'Концентрация пропантиола в октане: {C_pnsh_on_liquid_phase_6_30_hysys:.5g} моль/л (hysys)')\n",
    "\n",
    "m_6_30_hysys = C_pnsh_on_liquid_phase_6_30_hysys / C_pnsh_on_aqueous_phase_6_30_hysys\n",
    "print(f'Коэффициент распределения: {m_6_30_hysys:.2g} (hysys)')"
   ],
   "id": "c14bfb691c3952e3",
   "outputs": [
    {
     "name": "stdout",
     "output_type": "stream",
     "text": [
      "6 % NaOH\n",
      "40\n",
      "-----------#Исходнй состав-----------\n",
      "-----------Водная фаза - 10.816, грамм:\n",
      "Вода: 10.816 грамм,  100 % мас.\n",
      "-----------Органическая фаза фаза - 7.1767 грамм:\n",
      "Октан 7.0149, грамм,  97.745 % мас.\n",
      "Пропантиол 0.16183, грамм,  2.2549 % мас.\n",
      "-----------#Равновесный состав-----------\n",
      "-----------Водная фаза - 10.966, грамм:\n",
      "Вода 10.816 грамм, 98.626 % мас.\n",
      "Пропантиол 0.1507 грамм, 1.3933 % мас.\n",
      "-----------Органическая фаза фаза - 7.026 грамм:\n",
      "Октан 7.0149 грамм, 99.842 % мас.\n",
      "Пропантиол 0.011131 грамм, 0.1551 % мас.\n",
      "-----------##Равновесный состав по hysys-----------\n",
      "0.1549 грамм, 1.4122 % масс пропантиола в воде\n",
      "0.0069 грамм, 0.098483 % масс пропантиола в октане\n",
      "Концентрация NaOH в воде: 1.5916 моль/л\n",
      "Концентрация пропантиола в воде: 0.19246 моль/л\n",
      "Концентрация пропантиола в октане: 0.013547 моль/л\n",
      "Коэффициент распределения: 0.07\n",
      "Концентрация пропантиола в воде: 0.19506 моль/л (hysys)\n",
      "Концентрация пропантиола в октане: 0.013547 моль/л (hysys)\n",
      "Коэффициент распределения: 0.069 (hysys)\n"
     ]
    }
   ],
   "execution_count": 23
  },
  {
   "metadata": {
    "ExecuteTime": {
     "end_time": "2025-06-10T18:58:40.890927Z",
     "start_time": "2025-06-10T18:58:40.885421Z"
    }
   },
   "cell_type": "code",
   "source": [
    "print(f'Концентрация NaOH 8.59 % масс')\n",
    "print(f'30')\n",
    "exp8_30 = main.exp_calc(16.3655, 1.4904, 27.4283, 36.0962, feed_pnsh_frac, 0.0444)\n",
    "\n",
    "print('-----------##Равновесный состав по hysys-----------')\n",
    "equilibrium_aqueous_phase_mass_hysys_8_30, frac_aqueous_phase_hysys_8_30 = 0.1583, 1.41353\n",
    "print(f'{equilibrium_aqueous_phase_mass_hysys_8_30:.5g} грамм, {frac_aqueous_phase_hysys_8_30:.5g} % масс пропантиола в воде')\n",
    "\n",
    "equilibrium_liquid_phase_mass_hysys_8_30, frac_liquid_phase_hysys_8_30 = 0.002929, 0.04189\n",
    "print(f'{equilibrium_liquid_phase_mass_hysys_8_30:.5g} грамм, {frac_liquid_phase_hysys_8_30:.5g} % масс пропантиола в октане')\n",
    "\n",
    "NaOH_frac_aqueous_phase_8_30 = 8.59 / 100\n",
    "rho_NaOH_8_30 = 1090\n",
    "C_NaOH_on_aqueous_phase_8_30 = NaOH_frac_aqueous_phase_8_30 * rho_NaOH_8_30 / MW_NaOH\n",
    "print(f'Концентрация NaOH в воде: {C_NaOH_on_aqueous_phase_8_30:.5g} моль/л')\n",
    "\n",
    "pnsh_frac_aqueous_phase_8_30 = exp8_30[0] / 100\n",
    "rho_aqueous_phase_8_30 = 1080\n",
    "C_pnsh_on_aqueous_phase_8_30 = pnsh_frac_aqueous_phase_8_30 * rho_aqueous_phase_8_30 / MW_pnsh\n",
    "print(f'Концентрация пропантиола в воде: {C_pnsh_on_aqueous_phase_8_30:.5g} моль/л')\n",
    "\n",
    "pnsh_frac_liquid_phase_8_30 = exp8_30[1] / 100\n",
    "rho_liquid_phase_8_30 = 665.6\n",
    "C_pnsh_on_liquid_phase_8_30 = pnsh_frac_liquid_phase_8_30 * rho_liquid_phase_8_30 / MW_pnsh\n",
    "print(f'Концентрация пропантиола в октане: {C_pnsh_on_liquid_phase_8_30:.5g} моль/л')\n",
    "\n",
    "m_8_30 = C_pnsh_on_liquid_phase_8_30 / C_pnsh_on_aqueous_phase_8_30\n",
    "print(f'Коэффициент распределения: {m_8_30:.2g}')\n",
    "\n",
    "pnsh_frac_aqueous_phase_8_30_hysys = frac_aqueous_phase_hysys_8_30 / 100\n",
    "C_pnsh_on_aqueous_phase_8_30_hysys = pnsh_frac_aqueous_phase_8_30_hysys * rho_aqueous_phase_8_30 / MW_pnsh\n",
    "print(f'Концентрация пропантиола в воде: {C_pnsh_on_aqueous_phase_8_30_hysys:.5g} моль/л (hysys)')\n",
    "\n",
    "pnsh_frac_liquid_phase_8_30_hysys = frac_liquid_phase_hysys_8_30 / 100\n",
    "C_pnsh_on_liquid_phase_8_30_hysys = pnsh_frac_liquid_phase_8_30 * rho_liquid_phase_8_30 / MW_pnsh\n",
    "print(f'Концентрация пропантиола в октане: {C_pnsh_on_liquid_phase_8_30_hysys:.5g} моль/л (hysys)')\n",
    "\n",
    "m_8_30_hysys = C_pnsh_on_liquid_phase_8_30_hysys / C_pnsh_on_aqueous_phase_8_30_hysys\n",
    "print(f'Коэффициент распределения: {m_8_30_hysys:.2g} (hysys)')"
   ],
   "id": "e1e9f8e7d4a7ec41",
   "outputs": [
    {
     "name": "stdout",
     "output_type": "stream",
     "text": [
      "Концентрация NaOH 8.59 % масс\n",
      "30\n",
      "-----------#Исходнй состав-----------\n",
      "-----------Водная фаза - 11.063, грамм:\n",
      "Вода: 11.063 грамм,  100 % мас.\n",
      "-----------Органическая фаза фаза - 7.1775 грамм:\n",
      "Октан 7.0157, грамм,  97.745 % мас.\n",
      "Пропантиол 0.16185, грамм,  2.2549 % мас.\n",
      "-----------#Равновесный состав-----------\n",
      "-----------Водная фаза - 11.217, грамм:\n",
      "Вода 11.063 грамм, 98.625 % мас.\n",
      "Пропантиол 0.15428 грамм, 1.3946 % мас.\n",
      "-----------Органическая фаза фаза - 7.0232 грамм:\n",
      "Октан 7.0157 грамм, 99.892 % мас.\n",
      "Пропантиол 0.0075692 грамм, 0.10546 % мас.\n",
      "-----------##Равновесный состав по hysys-----------\n",
      "0.1583 грамм, 1.4135 % масс пропантиола в воде\n",
      "0.002929 грамм, 0.04189 % масс пропантиола в октане\n",
      "Концентрация NaOH в воде: 2.3409 моль/л\n",
      "Концентрация пропантиола в воде: 0.19776 моль/л\n",
      "Концентрация пропантиола в октане: 0.0092165 моль/л\n",
      "Коэффициент распределения: 0.047\n",
      "Концентрация пропантиола в воде: 0.20045 моль/л (hysys)\n",
      "Концентрация пропантиола в октане: 0.0092165 моль/л (hysys)\n",
      "Коэффициент распределения: 0.046 (hysys)\n"
     ]
    }
   ],
   "execution_count": 24
  },
  {
   "metadata": {
    "ExecuteTime": {
     "end_time": "2025-06-10T18:58:40.926864Z",
     "start_time": "2025-06-10T18:58:40.921356Z"
    }
   },
   "cell_type": "code",
   "source": [
    "print(f'Концентрация NaOH 10.18 % масс')\n",
    "print(f'40')\n",
    "exp10_30 = main.exp_calc(16.4635, 1.4885, 27.7406, 36.3746, feed_pnsh_frac, 0.0527)\n",
    "\n",
    "print('-----------##Равновесный состав по hysys-----------')\n",
    "equilibrium_aqueous_phase_mass_hysys_10_30, frac_aqueous_phase_hysys_10_30 = 0.1480, 1.392985\n",
    "print(f'{equilibrium_aqueous_phase_mass_hysys_10_30:.5g} грамм, {frac_aqueous_phase_hysys_10_30:.5g} % масс пропантиола в воде')\n",
    "\n",
    "equilibrium_liquid_phase_mass_hysys_10_30, frac_liquid_phase_hysys_10_30 = 0.001831, 0.026209\n",
    "print(f'{equilibrium_liquid_phase_mass_hysys_10_30:.5g} грамм, {frac_liquid_phase_hysys_10_30:.5g} % масс пропантиола в октане')\n",
    "\n",
    "NaOH_frac_aqueous_phase_10_30 = 10.18 / 100\n",
    "rho_NaOH_10_30 = 1107\n",
    "C_NaOH_on_aqueous_phase_10_30 = NaOH_frac_aqueous_phase_10_30 * rho_NaOH_10_30 / MW_NaOH\n",
    "print(f'Концентрация NaOH в воде: {C_NaOH_on_aqueous_phase_10_30:.5g} моль/л')\n",
    "\n",
    "pnsh_frac_aqueous_phase_10_30 = exp10_30[0] / 100\n",
    "rho_aqueous_phase_10_30 = 1097\n",
    "C_pnsh_on_aqueous_phase_10_30 = pnsh_frac_aqueous_phase_10_30 * rho_aqueous_phase_10_30 / MW_pnsh\n",
    "print(f'Концентрация пропантиола в воде: {C_pnsh_on_aqueous_phase_10_30:.5g} моль/л')\n",
    "\n",
    "pnsh_frac_liquid_phase_10_30 = exp10_30[1] / 100\n",
    "rho_liquid_phase_10_30 = 665.8\n",
    "C_pnsh_on_liquid_phase_10_30 = pnsh_frac_liquid_phase_10_30 * rho_liquid_phase_10_30 / MW_pnsh\n",
    "print(f'Концентрация пропантиола в октане: {C_pnsh_on_liquid_phase_10_30:.5g} моль/л')\n",
    "\n",
    "m_10_30 = C_pnsh_on_liquid_phase_10_30 / C_pnsh_on_aqueous_phase_10_30\n",
    "print(f'Коэффициент распределения: {m_10_30:.2g}')\n",
    "\n",
    "pnsh_frac_aqueous_phase_10_30_hysys = frac_aqueous_phase_hysys_10_30 / 100\n",
    "C_pnsh_on_aqueous_phase_10_30_hysys = pnsh_frac_aqueous_phase_10_30_hysys * rho_aqueous_phase_10_30 / MW_pnsh\n",
    "print(f'Концентрация пропантиола в воде: {C_pnsh_on_aqueous_phase_10_30_hysys:.5g} моль/л (hysys)')\n",
    "\n",
    "pnsh_frac_liquid_phase_10_30_hysys = frac_liquid_phase_hysys_10_30 / 100\n",
    "C_pnsh_on_liquid_phase_10_30_hysys = pnsh_frac_liquid_phase_10_30 * rho_liquid_phase_10_30 / MW_pnsh\n",
    "print(f'Концентрация пропантиола в октане: {C_pnsh_on_liquid_phase_10_30_hysys:.5g} моль/л (hysys)')\n",
    "\n",
    "m_10_30_hysys = C_pnsh_on_liquid_phase_10_30_hysys / C_pnsh_on_aqueous_phase_10_30_hysys\n",
    "print(f'Коэффициент распределения: {m_10_30_hysys:.2g} (hysys)')"
   ],
   "id": "d9118e6183fefad4",
   "outputs": [
    {
     "name": "stdout",
     "output_type": "stream",
     "text": [
      "Концентрация NaOH 10.18 % масс\n",
      "40\n",
      "-----------#Исходнй состав-----------\n",
      "-----------Водная фаза - 11.277, грамм:\n",
      "Вода: 11.277 грамм,  100 % мас.\n",
      "-----------Органическая фаза фаза - 7.1455 грамм:\n",
      "Октан 6.9844, грамм,  97.745 % мас.\n",
      "Пропантиол 0.16112, грамм,  2.2549 % мас.\n",
      "-----------#Равновесный состав-----------\n",
      "-----------Водная фаза - 11.429, грамм:\n",
      "Вода 11.277 грамм, 98.669 % мас.\n",
      "Пропантиол 0.15218 грамм, 1.3495 % мас.\n",
      "-----------Органическая фаза фаза - 6.9933 грамм:\n",
      "Октан 6.9844 грамм, 99.872 % мас.\n",
      "Пропантиол 0.0089441 грамм, 0.12517 % мас.\n",
      "-----------##Равновесный состав по hysys-----------\n",
      "0.148 грамм, 1.393 % масс пропантиола в воде\n",
      "0.001831 грамм, 0.026209 % масс пропантиола в октане\n",
      "Концентрация NaOH в воде: 2.8175 моль/л\n",
      "Концентрация пропантиола в воде: 0.19438 моль/л\n",
      "Концентрация пропантиола в октане: 0.010943 моль/л\n",
      "Коэффициент распределения: 0.056\n",
      "Концентрация пропантиола в воде: 0.20064 моль/л (hysys)\n",
      "Концентрация пропантиола в октане: 0.010943 моль/л (hysys)\n",
      "Коэффициент распределения: 0.055 (hysys)\n"
     ]
    }
   ],
   "execution_count": 25
  },
  {
   "metadata": {
    "ExecuteTime": {
     "end_time": "2025-06-10T18:58:40.964619Z",
     "start_time": "2025-06-10T18:58:40.959179Z"
    }
   },
   "cell_type": "code",
   "source": [
    "print(f'Концентрация NaOH 12.84 % масс')\n",
    "print(f'30')\n",
    "exp13_30 = main.exp_calc(16.7581, 1.4912, 28.1525, 36.7412, feed_pnsh_frac, 0.0358)\n",
    "\n",
    "print('-----------##Равновесный состав по hysys-----------')\n",
    "equilibrium_aqueous_phase_mass_hysys_13_30, frac_aqueous_phase_hysys_13_30 = 0.160091, 1.371655\n",
    "print(f'{equilibrium_aqueous_phase_mass_hysys_13_30:.5g} грамм, {frac_aqueous_phase_hysys_13_30:.5g} % масс пропантиола в воде')\n",
    "\n",
    "equilibrium_liquid_phase_mass_hysys_13_30, frac_liquid_phase_hysys_13_30 = 0.000926, 0.013259\n",
    "print(f'{equilibrium_liquid_phase_mass_hysys_13_30:.5g} грамм, {frac_liquid_phase_hysys_13_30:.5g} % масс пропантиола в октане')\n",
    "\n",
    "NaOH_frac_aqueous_phase_13_30 = 12.84 / 100\n",
    "rho_NaOH_13_30 = 1135\n",
    "C_NaOH_on_aqueous_phase_13_30 = NaOH_frac_aqueous_phase_13_30 * rho_NaOH_13_30 / MW_NaOH\n",
    "print(f'Концентрация NaOH в воде: {C_NaOH_on_aqueous_phase_13_30:.5g} моль/л')\n",
    "\n",
    "pnsh_frac_aqueous_phase_13_30 = exp13_30[0] / 100\n",
    "rho_aqueous_phase_13_30 = 1125\n",
    "C_pnsh_on_aqueous_phase_13_30 = pnsh_frac_aqueous_phase_13_30 * rho_aqueous_phase_13_30 / MW_pnsh\n",
    "print(f'Концентрация пропантиола в воде: {C_pnsh_on_aqueous_phase_13_30:.5g} моль/л')\n",
    "\n",
    "pnsh_frac_liquid_phase_13_30 = exp13_30[1] / 100\n",
    "rho_liquid_phase_13_30 = 666.1\n",
    "C_pnsh_on_liquid_phase_13_30 = pnsh_frac_liquid_phase_13_30 * rho_liquid_phase_13_30 / MW_pnsh\n",
    "print(f'Концентрация пропантиола в октане: {C_pnsh_on_liquid_phase_13_30:.5g} моль/л')\n",
    "\n",
    "m_13_30 = C_pnsh_on_liquid_phase_13_30 / C_pnsh_on_aqueous_phase_13_30\n",
    "print(f'Коэффициент распределения: {m_13_30:.2g}')\n",
    "\n",
    "pnsh_frac_aqueous_phase_13_30_hysys = frac_aqueous_phase_hysys_13_30 / 100\n",
    "C_pnsh_on_aqueous_phase_13_30_hysys = pnsh_frac_aqueous_phase_13_30_hysys * rho_aqueous_phase_13_30 / MW_pnsh\n",
    "print(f'Концентрация пропантиола в воде: {C_pnsh_on_aqueous_phase_13_30_hysys:.5g} моль/л (hysys)')\n",
    "\n",
    "pnsh_frac_liquid_phase_13_30_hysys = frac_liquid_phase_hysys_13_30 / 100\n",
    "C_pnsh_on_liquid_phase_13_30_hysys = pnsh_frac_liquid_phase_13_30 * rho_liquid_phase_13_30 / MW_pnsh\n",
    "print(f'Концентрация пропантиола в октане: {C_pnsh_on_liquid_phase_13_30_hysys:.5g} моль/л (hysys)')\n",
    "\n",
    "m_13_30_hysys = C_pnsh_on_liquid_phase_13_30_hysys / C_pnsh_on_aqueous_phase_13_30_hysys\n",
    "print(f'Коэффициент распределения: {m_13_30_hysys:.2g} (hysys)')"
   ],
   "id": "cc75d05911816871",
   "outputs": [
    {
     "name": "stdout",
     "output_type": "stream",
     "text": [
      "Концентрация NaOH 12.84 % масс\n",
      "30\n",
      "-----------#Исходнй состав-----------\n",
      "-----------Водная фаза - 11.394, грамм:\n",
      "Вода: 11.394 грамм,  100 % мас.\n",
      "-----------Органическая фаза фаза - 7.0975 грамм:\n",
      "Октан 6.9375, грамм,  97.745 % мас.\n",
      "Пропантиол 0.16004, грамм,  2.2549 % мас.\n",
      "-----------#Равновесный состав-----------\n",
      "-----------Водная фаза - 11.548, грамм:\n",
      "Вода 11.394 грамм, 98.666 % мас.\n",
      "Пропантиол 0.15401 грамм, 1.3516 % мас.\n",
      "-----------Органическая фаза фаза - 6.9435 грамм:\n",
      "Октан 6.9375 грамм, 99.913 % мас.\n",
      "Пропантиол 0.0060351 грамм, 0.085031 % мас.\n",
      "-----------##Равновесный состав по hysys-----------\n",
      "0.16009 грамм, 1.3717 % масс пропантиола в воде\n",
      "0.000926 грамм, 0.013259 % масс пропантиола в октане\n",
      "Концентрация NaOH в воде: 3.6436 моль/л\n",
      "Концентрация пропантиола в воде: 0.19965 моль/л\n",
      "Концентрация пропантиола в октане: 0.0074369 моль/л\n",
      "Коэффициент распределения: 0.037\n",
      "Концентрация пропантиола в воде: 0.20261 моль/л (hysys)\n",
      "Концентрация пропантиола в октане: 0.0074369 моль/л (hysys)\n",
      "Коэффициент распределения: 0.037 (hysys)\n"
     ]
    }
   ],
   "execution_count": 26
  },
  {
   "cell_type": "code",
   "id": "4967a8133bdc14b6",
   "metadata": {
    "ExecuteTime": {
     "end_time": "2025-06-10T18:58:40.999674Z",
     "start_time": "2025-06-10T18:58:40.995145Z"
    }
   },
   "source": [
    "print(f'Концентрация NaOH 17.52 % масс')\n",
    "print(f'30')\n",
    "exp17_30 = main.exp_calc(16.1331, 1.42, 27.9650, 36.5462, feed_pnsh_frac, 0.0415)\n",
    "\n",
    "print('-----------##Равновесный состав по hysys-----------')\n",
    "equilibrium_aqueous_phase_mass_hysys_17_30, frac_aqueous_phase_hysys_17_30 = 0.160599, 1.336082\n",
    "print(f'{equilibrium_aqueous_phase_mass_hysys_17_30:.5g} грамм, {frac_aqueous_phase_hysys_17_30:.5g} % масс пропантиола в воде')\n",
    "\n",
    "equilibrium_liquid_phase_mass_hysys_17_30, frac_liquid_phase_hysys_17_30 = 0.000337, 0.0004824\n",
    "print(f'{equilibrium_liquid_phase_mass_hysys_17_30:.5g} грамм, {frac_liquid_phase_hysys_17_30:.5g} % масс пропантиола в октане')\n",
    "\n",
    "NaOH_frac_aqueous_phase_17_30 = 12.84 / 100\n",
    "rho_NaOH_17_30 = 1185\n",
    "C_NaOH_on_aqueous_phase_17_30 = NaOH_frac_aqueous_phase_17_30 * rho_NaOH_17_30 / MW_NaOH\n",
    "print(f'Концентрация NaOH в воде: {C_NaOH_on_aqueous_phase_17_30:.5g} моль/л')\n",
    "\n",
    "pnsh_frac_aqueous_phase_17_30 = exp17_30[0] / 100\n",
    "rho_aqueous_phase_17_30 = 1174\n",
    "C_pnsh_on_aqueous_phase_17_30 = pnsh_frac_aqueous_phase_17_30 * rho_aqueous_phase_17_30 / MW_pnsh\n",
    "print(f'Концентрация пропантиола в воде: {C_pnsh_on_aqueous_phase_17_30:.5g} моль/л')\n",
    "\n",
    "pnsh_frac_liquid_phase_17_30 = exp17_30[1] / 100\n",
    "rho_liquid_phase_17_30 = 666.4\n",
    "C_pnsh_on_liquid_phase_17_30 = pnsh_frac_liquid_phase_17_30 * rho_liquid_phase_17_30 / MW_pnsh\n",
    "print(f'Концентрация пропантиола в октане: {C_pnsh_on_liquid_phase_17_30:.5g} моль/л')\n",
    "\n",
    "m_17_30 = C_pnsh_on_liquid_phase_17_30 / C_pnsh_on_aqueous_phase_17_30\n",
    "print(f'Коэффициент распределения: {m_17_30:.2g}')\n",
    "\n",
    "pnsh_frac_aqueous_phase_17_30_hysys = frac_aqueous_phase_hysys_17_30 / 100\n",
    "C_pnsh_on_aqueous_phase_17_30_hysys = pnsh_frac_aqueous_phase_17_30_hysys * rho_aqueous_phase_17_30 / MW_pnsh\n",
    "print(f'Концентрация пропантиола в воде: {C_pnsh_on_aqueous_phase_17_30_hysys:.5g} моль/л (hysys)')\n",
    "\n",
    "pnsh_frac_liquid_phase_17_30_hysys = frac_liquid_phase_hysys_17_30 / 100\n",
    "C_pnsh_on_liquid_phase_17_30_hysys = pnsh_frac_liquid_phase_17_30 * rho_liquid_phase_17_30 / MW_pnsh\n",
    "print(f'Концентрация пропантиола в октане: {C_pnsh_on_liquid_phase_17_30_hysys:.5g} моль/л (hysys)')\n",
    "\n",
    "m_17_30_hysys = C_pnsh_on_liquid_phase_17_30_hysys / C_pnsh_on_aqueous_phase_17_30_hysys\n",
    "print(f'Коэффициент распределения: {m_17_30_hysys:.2g} (hysys)')"
   ],
   "outputs": [
    {
     "name": "stdout",
     "output_type": "stream",
     "text": [
      "Концентрация NaOH 17.52 % масс\n",
      "30\n",
      "-----------#Исходнй состав-----------\n",
      "-----------Водная фаза - 11.832, грамм:\n",
      "Вода: 11.832 грамм,  100 % мас.\n",
      "-----------Органическая фаза фаза - 7.1612 грамм:\n",
      "Октан 6.9997, грамм,  97.745 % мас.\n",
      "Пропантиол 0.16148, грамм,  2.2549 % мас.\n",
      "-----------#Равновесный состав-----------\n",
      "-----------Водная фаза - 11.986, грамм:\n",
      "Вода 11.832 грамм, 98.712 % мас.\n",
      "Пропантиол 0.15442 грамм, 1.3051 % мас.\n",
      "-----------Органическая фаза фаза - 7.0068 грамм:\n",
      "Октан 6.9997 грамм, 99.899 % мас.\n",
      "Пропантиол 0.0070588 грамм, 0.09857 % мас.\n",
      "-----------##Равновесный состав по hysys-----------\n",
      "0.1606 грамм, 1.3361 % масс пропантиола в воде\n",
      "0.000337 грамм, 0.0004824 % масс пропантиола в октане\n",
      "Концентрация NaOH в воде: 3.8041 моль/л\n",
      "Концентрация пропантиола в воде: 0.20118 моль/л\n",
      "Концентрация пропантиола в октане: 0.0086249 моль/л\n",
      "Коэффициент распределения: 0.043\n",
      "Концентрация пропантиола в воде: 0.20596 моль/л (hysys)\n",
      "Концентрация пропантиола в октане: 0.0086249 моль/л (hysys)\n",
      "Коэффициент распределения: 0.042 (hysys)\n"
     ]
    }
   ],
   "execution_count": 27
  },
  {
   "cell_type": "code",
   "id": "e5f984457842022a",
   "metadata": {
    "ExecuteTime": {
     "end_time": "2025-06-10T18:58:41.026043Z",
     "start_time": "2025-06-10T18:58:41.021925Z"
    }
   },
   "source": [
    "K_a = 10**-10.77\n",
    "print(K_a)\n",
    "K_w = main.k_w(30)\n",
    "print(K_w)\n",
    "Na_frac = np.linspace(0, 4, 1000)\n",
    "m_d = main.m_calc(Na_frac, pnsh_frac_liquid_phase_30, K_a, K_w, m0)\n",
    "\n",
    "Exp_NaOH_frac = np.array([0, C_NaOH_on_aqueous_phase_1_30, C_NaOH_on_aqueous_phase_2_30, C_NaOH_on_aqueous_phase_3_30, C_NaOH_on_aqueous_phase_4_30, C_NaOH_on_aqueous_phase_6_30, C_NaOH_on_aqueous_phase_8_30, C_NaOH_on_aqueous_phase_10_30, C_NaOH_on_aqueous_phase_13_30, C_NaOH_on_aqueous_phase_17_30])\n",
    "\n",
    "Exp_m_d = np.array([m0, m_1_30, m_2_30, m_3_30, m_4_30, m_6_30, m_8_30, m_10_30, m_13_30, m_17_30])\n",
    "Exp_m_d_hysys = np.array([m0_hysys, m_1_30_hysys, m_2_30_hysys, m_3_30_hysys, m_4_30_hysys, m_6_30_hysys, m_8_30_hysys, m_10_30_hysys, m_13_30_hysys, m_17_30_hysys])"
   ],
   "outputs": [
    {
     "name": "stdout",
     "output_type": "stream",
     "text": [
      "1.698243652461746e-11\n",
      "1.467588669460362e-14\n"
     ]
    }
   ],
   "execution_count": 28
  },
  {
   "cell_type": "code",
   "id": "9dc0feacadb5bdaa",
   "metadata": {
    "ExecuteTime": {
     "end_time": "2025-06-10T18:58:41.143641Z",
     "start_time": "2025-06-10T18:58:41.051029Z"
    }
   },
   "source": [
    "def mm_to_inch(mm):\n",
    "    return mm / 25.4\n",
    "\n",
    "plt.rcParams.update({\n",
    "    'font.family': 'sans-serif',\n",
    "    'font.sans-serif': ['Arial', 'Helvetica'],\n",
    "    'font.size': 7,\n",
    "    'axes.linewidth': 0.5,\n",
    "    'xtick.direction': 'in',\n",
    "    'ytick.direction': 'in',\n",
    "    'xtick.major.size': 3,\n",
    "    'ytick.major.size': 3,\n",
    "    'figure.dpi': 300,\n",
    "    'axes.grid': False,\n",
    "    'lines.linewidth': 1.0,\n",
    "    'axes.prop_cycle': plt.cycler('color', ['#0072B2', '#D55E00', '#CC79A7', '#F0E442'])\n",
    "})\n",
    "\n",
    "fig_width_mm = 89\n",
    "fig_height_mm = 60\n",
    "fig, ax = plt.subplots(figsize=(mm_to_inch(fig_width_mm), mm_to_inch(fig_height_mm)))\n",
    "\n",
    "#ax.set_xlim(0.146, 0.153)\n",
    "ax.set_ylim(0, 1.0)\n",
    "\n",
    "ax.plot(Na_frac, m_d, label='расчет', color='Black', linestyle='-')\n",
    "ax.plot(Exp_NaOH_frac, Exp_m_d_hysys, label='hysys', color='Black', linestyle='--')\n",
    "ax.scatter(Exp_NaOH_frac, Exp_m_d, label='n-PnSH 30 °С', color='Red', marker='o')\n",
    "\n",
    "ax.set_xlabel('NaOH, моль/л')\n",
    "ax.set_ylabel('m_d')\n",
    "leg = ax.legend(frameon=False, fontsize=6)\n",
    "\n",
    "plt.tight_layout()\n"
   ],
   "outputs": [
    {
     "data": {
      "text/plain": [
       "<Figure size 1051.18x708.661 with 1 Axes>"
      ],
      "image/png": "[encoded data removed]"
     },
     "metadata": {},
     "output_type": "display_data"
    }
   ],
   "execution_count": 29
  }
 ],
 "metadata": {
  "kernelspec": {
   "display_name": "Python 3 (ipykernel)",
   "language": "python",
   "name": "python3"
  },
  "language_info": {
   "codemirror_mode": {
    "name": "ipython",
    "version": 3
   },
   "file_extension": ".py",
   "mimetype": "text/x-python",
   "name": "python",
   "nbconvert_exporter": "python",
   "pygments_lexer": "ipython3",
   "version": "3.12.5"
  }
 },
 "nbformat": 4,
 "nbformat_minor": 5
}
