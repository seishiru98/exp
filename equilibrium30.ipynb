{
 "cells": [
  {
   "cell_type": "code",
   "id": "initial_id",
   "metadata": {
    "ExecuteTime": {
     "end_time": "2025-06-18T17:56:12.212735Z",
     "start_time": "2025-06-18T17:56:12.208644Z"
    }
   },
   "source": [
    "import matplotlib.pyplot as plt\n",
    "import numpy as np\n",
    "import main"
   ],
   "outputs": [],
   "execution_count": 18
  },
  {
   "cell_type": "code",
   "id": "141403e822ff7642",
   "metadata": {
    "ExecuteTime": {
     "end_time": "2025-06-18T17:56:12.230210Z",
     "start_time": "2025-06-18T17:56:12.224948Z"
    }
   },
   "source": [
    "n = np.array([0.9424, 0.9582, 0.9475])\n",
    "MW_pnsh, MW_s, MW_NaOH = 76.16, 32.065, 39.9971\n",
    "\n",
    "average = np.average(n)\n",
    "\n",
    "feed_pnsh_frac = average * (MW_pnsh / MW_s)\n",
    "print(f'Концентрация тиола в октане: {feed_pnsh_frac:.5f} % масс')\n",
    "\n",
    "C_pnsh = (feed_pnsh_frac/100) * 673.8 / MW_pnsh\n",
    "print(f'Концентрация пропантиола в воде: {C_pnsh:.5g} моль/л')"
   ],
   "outputs": [
    {
     "name": "stdout",
     "output_type": "stream",
     "text": [
      "Концентрация тиола в октане: 2.25491 % масс\n",
      "Концентрация пропантиола в воде: 0.1995 моль/л\n"
     ]
    }
   ],
   "execution_count": 19
  },
  {
   "cell_type": "code",
   "id": "f5da1b61c69128dc",
   "metadata": {
    "ExecuteTime": {
     "end_time": "2025-06-18T17:56:12.267489Z",
     "start_time": "2025-06-18T17:56:12.263046Z"
    }
   },
   "source": [
    "print(f'Чистая вода')\n",
    "print(f'30')\n",
    "exp_30 = main.exp_calc(16.3725, 1.5094, 26.4868, 35.0876, feed_pnsh_frac, 0.9327)\n",
    "\n",
    "print('-----------#При равновесии по hysys-----------')\n",
    "equilibrium_aqueous_phase_mass_hysys_30, frac_aqueous_phase_hysys_30 = 1.54390512215937e-003, 0.015264029\n",
    "print(f'{equilibrium_aqueous_phase_mass_hysys_30:.5g} грамм, {frac_aqueous_phase_hysys_30:.5g} % масс пропантиола в воде')\n",
    "equilibrium_liquid_phase_mass_hysys_30, frac_liquid_phase_hysys_30 = 0.158360951102634, 2.23335\n",
    "print(f'{equilibrium_liquid_phase_mass_hysys_30:.5g} грамм, {frac_liquid_phase_hysys_30:.5g} % масс пропантиола в октане')\n",
    "\n",
    "pnsh_frac_aqueous_phase_30 = exp_30[0] / 100\n",
    "rho_aqueous_phase_30 = 995.680748197656\n",
    "C_pnsh_on_aqueous_phase_30 = pnsh_frac_aqueous_phase_30 * rho_aqueous_phase_30 / MW_pnsh\n",
    "print(f'Концентрация пропантиола в воде: {C_pnsh_on_aqueous_phase_30:.5g} моль/л')\n",
    "\n",
    "pnsh_frac_liquid_phase_30 = exp_30[1] / 100\n",
    "rho_liquid_phase_30 = 673.818715501813\n",
    "C_pnsh_on_liquid_phase_30 = pnsh_frac_liquid_phase_30 * rho_liquid_phase_30 / MW_pnsh\n",
    "print(f'Концентрация пропантиола в октане: {C_pnsh_on_liquid_phase_30:.5g} моль/л')\n",
    "m0 = C_pnsh_on_liquid_phase_30 / C_pnsh_on_aqueous_phase_30\n",
    "print(f'Коэффициент распределения: {m0:.2g}')\n",
    "\n",
    "pnsh_frac_aqueous_phase_30_hysys = frac_aqueous_phase_hysys_30 / 100\n",
    "C_pnsh_on_aqueous_phase_30_hysys = pnsh_frac_aqueous_phase_30_hysys * rho_aqueous_phase_30 / MW_pnsh\n",
    "print(f'Концентрация пропантиола в воде: {C_pnsh_on_aqueous_phase_30_hysys:.5g} моль/л (hysys)')\n",
    "\n",
    "pnsh_frac_liquid_phase_30_hysys = frac_liquid_phase_hysys_30 / 100\n",
    "C_pnsh_on_liquid_phase_30_hysys = pnsh_frac_liquid_phase_30_hysys * rho_liquid_phase_30 / MW_pnsh\n",
    "print(f'Концентрация пропантиола в октане: {C_pnsh_on_liquid_phase_30_hysys:.5g} моль/л (hysys)')\n",
    "m0_hysys = C_pnsh_on_liquid_phase_30_hysys / C_pnsh_on_aqueous_phase_30_hysys\n",
    "print(f'Коэффициент распределения: {m0_hysys:.2g} (hysys)')"
   ],
   "outputs": [
    {
     "name": "stdout",
     "output_type": "stream",
     "text": [
      "Чистая вода\n",
      "30\n",
      "-----------#Исходнй состав-----------\n",
      "-----------Водная фаза - 10.114, грамм:\n",
      "Вода: 10.114 грамм,  100 % мас.\n",
      "-----------Органическая фаза фаза - 7.0914 грамм:\n",
      "Октан 6.9315, грамм,  97.745 % мас.\n",
      "Пропантиол 0.1599, грамм,  2.2549 % мас.\n",
      "-----------#Равновесный состав-----------\n",
      "-----------Водная фаза - 10.117, грамм:\n",
      "Вода 10.114 грамм, 99.972 % мас.\n",
      "Пропантиол 0.0028072 грамм, 0.027755 % мас.\n",
      "-----------Органическая фаза фаза - 7.0886 грамм:\n",
      "Октан 6.9315 грамм, 97.784 % мас.\n",
      "Пропантиол 0.1571 грамм, 2.2153 % мас.\n",
      "-----------#При равновесии по hysys-----------\n",
      "0.0015439 грамм, 0.015264 % масс пропантиола в воде\n",
      "0.15836 грамм, 2.2334 % масс пропантиола в октане\n",
      "Концентрация пропантиола в воде: 0.0036286 моль/л\n",
      "Концентрация пропантиола в октане: 0.196 моль/л\n",
      "Коэффициент распределения: 54\n",
      "Концентрация пропантиола в воде: 0.0019955 моль/л (hysys)\n",
      "Концентрация пропантиола в октане: 0.19759 моль/л (hysys)\n",
      "Коэффициент распределения: 99 (hysys)\n"
     ]
    }
   ],
   "execution_count": 20
  },
  {
   "cell_type": "code",
   "id": "d1138023ce2434d1",
   "metadata": {
    "ExecuteTime": {
     "end_time": "2025-06-18T17:56:12.305439Z",
     "start_time": "2025-06-18T17:56:12.300514Z"
    }
   },
   "source": [
    "print(f'1% NaOH')\n",
    "print(f'30')\n",
    "exp_1_30 = main.exp_calc(16.6681, 1.4990, 26.8948, 35.5515, feed_pnsh_frac, 0.4303)\n",
    "\n",
    "print('-----------#При равновесии по hysys-----------')\n",
    "equilibrium_aqueous_phase_mass_hysys_1_30, frac_aqueous_phase_hysys_1_30 = 0.0942, 0.913215\n",
    "print(f'{equilibrium_aqueous_phase_mass_hysys_1_30:.5g} грамм, {frac_aqueous_phase_hysys_1_30:.5g} % масс пропантиола в воде')\n",
    "\n",
    "equilibrium_liquid_phase_mass_hysys_1_30, frac_liquid_phase_hysys_1_30 = 0.067152, 0.950588\n",
    "print(f'{equilibrium_liquid_phase_mass_hysys_1_30:.5g} грамм, {frac_liquid_phase_hysys_1_30:.5g} % масс пропантиола в октане')\n",
    "\n",
    "NaOH_frac_aqueous_phase_1_30 = 1 / 100\n",
    "rho_NaOH_1_30 = 1008\n",
    "C_NaOH_on_aqueous_phase_1_30 = NaOH_frac_aqueous_phase_1_30 * rho_NaOH_1_30 / MW_NaOH\n",
    "print(f'Концентрация NaOH в воде: {C_NaOH_on_aqueous_phase_1_30:.5g} моль/л')\n",
    "\n",
    "pnsh_frac_aqueous_phase_1_30 = exp_1_30[0] / 100\n",
    "rho_aqueous_phase_1_30 = 1002\n",
    "C_pnsh_on_aqueous_phase_1_30 = pnsh_frac_aqueous_phase_1_30 * rho_aqueous_phase_1_30 / MW_pnsh\n",
    "print(f'Концентрация пропантиола в воде: {C_pnsh_on_aqueous_phase_1_30:.5g} моль/л')\n",
    "\n",
    "pnsh_frac_liquid_phase_1_30 = exp_1_30[1] / 100\n",
    "rho_liquid_phase_1_30 = 671.9\n",
    "C_pnsh_on_liquid_phase_1_30 = pnsh_frac_liquid_phase_1_30 * rho_liquid_phase_1_30 / MW_pnsh\n",
    "print(f'Концентрация пропантиола в октане: {C_pnsh_on_liquid_phase_1_30:.5g} моль/л')\n",
    "\n",
    "m_1_30 = C_pnsh_on_liquid_phase_1_30 / C_pnsh_on_aqueous_phase_1_30\n",
    "print(f'Коэффициент распределения: {m_1_30:.2g}')\n",
    "\n",
    "pnsh_frac_aqueous_phase_1_30_hysys = frac_aqueous_phase_hysys_1_30 / 100\n",
    "C_pnsh_on_aqueous_phase_1_30_hysys = pnsh_frac_aqueous_phase_1_30_hysys * rho_aqueous_phase_1_30 / MW_pnsh\n",
    "print(f'Концентрация пропантиола в воде: {C_pnsh_on_aqueous_phase_1_30_hysys:.5g} моль/л (hysys)')\n",
    "\n",
    "pnsh_frac_liquid_phase_1_30_hysys = frac_liquid_phase_hysys_1_30 / 100\n",
    "C_pnsh_on_liquid_phase_1_30_hysys = pnsh_frac_liquid_phase_1_30_hysys * rho_liquid_phase_1_30 / MW_pnsh\n",
    "print(f'Концентрация пропантиола в октане: {C_pnsh_on_liquid_phase_1_30_hysys:.5g} моль/л (hysys)')\n",
    "\n",
    "m_1_30_hysys = C_pnsh_on_liquid_phase_1_30_hysys / C_pnsh_on_aqueous_phase_1_30_hysys\n",
    "print(f'Коэффициент распределения: {m_1_30_hysys:.2g} (hysys)')"
   ],
   "outputs": [
    {
     "name": "stdout",
     "output_type": "stream",
     "text": [
      "1% NaOH\n",
      "30\n",
      "-----------#Исходнй состав-----------\n",
      "-----------Водная фаза - 10.227, грамм:\n",
      "Вода: 10.227 грамм,  100 % мас.\n",
      "-----------Органическая фаза фаза - 7.1577 грамм:\n",
      "Октан 6.9963, грамм,  97.745 % мас.\n",
      "Пропантиол 0.1614, грамм,  2.2549 % мас.\n",
      "-----------#Равновесный состав-----------\n",
      "-----------Водная фаза - 10.315, грамм:\n",
      "Вода 10.227 грамм, 99.144 % мас.\n",
      "Пропантиол 0.088245 грамм, 0.86289 % мас.\n",
      "-----------Органическая фаза фаза - 7.0695 грамм:\n",
      "Октан 6.9963 грамм, 98.965 % мас.\n",
      "Пропантиол 0.073154 грамм, 1.022 % мас.\n",
      "-----------#При равновесии по hysys-----------\n",
      "0.0942 грамм, 0.91321 % масс пропантиола в воде\n",
      "0.067152 грамм, 0.95059 % масс пропантиола в октане\n",
      "Концентрация NaOH в воде: 0.25202 моль/л\n",
      "Концентрация пропантиола в воде: 0.11353 моль/л\n",
      "Концентрация пропантиола в октане: 0.090166 моль/л\n",
      "Коэффициент распределения: 0.79\n",
      "Концентрация пропантиола в воде: 0.12015 моль/л (hysys)\n",
      "Концентрация пропантиола в октане: 0.083863 моль/л (hysys)\n",
      "Коэффициент распределения: 0.7 (hysys)\n"
     ]
    }
   ],
   "execution_count": 21
  },
  {
   "cell_type": "code",
   "id": "52203291d1c0943",
   "metadata": {
    "ExecuteTime": {
     "end_time": "2025-06-18T17:56:12.343096Z",
     "start_time": "2025-06-18T17:56:12.337774Z"
    }
   },
   "source": [
    "print(f'2,16 % NaOH')\n",
    "print(f'30')\n",
    "exp_2_30 = main.exp_calc(16.1894, 1.4876, 26.5099, 35.1169, feed_pnsh_frac, 0.2107)\n",
    "\n",
    "print('-----------#При равновесии по hysys-----------')\n",
    "equilibrium_aqueous_phase_mass_hysys_2_30, frac_aqueous_phase_hysys_2_30 = 0.1317, 1.26052\n",
    "print(f'{equilibrium_aqueous_phase_mass_hysys_2_30:.5g} грамм, {frac_aqueous_phase_hysys_2_30:.5g} % масс пропантиола в воде')\n",
    "\n",
    "equilibrium_liquid_phase_mass_hysys_2_30, frac_liquid_phase_hysys_2_30 = 0.0288, 0.412111\n",
    "print(f'{equilibrium_liquid_phase_mass_hysys_2_30:.5g} грамм, {frac_liquid_phase_hysys_2_30:.5g} % масс пропантиола в октане')\n",
    "\n",
    "NaOH_frac_aqueous_phase_2_30 = 2.16 / 100\n",
    "rho_NaOH_2_30 = 1022\n",
    "C_NaOH_on_aqueous_phase_2_30 = NaOH_frac_aqueous_phase_2_30 * rho_NaOH_2_30 / MW_NaOH\n",
    "print(f'Концентрация NaOH в воде: {C_NaOH_on_aqueous_phase_2_30:.5g} моль/л')\n",
    "\n",
    "pnsh_frac_aqueous_phase_2_30 = exp_2_30[0] / 100\n",
    "rho_aqueous_phase_2_30 = 1014\n",
    "C_pnsh_on_aqueous_phase_2_30 = pnsh_frac_aqueous_phase_2_30 * rho_aqueous_phase_2_30 / MW_pnsh\n",
    "print(f'Концентрация пропантиола в воде: {C_pnsh_on_aqueous_phase_2_30:.5g} моль/л')\n",
    "\n",
    "pnsh_frac_liquid_phase_2_30 = exp_2_30[1] / 100\n",
    "rho_liquid_phase_2_30 = 671.2\n",
    "C_pnsh_on_liquid_phase_2_30 = pnsh_frac_liquid_phase_2_30 * rho_liquid_phase_2_30 / MW_pnsh\n",
    "print(f'Концентрация пропантиола в октане: {C_pnsh_on_liquid_phase_2_30:.5g} моль/л')\n",
    "\n",
    "m_2_30 = C_pnsh_on_liquid_phase_2_30 / C_pnsh_on_aqueous_phase_2_30\n",
    "print(f'Коэффициент распределения: {m_2_30:.2g}')\n",
    "\n",
    "pnsh_frac_aqueous_phase_2_30_hysys = frac_aqueous_phase_hysys_2_30 / 100\n",
    "C_pnsh_on_aqueous_phase_2_30_hysys = pnsh_frac_aqueous_phase_2_30_hysys * rho_aqueous_phase_2_30 / MW_pnsh\n",
    "print(f'Концентрация пропантиола в воде: {C_pnsh_on_aqueous_phase_2_30_hysys:.5g} моль/л (hysys)')\n",
    "\n",
    "pnsh_frac_liquid_phase_2_30_hysys = frac_liquid_phase_hysys_2_30 / 100\n",
    "C_pnsh_on_liquid_phase_2_30_hysys = pnsh_frac_liquid_phase_2_30_hysys * rho_liquid_phase_2_30 / MW_pnsh\n",
    "print(f'Концентрация пропантиола в октане: {C_pnsh_on_liquid_phase_2_30_hysys:.5g} моль/л (hysys)')\n",
    "\n",
    "m_2_30_hysys = C_pnsh_on_liquid_phase_2_30_hysys / C_pnsh_on_aqueous_phase_2_30_hysys\n",
    "print(f'Коэффициент распределения: {m_2_30_hysys:.2g} (hysys)')"
   ],
   "outputs": [
    {
     "name": "stdout",
     "output_type": "stream",
     "text": [
      "2,16 % NaOH\n",
      "30\n",
      "-----------#Исходнй состав-----------\n",
      "-----------Водная фаза - 10.32, грамм:\n",
      "Вода: 10.32 грамм,  100 % мас.\n",
      "-----------Органическая фаза фаза - 7.1194 грамм:\n",
      "Октан 6.9589, грамм,  97.745 % мас.\n",
      "Пропантиол 0.16054, грамм,  2.2549 % мас.\n",
      "-----------#Равновесный состав-----------\n",
      "-----------Водная фаза - 10.445, грамм:\n",
      "Вода 10.32 грамм, 98.804 % мас.\n",
      "Пропантиол 0.12491 грамм, 1.2103 % мас.\n",
      "-----------Органическая фаза фаза - 6.9945 грамм:\n",
      "Октан 6.9589 грамм, 99.491 % мас.\n",
      "Пропантиол 0.035629 грамм, 0.50045 % мас.\n",
      "-----------#При равновесии по hysys-----------\n",
      "0.1317 грамм, 1.2605 % масс пропантиола в воде\n",
      "0.0288 грамм, 0.41211 % масс пропантиола в октане\n",
      "Концентрация NaOH в воде: 0.55192 моль/л\n",
      "Концентрация пропантиола в воде: 0.16114 моль/л\n",
      "Концентрация пропантиола в октане: 0.044105 моль/л\n",
      "Коэффициент распределения: 0.27\n",
      "Концентрация пропантиола в воде: 0.16783 моль/л (hysys)\n",
      "Концентрация пропантиола в октане: 0.036319 моль/л (hysys)\n",
      "Коэффициент распределения: 0.22 (hysys)\n"
     ]
    }
   ],
   "execution_count": 22
  },
  {
   "cell_type": "code",
   "id": "9a69a361517c5e9d",
   "metadata": {
    "ExecuteTime": {
     "end_time": "2025-06-18T17:56:12.376504Z",
     "start_time": "2025-06-18T17:56:12.371101Z"
    }
   },
   "source": [
    "print(f'3 % NaOH')\n",
    "print(f'30')\n",
    "exp_3_30 = main.exp_calc(16.3573, 1.4723, 26.8473, 35.4682, feed_pnsh_frac, 0.1092)\n",
    "\n",
    "print('-----------##Равновесный состав по hysys-----------')\n",
    "equilibrium_aqueous_phase_mass_hysys_3_30, frac_aqueous_phase_hysys_3_30 = 0.1436, 1.350223\n",
    "print(f'{equilibrium_aqueous_phase_mass_hysys_3_30:.5g} грамм, {frac_aqueous_phase_hysys_3_30:.5g} % масс пропантиола в воде')\n",
    "\n",
    "equilibrium_liquid_phase_mass_hysys_3_30, frac_liquid_phase_hysys_3_30 = 0.0176, 0.251626\n",
    "print(f'{equilibrium_liquid_phase_mass_hysys_3_30:.5g} грамм, {frac_liquid_phase_hysys_3_30:.5g} % масс пропантиола в октане')\n",
    "\n",
    "NaOH_frac_aqueous_phase_3_30 = 3 / 100\n",
    "rho_NaOH_3_30 = 1031\n",
    "C_NaOH_on_aqueous_phase_3_30 = NaOH_frac_aqueous_phase_3_30 * rho_NaOH_3_30 / MW_NaOH\n",
    "print(f'Концентрация NaOH в воде: {C_NaOH_on_aqueous_phase_3_30:.5g} моль/л')\n",
    "\n",
    "pnsh_frac_aqueous_phase_3_30 = exp_3_30[0] / 100\n",
    "rho_aqueous_phase_3_30 = 1023\n",
    "C_pnsh_on_aqueous_phase_3_30 = pnsh_frac_aqueous_phase_3_30 * rho_aqueous_phase_3_30 / MW_pnsh\n",
    "print(f'Концентрация пропантиола в воде: {C_pnsh_on_aqueous_phase_3_30:.5g} моль/л')\n",
    "\n",
    "pnsh_frac_liquid_phase_3_30 = exp_3_30[1] / 100\n",
    "rho_liquid_phase_3_30 = 671.0\n",
    "C_pnsh_on_liquid_phase_3_30 = pnsh_frac_liquid_phase_3_30 * rho_liquid_phase_3_30 / MW_pnsh\n",
    "print(f'Концентрация пропантиола в октане: {C_pnsh_on_liquid_phase_3_30:.5g} моль/л')\n",
    "\n",
    "m_3_30 = C_pnsh_on_liquid_phase_3_30 / C_pnsh_on_aqueous_phase_3_30\n",
    "print(f'Коэффициент распределения: {m_3_30:.2g}')\n",
    "\n",
    "pnsh_frac_aqueous_phase_3_30_hysys = frac_aqueous_phase_hysys_3_30 / 100\n",
    "C_pnsh_on_aqueous_phase_3_30_hysys = pnsh_frac_aqueous_phase_3_30_hysys * rho_aqueous_phase_3_30 / MW_pnsh\n",
    "print(f'Концентрация пропантиола в воде: {C_pnsh_on_aqueous_phase_3_30_hysys:.5g} моль/л (hysys)')\n",
    "\n",
    "pnsh_frac_liquid_phase_3_30_hysys = frac_liquid_phase_hysys_3_30 / 100\n",
    "C_pnsh_on_liquid_phase_3_30_hysys = pnsh_frac_liquid_phase_3_30_hysys * rho_liquid_phase_3_30 / MW_pnsh\n",
    "print(f'Концентрация пропантиола в октане: {C_pnsh_on_liquid_phase_3_30_hysys:.5g} моль/л (hysys)')\n",
    "\n",
    "m_3_30_hysys = C_pnsh_on_liquid_phase_3_30_hysys / C_pnsh_on_aqueous_phase_3_30_hysys\n",
    "print(f'Коэффициент распределения: {m_3_30_hysys:.2g} (hysys)')"
   ],
   "outputs": [
    {
     "name": "stdout",
     "output_type": "stream",
     "text": [
      "3 % NaOH\n",
      "30\n",
      "-----------#Исходнй состав-----------\n",
      "-----------Водная фаза - 10.49, грамм:\n",
      "Вода: 10.49 грамм,  100 % мас.\n",
      "-----------Органическая фаза фаза - 7.1486 грамм:\n",
      "Октан 6.9874, грамм,  97.745 % мас.\n",
      "Пропантиол 0.16119, грамм,  2.2549 % мас.\n",
      "-----------#Равновесный состав-----------\n",
      "-----------Водная фаза - 10.633, грамм:\n",
      "Вода 10.49 грамм, 98.658 % мас.\n",
      "Пропантиол 0.14265 грамм, 1.3599 % мас.\n",
      "-----------Органическая фаза фаза - 7.0059 грамм:\n",
      "Октан 6.9874 грамм, 99.735 % мас.\n",
      "Пропантиол 0.018541 грамм, 0.25937 % мас.\n",
      "-----------##Равновесный состав по hysys-----------\n",
      "0.1436 грамм, 1.3502 % масс пропантиола в воде\n",
      "0.0176 грамм, 0.25163 % масс пропантиола в октане\n",
      "Концентрация NaOH в воде: 0.77331 моль/л\n",
      "Концентрация пропантиола в воде: 0.18267 моль/л\n",
      "Концентрация пропантиола в октане: 0.022851 моль/л\n",
      "Коэффициент распределения: 0.13\n",
      "Концентрация пропантиола в воде: 0.18137 моль/л (hysys)\n",
      "Концентрация пропантиола в октане: 0.022169 моль/л (hysys)\n",
      "Коэффициент распределения: 0.12 (hysys)\n"
     ]
    }
   ],
   "execution_count": 23
  },
  {
   "cell_type": "code",
   "id": "462237e353ae0dc8",
   "metadata": {
    "ExecuteTime": {
     "end_time": "2025-06-18T17:56:12.414858Z",
     "start_time": "2025-06-18T17:56:12.410498Z"
    }
   },
   "source": [
    "print(f'4,16 % NaOH')\n",
    "print(f'30')\n",
    "exp_4_30 = main.exp_calc(16.1915, 1.4752, 26.7573, 35.2885, feed_pnsh_frac, 0.0780)\n",
    "\n",
    "print('-----------##Равновесный состав по hysys-----------')\n",
    "equilibrium_aqueous_phase_mass_hysys_4_30, frac_aqueous_phase_hysys_4_30 = 0.1494, 1.394626\n",
    "print(f'{equilibrium_aqueous_phase_mass_hysys_4_30:.5g} грамм, {frac_aqueous_phase_hysys_4_30:.5g} % масс пропантиола в воде')\n",
    "\n",
    "equilibrium_liquid_phase_mass_hysys_4_30, frac_liquid_phase_hysys_4_30 = 0.0097, 0.140097\n",
    "print(f'{equilibrium_liquid_phase_mass_hysys_4_30:.5g} грамм, {frac_liquid_phase_hysys_4_30:.5g} % масс пропантиола в октане')\n",
    "\n",
    "NaOH_frac_aqueous_phase_4_30 = 4.16 / 100\n",
    "rho_NaOH_4_30 = 1045\n",
    "C_NaOH_on_aqueous_phase_4_30 = NaOH_frac_aqueous_phase_4_30 * rho_NaOH_4_30 / MW_NaOH\n",
    "print(f'Концентрация NaOH в воде: {C_NaOH_on_aqueous_phase_4_30:.5g} моль/л')\n",
    "\n",
    "pnsh_frac_aqueous_phase_4_30 = exp_4_30[0] / 100\n",
    "rho_aqueous_phase_4_30 = 1035\n",
    "C_pnsh_on_aqueous_phase_4_30 = pnsh_frac_aqueous_phase_4_30 * rho_aqueous_phase_4_30 / MW_pnsh\n",
    "print(f'Концентрация пропантиола в воде: {C_pnsh_on_aqueous_phase_4_30:.5g} моль/л')\n",
    "\n",
    "pnsh_frac_liquid_phase_4_30 = exp_4_30[1] / 100\n",
    "rho_liquid_phase_4_30 = 671\n",
    "C_pnsh_on_liquid_phase_4_30 = pnsh_frac_liquid_phase_4_30 * rho_liquid_phase_4_30 / MW_pnsh\n",
    "print(f'Концентрация пропантиола в октане: {C_pnsh_on_liquid_phase_4_30:.5g} моль/л')\n",
    "\n",
    "m_4_30 = C_pnsh_on_liquid_phase_4_30 / C_pnsh_on_aqueous_phase_4_30\n",
    "print(f'Коэффициент распределения: {m_4_30:.2g}')\n",
    "\n",
    "pnsh_frac_aqueous_phase_4_30_hysys = frac_aqueous_phase_hysys_4_30 / 100\n",
    "C_pnsh_on_aqueous_phase_4_30_hysys = pnsh_frac_aqueous_phase_4_30_hysys * rho_aqueous_phase_4_30 / MW_pnsh\n",
    "print(f'Концентрация пропантиола в воде: {C_pnsh_on_aqueous_phase_4_30_hysys:.5g} моль/л (hysys)')\n",
    "\n",
    "pnsh_frac_liquid_phase_4_30_hysys = frac_liquid_phase_hysys_4_30 / 100\n",
    "C_pnsh_on_liquid_phase_4_30_hysys = pnsh_frac_liquid_phase_4_30 * rho_liquid_phase_4_30 / MW_pnsh\n",
    "print(f'Концентрация пропантиола в октане: {C_pnsh_on_liquid_phase_4_30_hysys:.5g} моль/л (hysys)')\n",
    "\n",
    "m_4_30_hysys = C_pnsh_on_liquid_phase_4_30_hysys / C_pnsh_on_aqueous_phase_4_30_hysys\n",
    "print(f'Коэффициент распределения: {m_4_30_hysys:.2g} (hysys)')"
   ],
   "outputs": [
    {
     "name": "stdout",
     "output_type": "stream",
     "text": [
      "4,16 % NaOH\n",
      "30\n",
      "-----------#Исходнй состав-----------\n",
      "-----------Водная фаза - 10.566, грамм:\n",
      "Вода: 10.566 грамм,  100 % мас.\n",
      "-----------Органическая фаза фаза - 7.056 грамм:\n",
      "Октан 6.8969, грамм,  97.745 % мас.\n",
      "Пропантиол 0.15911, грамм,  2.2549 % мас.\n",
      "-----------#Равновесный состав-----------\n",
      "-----------Водная фаза - 10.712, грамм:\n",
      "Вода 10.566 грамм, 98.637 % мас.\n",
      "Пропантиол 0.14603 грамм, 1.3821 % мас.\n",
      "-----------Органическая фаза фаза - 6.91 грамм:\n",
      "Октан 6.8969 грамм, 99.811 % мас.\n",
      "Пропантиол 0.013072 грамм, 0.18526 % мас.\n",
      "-----------##Равновесный состав по hysys-----------\n",
      "0.1494 грамм, 1.3946 % масс пропантиола в воде\n",
      "0.0097 грамм, 0.1401 % масс пропантиола в октане\n",
      "Концентрация NaOH в воде: 1.0869 моль/л\n",
      "Концентрация пропантиола в воде: 0.18783 моль/л\n",
      "Концентрация пропантиола в октане: 0.016322 моль/л\n",
      "Коэффициент распределения: 0.087\n",
      "Концентрация пропантиола в воде: 0.18953 моль/л (hysys)\n",
      "Концентрация пропантиола в октане: 0.016322 моль/л (hysys)\n",
      "Коэффициент распределения: 0.086 (hysys)\n"
     ]
    }
   ],
   "execution_count": 24
  },
  {
   "cell_type": "code",
   "id": "c14bfb691c3952e3",
   "metadata": {
    "ExecuteTime": {
     "end_time": "2025-06-18T17:56:12.452474Z",
     "start_time": "2025-06-18T17:56:12.447254Z"
    }
   },
   "source": [
    "print(f'6 % NaOH')\n",
    "print(f'30')\n",
    "exp_6_30 = main.exp_calc(16.2785, 1.4828, 27.0928, 35.6924, feed_pnsh_frac, 0.0353)\n",
    "\n",
    "print('-----------##Равновесный состав по hysys-----------')\n",
    "equilibrium_aqueous_phase_mass_hysys_6_30, frac_aqueous_phase_hysys_6_30 = 0.1559, 1.421267\n",
    "print(f'{equilibrium_aqueous_phase_mass_hysys_6_30:.5g} грамм, {frac_aqueous_phase_hysys_6_30:.5g} % масс пропантиола в воде')\n",
    "\n",
    "equilibrium_liquid_phase_mass_hysys_6_30, frac_liquid_phase_hysys_6_30 = 0.0046, 0.06573\n",
    "print(f'{equilibrium_liquid_phase_mass_hysys_6_30:.5g} грамм, {frac_liquid_phase_hysys_6_30:.5g} % масс пропантиола в октане')\n",
    "\n",
    "NaOH_frac_aqueous_phase_6_30 = 6 / 100\n",
    "rho_NaOH_6_30 = 1065\n",
    "C_NaOH_on_aqueous_phase_6_30 = NaOH_frac_aqueous_phase_6_30 * rho_NaOH_6_30 / MW_NaOH\n",
    "print(f'Концентрация NaOH в воде: {C_NaOH_on_aqueous_phase_6_30:.5g} моль/л')\n",
    "\n",
    "pnsh_frac_aqueous_phase_6_30 = exp_6_30[0] / 100\n",
    "rho_aqueous_phase_6_30 = 1056\n",
    "C_pnsh_on_aqueous_phase_6_30 = pnsh_frac_aqueous_phase_6_30 * rho_aqueous_phase_6_30 / MW_pnsh\n",
    "print(f'Концентрация пропантиола в воде: {C_pnsh_on_aqueous_phase_6_30:.5g} моль/л')\n",
    "\n",
    "pnsh_frac_liquid_phase_6_30 = exp_6_30[1] / 100\n",
    "rho_liquid_phase_6_30 = 671.3\n",
    "C_pnsh_on_liquid_phase_6_30 = pnsh_frac_liquid_phase_6_30 * rho_liquid_phase_6_30 / MW_pnsh\n",
    "print(f'Концентрация пропантиола в октане: {C_pnsh_on_liquid_phase_6_30:.5g} моль/л')\n",
    "\n",
    "m_6_30 = C_pnsh_on_liquid_phase_6_30 / C_pnsh_on_aqueous_phase_6_30\n",
    "print(f'Коэффициент распределения: {m_6_30:.2g}')\n",
    "\n",
    "pnsh_frac_aqueous_phase_6_30_hysys = frac_aqueous_phase_hysys_6_30 / 100\n",
    "C_pnsh_on_aqueous_phase_6_30_hysys = pnsh_frac_aqueous_phase_6_30_hysys * rho_aqueous_phase_6_30 / MW_pnsh\n",
    "print(f'Концентрация пропантиола в воде: {C_pnsh_on_aqueous_phase_6_30_hysys:.5g} моль/л (hysys)')\n",
    "\n",
    "pnsh_frac_liquid_phase_6_30_hysys = frac_liquid_phase_hysys_6_30 / 100\n",
    "C_pnsh_on_liquid_phase_6_30_hysys = pnsh_frac_liquid_phase_6_30_hysys * rho_liquid_phase_6_30 / MW_pnsh\n",
    "print(f'Концентрация пропантиола в октане: {C_pnsh_on_liquid_phase_6_30_hysys:.5g} моль/л (hysys)')\n",
    "\n",
    "m_6_30_hysys = C_pnsh_on_liquid_phase_6_30_hysys / C_pnsh_on_aqueous_phase_6_30_hysys\n",
    "print(f'Коэффициент распределения: {m_6_30_hysys:.2g} (hysys)')"
   ],
   "outputs": [
    {
     "name": "stdout",
     "output_type": "stream",
     "text": [
      "6 % NaOH\n",
      "30\n",
      "-----------#Исходнй состав-----------\n",
      "-----------Водная фаза - 10.814, грамм:\n",
      "Вода: 10.814 грамм,  100 % мас.\n",
      "-----------Органическая фаза фаза - 7.1168 грамм:\n",
      "Октан 6.9563, грамм,  97.745 % мас.\n",
      "Пропантиол 0.16048, грамм,  2.2549 % мас.\n",
      "-----------#Равновесный состав-----------\n",
      "-----------Водная фаза - 10.969, грамм:\n",
      "Вода 10.814 грамм, 98.591 % мас.\n",
      "Пропантиол 0.15451 грамм, 1.4288 % мас.\n",
      "-----------Органическая фаза фаза - 6.9623 грамм:\n",
      "Октан 6.9563 грамм, 99.914 % мас.\n",
      "Пропантиол 0.005967 грамм, 0.083844 % мас.\n",
      "-----------##Равновесный состав по hysys-----------\n",
      "0.1559 грамм, 1.4213 % масс пропантиола в воде\n",
      "0.0046 грамм, 0.06573 % масс пропантиола в октане\n",
      "Концентрация NaOH в воде: 1.5976 моль/л\n",
      "Концентрация пропантиола в воде: 0.19811 моль/л\n",
      "Концентрация пропантиола в октане: 0.0073903 моль/л\n",
      "Коэффициент распределения: 0.037\n",
      "Концентрация пропантиола в воде: 0.19707 моль/л (hysys)\n",
      "Концентрация пропантиола в октане: 0.0057937 моль/л (hysys)\n",
      "Коэффициент распределения: 0.029 (hysys)\n"
     ]
    }
   ],
   "execution_count": 25
  },
  {
   "cell_type": "code",
   "id": "e1e9f8e7d4a7ec41",
   "metadata": {
    "ExecuteTime": {
     "end_time": "2025-06-18T17:56:12.489757Z",
     "start_time": "2025-06-18T17:56:12.484060Z"
    }
   },
   "source": [
    "print(f'Концентрация NaOH 8.59 % масс')\n",
    "print(f'30')\n",
    "exp8_30 = main.exp_calc(16.3655, 1.4904, 27.4283, 36.0962, feed_pnsh_frac, 0.0203)\n",
    "\n",
    "print('-----------##Равновесный состав по hysys-----------')\n",
    "equilibrium_aqueous_phase_mass_hysys_8_30, frac_aqueous_phase_hysys_8_30 = 0.1599, 1.425\n",
    "print(f'{equilibrium_aqueous_phase_mass_hysys_8_30:.5g} грамм, {frac_aqueous_phase_hysys_8_30:.5g} % масс пропантиола в воде')\n",
    "\n",
    "equilibrium_liquid_phase_mass_hysys_8_30, frac_liquid_phase_hysys_8_30 = 0.001928, 0.027473\n",
    "print(f'{equilibrium_liquid_phase_mass_hysys_8_30:.5g} грамм, {frac_liquid_phase_hysys_8_30:.5g} % масс пропантиола в октане')\n",
    "\n",
    "NaOH_frac_aqueous_phase_8_30 = 8.59 / 100\n",
    "rho_NaOH_8_30 = 1090\n",
    "C_NaOH_on_aqueous_phase_8_30 = NaOH_frac_aqueous_phase_8_30 * rho_NaOH_8_30 / MW_NaOH\n",
    "print(f'Концентрация NaOH в воде: {C_NaOH_on_aqueous_phase_8_30:.5g} моль/л')\n",
    "\n",
    "pnsh_frac_aqueous_phase_8_30 = exp8_30[0] / 100\n",
    "rho_aqueous_phase_8_30 = 1083\n",
    "C_pnsh_on_aqueous_phase_8_30 = pnsh_frac_aqueous_phase_8_30 * rho_aqueous_phase_8_30 / MW_pnsh\n",
    "print(f'Концентрация пропантиола в воде: {C_pnsh_on_aqueous_phase_8_30:.5g} моль/л')\n",
    "\n",
    "pnsh_frac_liquid_phase_8_30 = exp8_30[1] / 100\n",
    "rho_liquid_phase_8_30 = 671.7\n",
    "C_pnsh_on_liquid_phase_8_30 = pnsh_frac_liquid_phase_8_30 * rho_liquid_phase_8_30 / MW_pnsh\n",
    "print(f'Концентрация пропантиола в октане: {C_pnsh_on_liquid_phase_8_30:.5g} моль/л')\n",
    "\n",
    "m_8_30 = C_pnsh_on_liquid_phase_8_30 / C_pnsh_on_aqueous_phase_8_30\n",
    "print(f'Коэффициент распределения: {m_8_30:.2g}')\n",
    "\n",
    "pnsh_frac_aqueous_phase_8_30_hysys = frac_aqueous_phase_hysys_8_30 / 100\n",
    "C_pnsh_on_aqueous_phase_8_30_hysys = pnsh_frac_aqueous_phase_8_30_hysys * rho_aqueous_phase_8_30 / MW_pnsh\n",
    "print(f'Концентрация пропантиола в воде: {C_pnsh_on_aqueous_phase_8_30_hysys:.5g} моль/л (hysys)')\n",
    "\n",
    "pnsh_frac_liquid_phase_8_30_hysys = frac_liquid_phase_hysys_8_30 / 100\n",
    "C_pnsh_on_liquid_phase_8_30_hysys = pnsh_frac_liquid_phase_8_30_hysys * rho_liquid_phase_8_30 / MW_pnsh\n",
    "print(f'Концентрация пропантиола в октане: {C_pnsh_on_liquid_phase_8_30_hysys:.5g} моль/л (hysys)')\n",
    "\n",
    "m_8_30_hysys = C_pnsh_on_liquid_phase_8_30_hysys / C_pnsh_on_aqueous_phase_8_30_hysys\n",
    "print(f'Коэффициент распределения: {m_8_30_hysys:.2g} (hysys)')"
   ],
   "outputs": [
    {
     "name": "stdout",
     "output_type": "stream",
     "text": [
      "Концентрация NaOH 8.59 % масс\n",
      "30\n",
      "-----------#Исходнй состав-----------\n",
      "-----------Водная фаза - 11.063, грамм:\n",
      "Вода: 11.063 грамм,  100 % мас.\n",
      "-----------Органическая фаза фаза - 7.1775 грамм:\n",
      "Октан 7.0157, грамм,  97.745 % мас.\n",
      "Пропантиол 0.16185, грамм,  2.2549 % мас.\n",
      "-----------#Равновесный состав-----------\n",
      "-----------Водная фаза - 11.221, грамм:\n",
      "Вода 11.063 грамм, 98.589 % мас.\n",
      "Пропантиол 0.15839 грамм, 1.4317 % мас.\n",
      "-----------Органическая фаза фаза - 7.0191 грамм:\n",
      "Октан 7.0157 грамм, 99.951 % мас.\n",
      "Пропантиол 0.0034607 грамм, 0.048216 % мас.\n",
      "-----------##Равновесный состав по hysys-----------\n",
      "0.1599 грамм, 1.425 % масс пропантиола в воде\n",
      "0.001928 грамм, 0.027473 % масс пропантиола в октане\n",
      "Концентрация NaOH в воде: 2.3409 моль/л\n",
      "Концентрация пропантиола в воде: 0.20359 моль/л\n",
      "Концентрация пропантиола в октане: 0.0042525 моль/л\n",
      "Коэффициент распределения: 0.021\n",
      "Концентрация пропантиола в воде: 0.20264 моль/л (hysys)\n",
      "Концентрация пропантиола в октане: 0.002423 моль/л (hysys)\n",
      "Коэффициент распределения: 0.012 (hysys)\n"
     ]
    }
   ],
   "execution_count": 26
  },
  {
   "cell_type": "code",
   "id": "d9118e6183fefad4",
   "metadata": {
    "ExecuteTime": {
     "end_time": "2025-06-18T17:56:12.529252Z",
     "start_time": "2025-06-18T17:56:12.523743Z"
    }
   },
   "source": [
    "print(f'Концентрация NaOH 10.18 % масс')\n",
    "print(f'30')\n",
    "exp10_30 = main.exp_calc(16.5618, 1.4908, 27.7904, 36.4187, feed_pnsh_frac, 0.0207)\n",
    "\n",
    "print('-----------##Равновесный состав по hysys-----------')\n",
    "equilibrium_aqueous_phase_mass_hysys_10_30, frac_aqueous_phase_hysys_10_30 = 0.1606, 1.431164\n",
    "print(f'{equilibrium_aqueous_phase_mass_hysys_10_30:.5g} грамм, {frac_aqueous_phase_hysys_10_30:.5g} % масс пропантиола в воде')\n",
    "\n",
    "equilibrium_liquid_phase_mass_hysys_10_30, frac_liquid_phase_hysys_10_30 = 0.001225, 0.017459\n",
    "print(f'{equilibrium_liquid_phase_mass_hysys_10_30:.5g} грамм, {frac_liquid_phase_hysys_10_30:.5g} % масс пропантиола в октане')\n",
    "\n",
    "NaOH_frac_aqueous_phase_10_30 = 10.18 / 100\n",
    "rho_NaOH_10_30 = 1111\n",
    "C_NaOH_on_aqueous_phase_10_30 = NaOH_frac_aqueous_phase_10_30 * rho_NaOH_10_30 / MW_NaOH\n",
    "print(f'Концентрация NaOH в воде: {C_NaOH_on_aqueous_phase_10_30:.5g} моль/л')\n",
    "\n",
    "pnsh_frac_aqueous_phase_10_30 = exp10_30[0] / 100\n",
    "rho_aqueous_phase_10_30 = 1100\n",
    "C_pnsh_on_aqueous_phase_10_30 = pnsh_frac_aqueous_phase_10_30 * rho_aqueous_phase_10_30 / MW_pnsh\n",
    "print(f'Концентрация пропантиола в воде: {C_pnsh_on_aqueous_phase_10_30:.5g} моль/л')\n",
    "\n",
    "pnsh_frac_liquid_phase_10_30 = exp10_30[1] / 100\n",
    "rho_liquid_phase_10_30 = 672.0\n",
    "C_pnsh_on_liquid_phase_10_30 = pnsh_frac_liquid_phase_10_30 * rho_liquid_phase_10_30 / MW_pnsh\n",
    "print(f'Концентрация пропантиола в октане: {C_pnsh_on_liquid_phase_10_30:.5g} моль/л')\n",
    "\n",
    "m_10_30 = C_pnsh_on_liquid_phase_10_30 / C_pnsh_on_aqueous_phase_10_30\n",
    "print(f'Коэффициент распределения: {m_10_30:.2g}')\n",
    "\n",
    "pnsh_frac_aqueous_phase_10_30_hysys = frac_aqueous_phase_hysys_10_30 / 100\n",
    "C_pnsh_on_aqueous_phase_10_30_hysys = pnsh_frac_aqueous_phase_10_30_hysys * rho_aqueous_phase_10_30 / MW_pnsh\n",
    "print(f'Концентрация пропантиола в воде: {C_pnsh_on_aqueous_phase_10_30_hysys:.5g} моль/л (hysys)')\n",
    "\n",
    "pnsh_frac_liquid_phase_10_30_hysys = frac_liquid_phase_hysys_10_30 / 100\n",
    "C_pnsh_on_liquid_phase_10_30_hysys = pnsh_frac_liquid_phase_10_30_hysys * rho_liquid_phase_10_30 / MW_pnsh\n",
    "print(f'Концентрация пропантиола в октане: {C_pnsh_on_liquid_phase_10_30_hysys:.5g} моль/л (hysys)')\n",
    "\n",
    "m_10_30_hysys = C_pnsh_on_liquid_phase_10_30_hysys / C_pnsh_on_aqueous_phase_10_30_hysys\n",
    "print(f'Коэффициент распределения: {m_10_30_hysys:.2g} (hysys)')"
   ],
   "outputs": [
    {
     "name": "stdout",
     "output_type": "stream",
     "text": [
      "Концентрация NaOH 10.18 % масс\n",
      "30\n",
      "-----------#Исходнй состав-----------\n",
      "-----------Водная фаза - 11.229, грамм:\n",
      "Вода: 11.229 грамм,  100 % мас.\n",
      "-----------Органическая фаза фаза - 7.1375 грамм:\n",
      "Октан 6.9766, грамм,  97.745 % мас.\n",
      "Пропантиол 0.16094, грамм,  2.2549 % мас.\n",
      "-----------#Равновесный состав-----------\n",
      "-----------Водная фаза - 11.386, грамм:\n",
      "Вода 11.229 грамм, 98.617 % мас.\n",
      "Пропантиол 0.15744 грамм, 1.4021 % мас.\n",
      "-----------Органическая фаза фаза - 6.9801 грамм:\n",
      "Октан 6.9766 грамм, 99.95 % мас.\n",
      "Пропантиол 0.0035092 грамм, 0.049166 % мас.\n",
      "-----------##Равновесный состав по hysys-----------\n",
      "0.1606 грамм, 1.4312 % масс пропантиола в воде\n",
      "0.001225 грамм, 0.017459 % масс пропантиола в октане\n",
      "Концентрация NaOH в воде: 2.8277 моль/л\n",
      "Концентрация пропантиола в воде: 0.20251 моль/л\n",
      "Концентрация пропантиола в октане: 0.0043382 моль/л\n",
      "Коэффициент распределения: 0.021\n",
      "Концентрация пропантиола в воде: 0.20671 моль/л (hysys)\n",
      "Концентрация пропантиола в октане: 0.0015405 моль/л (hysys)\n",
      "Коэффициент распределения: 0.0075 (hysys)\n"
     ]
    }
   ],
   "execution_count": 27
  },
  {
   "cell_type": "code",
   "id": "cc75d05911816871",
   "metadata": {
    "ExecuteTime": {
     "end_time": "2025-06-18T17:56:12.579713Z",
     "start_time": "2025-06-18T17:56:12.574478Z"
    }
   },
   "source": [
    "print(f'Концентрация NaOH 12.84 % масс')\n",
    "print(f'30')\n",
    "exp13_30 = main.exp_calc(16.7581, 1.4912, 28.1525, 36.7412, feed_pnsh_frac, 0.0193)\n",
    "\n",
    "print('-----------##Равновесный состав по hysys-----------')\n",
    "equilibrium_aqueous_phase_mass_hysys_13_30, frac_aqueous_phase_hysys_13_30 = 0.1595, 1.380213\n",
    "print(f'{equilibrium_aqueous_phase_mass_hysys_13_30:.5g} грамм, {frac_aqueous_phase_hysys_13_30:.5g} % масс пропантиола в воде')\n",
    "\n",
    "equilibrium_liquid_phase_mass_hysys_13_30, frac_liquid_phase_hysys_13_30 = 0.000585, 0.00843\n",
    "print(f'{equilibrium_liquid_phase_mass_hysys_13_30:.5g} грамм, {frac_liquid_phase_hysys_13_30:.5g} % масс пропантиола в октане')\n",
    "\n",
    "NaOH_frac_aqueous_phase_13_30 = 12.84 / 100\n",
    "rho_NaOH_13_30 = 1139\n",
    "C_NaOH_on_aqueous_phase_13_30 = NaOH_frac_aqueous_phase_13_30 * rho_NaOH_13_30 / MW_NaOH\n",
    "print(f'Концентрация NaOH в воде: {C_NaOH_on_aqueous_phase_13_30:.5g} моль/л')\n",
    "\n",
    "pnsh_frac_aqueous_phase_13_30 = exp13_30[0] / 100\n",
    "rho_aqueous_phase_13_30 = 1129\n",
    "C_pnsh_on_aqueous_phase_13_30 = pnsh_frac_aqueous_phase_13_30 * rho_aqueous_phase_13_30 / MW_pnsh\n",
    "print(f'Концентрация пропантиола в воде: {C_pnsh_on_aqueous_phase_13_30:.5g} моль/л')\n",
    "\n",
    "pnsh_frac_liquid_phase_13_30 = exp13_30[1] / 100\n",
    "rho_liquid_phase_13_30 = 672.3\n",
    "C_pnsh_on_liquid_phase_13_30 = pnsh_frac_liquid_phase_13_30 * rho_liquid_phase_13_30 / MW_pnsh\n",
    "print(f'Концентрация пропантиола в октане: {C_pnsh_on_liquid_phase_13_30:.5g} моль/л')\n",
    "\n",
    "m_13_30 = C_pnsh_on_liquid_phase_13_30 / C_pnsh_on_aqueous_phase_13_30\n",
    "print(f'Коэффициент распределения: {m_13_30:.2g}')\n",
    "\n",
    "pnsh_frac_aqueous_phase_13_30_hysys = frac_aqueous_phase_hysys_13_30 / 100\n",
    "C_pnsh_on_aqueous_phase_13_30_hysys = pnsh_frac_aqueous_phase_13_30_hysys * rho_aqueous_phase_13_30 / MW_pnsh\n",
    "print(f'Концентрация пропантиола в воде: {C_pnsh_on_aqueous_phase_13_30_hysys:.5g} моль/л (hysys)')\n",
    "\n",
    "pnsh_frac_liquid_phase_13_30_hysys = frac_liquid_phase_hysys_13_30 / 100\n",
    "C_pnsh_on_liquid_phase_13_30_hysys = pnsh_frac_liquid_phase_13_30_hysys * rho_liquid_phase_13_30 / MW_pnsh\n",
    "print(f'Концентрация пропантиола в октане: {C_pnsh_on_liquid_phase_13_30_hysys:.5g} моль/л (hysys)')\n",
    "\n",
    "m_13_30_hysys = C_pnsh_on_liquid_phase_13_30_hysys / C_pnsh_on_aqueous_phase_13_30_hysys\n",
    "print(f'Коэффициент распределения: {m_13_30_hysys:.2g} (hysys)')"
   ],
   "outputs": [
    {
     "name": "stdout",
     "output_type": "stream",
     "text": [
      "Концентрация NaOH 12.84 % масс\n",
      "30\n",
      "-----------#Исходнй состав-----------\n",
      "-----------Водная фаза - 11.394, грамм:\n",
      "Вода: 11.394 грамм,  100 % мас.\n",
      "-----------Органическая фаза фаза - 7.0975 грамм:\n",
      "Октан 6.9375, грамм,  97.745 % мас.\n",
      "Пропантиол 0.16004, грамм,  2.2549 % мас.\n",
      "-----------#Равновесный состав-----------\n",
      "-----------Водная фаза - 11.551, грамм:\n",
      "Вода 11.394 грамм, 98.643 % мас.\n",
      "Пропантиол 0.15679 грамм, 1.376 % мас.\n",
      "-----------Органическая фаза фаза - 6.9407 грамм:\n",
      "Октан 6.9375 грамм, 99.953 % мас.\n",
      "Пропантиол 0.0032536 грамм, 0.045841 % мас.\n",
      "-----------##Равновесный состав по hysys-----------\n",
      "0.1595 грамм, 1.3802 % масс пропантиола в воде\n",
      "0.000585 грамм, 0.00843 % масс пропантиола в октане\n",
      "Концентрация NaOH в воде: 3.6565 моль/л\n",
      "Концентрация пропантиола в воде: 0.20398 моль/л\n",
      "Концентрация пропантиола в октане: 0.0040466 моль/л\n",
      "Коэффициент распределения: 0.02\n",
      "Концентрация пропантиола в воде: 0.2046 моль/л (hysys)\n",
      "Концентрация пропантиола в октане: 0.00074416 моль/л (hysys)\n",
      "Коэффициент распределения: 0.0036 (hysys)\n"
     ]
    }
   ],
   "execution_count": 28
  },
  {
   "cell_type": "code",
   "id": "4967a8133bdc14b6",
   "metadata": {
    "ExecuteTime": {
     "end_time": "2025-06-18T17:56:12.622603Z",
     "start_time": "2025-06-18T17:56:12.617602Z"
    }
   },
   "source": [
    "print(f'Концентрация NaOH 17.52 % масс')\n",
    "print(f'30')\n",
    "exp17_30 = main.exp_calc(16.1331, 1.42, 27.9650, 36.5462, feed_pnsh_frac, 0.0182)\n",
    "\n",
    "print('-----------##Равновесный состав по hysys-----------')\n",
    "equilibrium_aqueous_phase_mass_hysys_17_30, frac_aqueous_phase_hysys_17_30 = 0.1613, 1.344684\n",
    "print(f'{equilibrium_aqueous_phase_mass_hysys_17_30:.5g} грамм, {frac_aqueous_phase_hysys_17_30:.5g} % масс пропантиола в воде')\n",
    "\n",
    "equilibrium_liquid_phase_mass_hysys_17_30, frac_liquid_phase_hysys_17_30 = 0.000209, 0.002983\n",
    "print(f'{equilibrium_liquid_phase_mass_hysys_17_30:.5g} грамм, {frac_liquid_phase_hysys_17_30:.5g} % масс пропантиола в октане')\n",
    "\n",
    "NaOH_frac_aqueous_phase_17_30 = 12.84 / 100\n",
    "rho_NaOH_17_30 = 1189\n",
    "C_NaOH_on_aqueous_phase_17_30 = NaOH_frac_aqueous_phase_17_30 * rho_NaOH_17_30 / MW_NaOH\n",
    "print(f'Концентрация NaOH в воде: {C_NaOH_on_aqueous_phase_17_30:.5g} моль/л')\n",
    "\n",
    "pnsh_frac_aqueous_phase_17_30 = exp17_30[0] / 100\n",
    "rho_aqueous_phase_17_30 = 1178\n",
    "C_pnsh_on_aqueous_phase_17_30 = pnsh_frac_aqueous_phase_17_30 * rho_aqueous_phase_17_30 / MW_pnsh\n",
    "print(f'Концентрация пропантиола в воде: {C_pnsh_on_aqueous_phase_17_30:.5g} моль/л')\n",
    "\n",
    "pnsh_frac_liquid_phase_17_30 = exp17_30[1] / 100\n",
    "rho_liquid_phase_17_30 = 672.6\n",
    "C_pnsh_on_liquid_phase_17_30 = pnsh_frac_liquid_phase_17_30 * rho_liquid_phase_17_30 / MW_pnsh\n",
    "print(f'Концентрация пропантиола в октане: {C_pnsh_on_liquid_phase_17_30:.5g} моль/л')\n",
    "\n",
    "m_17_30 = C_pnsh_on_liquid_phase_17_30 / C_pnsh_on_aqueous_phase_17_30\n",
    "print(f'Коэффициент распределения: {m_17_30:.2g}')\n",
    "\n",
    "pnsh_frac_aqueous_phase_17_30_hysys = frac_aqueous_phase_hysys_17_30 / 100\n",
    "C_pnsh_on_aqueous_phase_17_30_hysys = pnsh_frac_aqueous_phase_17_30_hysys * rho_aqueous_phase_17_30 / MW_pnsh\n",
    "print(f'Концентрация пропантиола в воде: {C_pnsh_on_aqueous_phase_17_30_hysys:.5g} моль/л (hysys)')\n",
    "\n",
    "pnsh_frac_liquid_phase_17_30_hysys = frac_liquid_phase_hysys_17_30 / 100\n",
    "C_pnsh_on_liquid_phase_17_30_hysys = pnsh_frac_liquid_phase_17_30_hysys * rho_liquid_phase_17_30 / MW_pnsh\n",
    "print(f'Концентрация пропантиола в октане: {C_pnsh_on_liquid_phase_17_30_hysys:.5g} моль/л (hysys)')\n",
    "\n",
    "m_17_30_hysys = C_pnsh_on_liquid_phase_17_30_hysys / C_pnsh_on_aqueous_phase_17_30_hysys\n",
    "print(f'Коэффициент распределения: {m_17_30_hysys:.2g} (hysys)')"
   ],
   "outputs": [
    {
     "name": "stdout",
     "output_type": "stream",
     "text": [
      "Концентрация NaOH 17.52 % масс\n",
      "30\n",
      "-----------#Исходнй состав-----------\n",
      "-----------Водная фаза - 11.832, грамм:\n",
      "Вода: 11.832 грамм,  100 % мас.\n",
      "-----------Органическая фаза фаза - 7.1612 грамм:\n",
      "Октан 6.9997, грамм,  97.745 % мас.\n",
      "Пропантиол 0.16148, грамм,  2.2549 % мас.\n",
      "-----------#Равновесный состав-----------\n",
      "-----------Водная фаза - 11.99, грамм:\n",
      "Вода 11.832 грамм, 98.679 % мас.\n",
      "Пропантиол 0.15838 грамм, 1.3386 % мас.\n",
      "-----------Органическая фаза фаза - 7.0028 грамм:\n",
      "Октан 6.9997 грамм, 99.956 % мас.\n",
      "Пропантиол 0.0030957 грамм, 0.043228 % мас.\n",
      "-----------##Равновесный состав по hysys-----------\n",
      "0.1613 грамм, 1.3447 % масс пропантиола в воде\n",
      "0.000209 грамм, 0.002983 % масс пропантиола в октане\n",
      "Концентрация NaOH в воде: 3.817 моль/л\n",
      "Концентрация пропантиола в воде: 0.20705 моль/л\n",
      "Концентрация пропантиола в октане: 0.0038177 моль/л\n",
      "Коэффициент распределения: 0.018\n",
      "Концентрация пропантиола в воде: 0.20799 моль/л (hysys)\n",
      "Концентрация пропантиола в октане: 0.00026344 моль/л (hysys)\n",
      "Коэффициент распределения: 0.0013 (hysys)\n"
     ]
    }
   ],
   "execution_count": 29
  },
  {
   "cell_type": "code",
   "id": "e5f984457842022a",
   "metadata": {
    "ExecuteTime": {
     "end_time": "2025-06-18T17:56:12.671860Z",
     "start_time": "2025-06-18T17:56:12.668634Z"
    }
   },
   "source": [
    "pKa = 10.86\n",
    "K_a = 10**-pKa\n",
    "print(K_a)\n",
    "K_w = main.k_w(30)\n",
    "print(K_w)\n",
    "\n",
    "Na_frac = np.linspace(0, 4, 1000)\n",
    "m_d = main.m_calc(Na_frac, pnsh_frac_liquid_phase_30, K_a, K_w, m0)\n",
    "\n",
    "\n",
    "Exp_NaOH_frac = np.array([0, C_NaOH_on_aqueous_phase_1_30, C_NaOH_on_aqueous_phase_2_30, C_NaOH_on_aqueous_phase_3_30, C_NaOH_on_aqueous_phase_4_30, C_NaOH_on_aqueous_phase_6_30, C_NaOH_on_aqueous_phase_8_30, C_NaOH_on_aqueous_phase_10_30, C_NaOH_on_aqueous_phase_13_30, C_NaOH_on_aqueous_phase_17_30])\n",
    "Exp_m_d = np.array([m0, m_1_30, m_2_30, m_3_30, m_4_30, m_6_30, m_8_30, m_10_30, m_13_30, m_17_30])\n",
    "Exp_m_d_hysys = np.array([m0_hysys, m_1_30_hysys, m_2_30_hysys, m_3_30_hysys, m_4_30_hysys, m_6_30_hysys, m_8_30_hysys, m_10_30_hysys, m_13_30_hysys, m_17_30_hysys])"
   ],
   "outputs": [
    {
     "name": "stdout",
     "output_type": "stream",
     "text": [
      "1.3803842646028866e-11\n",
      "1.467588669460362e-14\n"
     ]
    }
   ],
   "execution_count": 30
  },
  {
   "cell_type": "code",
   "id": "9dc0feacadb5bdaa",
   "metadata": {
    "ExecuteTime": {
     "end_time": "2025-06-18T17:56:31.727949Z",
     "start_time": "2025-06-18T17:56:31.580714Z"
    }
   },
   "source": [
    "base_params = dict(\n",
    "        C_o0_HA = C_pnsh,\n",
    "        m0      = m0_hysys,\n",
    "        Ka      = 10**-pKa,\n",
    "        Kw      = main.k_w(30),\n",
    "        Vo      = 0.010,   # 10 мл органика\n",
    "        Vw      = 0.010    # 10 мл вода\n",
    "    )\n",
    "\n",
    "\n",
    "pH_list = []\n",
    "D_list = []\n",
    "\n",
    "for C_NaOH0 in Na_frac:\n",
    "    params = {**base_params, \"C_NaOH0\": C_NaOH0}\n",
    "    result = main.solve_equilibrium(**params)\n",
    "    #print(f\"C_NaOH0 = {C_NaOH0:.2f} моль/л:\")\n",
    "    #for k, v in result.items():\n",
    "        #print(f\"  {k:12s}: {v:.5g}\")\n",
    "    #print()\n",
    "\n",
    "    pH_list.append(result[\"pH\"])\n",
    "    D_list.append(result[\"m_D\"])\n"
   ],
   "outputs": [],
   "execution_count": 34
  },
  {
   "metadata": {
    "ExecuteTime": {
     "end_time": "2025-06-18T17:56:12.882938Z",
     "start_time": "2025-06-18T17:56:12.877935Z"
    }
   },
   "cell_type": "code",
   "source": [
    "base_params = dict(\n",
    "        Co_eq_HA = C_pnsh_on_liquid_phase_30,\n",
    "        P = m0,\n",
    "        Ka = 10**-pKa,\n",
    "        Kw = main.k_w(30)\n",
    "    )\n",
    "\n",
    "pH1_list = []\n",
    "D1_list = []\n",
    "\n",
    "for C_NaOH0 in Na_frac:\n",
    "    params = {**base_params, \"C_NaOH0\": C_NaOH0}\n",
    "    result = main.equilibrium_from_Co_eq(**params)\n",
    "    #print(f\"C_NaOH0 = {C_NaOH0:.2f} моль/л:\")\n",
    "    #for k, v in result.items():\n",
    "        #print(f\"  {k:12s}: {v:.5g}\")\n",
    "    #print()\n",
    "\n",
    "    pH1_list.append(result[\"pH\"])\n",
    "    D1_list.append(result[\"m_D\"])\n"
   ],
   "id": "6427559abdea0926",
   "outputs": [],
   "execution_count": 32
  },
  {
   "cell_type": "code",
   "id": "7cf8f41e-4c61-4e1a-a343-d0fdcf2a9936",
   "metadata": {
    "ExecuteTime": {
     "end_time": "2025-06-18T17:56:34.627910Z",
     "start_time": "2025-06-18T17:56:34.527862Z"
    }
   },
   "source": [
    "def mm_to_inch(mm):\n",
    "    return mm / 25.4\n",
    "\n",
    "plt.rcParams.update({\n",
    "    'font.family': 'sans-serif',\n",
    "    'font.sans-serif': ['Arial', 'Helvetica'],\n",
    "    'font.size': 7,\n",
    "    'axes.linewidth': 0.5,\n",
    "    'xtick.direction': 'in',\n",
    "    'ytick.direction': 'in',\n",
    "    'xtick.major.size': 3,\n",
    "    'ytick.major.size': 3,\n",
    "    'figure.dpi': 300,\n",
    "    'axes.grid': False,\n",
    "    'lines.linewidth': 1.0,\n",
    "    'axes.prop_cycle': plt.cycler('color', ['#0072B2', '#D55E00', '#CC79A7', '#F0E442'])\n",
    "})\n",
    "\n",
    "fig_width_mm = 89\n",
    "fig_height_mm = 60\n",
    "fig, ax = plt.subplots(figsize=(mm_to_inch(fig_width_mm), mm_to_inch(fig_height_mm)))\n",
    "\n",
    "#ax.set_xlim(0.146, 0.153)\n",
    "ax.set_ylim(0, 1.0)\n",
    "\n",
    "ax.plot(Na_frac, D1_list, label='GPT', color='Green', linestyle='-')\n",
    "ax.plot(Na_frac, D_list, label='GPT', color='Red', linestyle='-')\n",
    "ax.plot(Na_frac, m_d, label='расчет', color='Black', linestyle='-')\n",
    "ax.plot(Exp_NaOH_frac, Exp_m_d_hysys, label='hysys', color='Black', linestyle='--')\n",
    "ax.scatter(Exp_NaOH_frac, Exp_m_d, label='n-PnSH 30 °С', color='Red', marker='o')\n",
    "\n",
    "ax.set_xlabel('NaOH, моль/л')\n",
    "ax.set_ylabel('m_d')\n",
    "leg = ax.legend(frameon=False, fontsize=6)\n",
    "\n",
    "plt.tight_layout()\n"
   ],
   "outputs": [
    {
     "data": {
      "text/plain": [
       "<Figure size 1051.18x708.661 with 1 Axes>"
      ],
      "image/png": "[encoded data removed]"
     },
     "metadata": {},
     "output_type": "display_data"
    }
   ],
   "execution_count": 35
  }
 ],
 "metadata": {
  "kernelspec": {
   "display_name": "Python 3 (ipykernel)",
   "language": "python",
   "name": "python3"
  },
  "language_info": {
   "codemirror_mode": {
    "name": "ipython",
    "version": 3
   },
   "file_extension": ".py",
   "mimetype": "text/x-python",
   "name": "python",
   "nbconvert_exporter": "python",
   "pygments_lexer": "ipython3",
   "version": "3.12.5"
  }
 },
 "nbformat": 4,
 "nbformat_minor": 5
}
